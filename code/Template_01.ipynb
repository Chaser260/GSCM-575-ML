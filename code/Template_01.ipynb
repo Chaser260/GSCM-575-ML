{
 "cells": [
  {
   "attachments": {},
   "cell_type": "markdown",
   "metadata": {},
   "source": []
  },
  {
   "cell_type": "code",
   "execution_count": 13,
   "metadata": {},
   "outputs": [],
   "source": [
    "# Import packages\n",
    "import pandas as pd\n",
    "import seaborn as sns"
   ]
  },
  {
   "cell_type": "code",
   "execution_count": 5,
   "metadata": {},
   "outputs": [
    {
     "data": {
      "text/html": [
       "<div>\n",
       "<style scoped>\n",
       "    .dataframe tbody tr th:only-of-type {\n",
       "        vertical-align: middle;\n",
       "    }\n",
       "\n",
       "    .dataframe tbody tr th {\n",
       "        vertical-align: top;\n",
       "    }\n",
       "\n",
       "    .dataframe thead th {\n",
       "        text-align: right;\n",
       "    }\n",
       "</style>\n",
       "<table border=\"1\" class=\"dataframe\">\n",
       "  <thead>\n",
       "    <tr style=\"text-align: right;\">\n",
       "      <th></th>\n",
       "      <th>Name</th>\n",
       "      <th>Years</th>\n",
       "      <th>Gender</th>\n",
       "      <th>Dept</th>\n",
       "      <th>Salary</th>\n",
       "      <th>JobSat</th>\n",
       "      <th>Plan</th>\n",
       "      <th>Pre</th>\n",
       "      <th>Post</th>\n",
       "    </tr>\n",
       "  </thead>\n",
       "  <tbody>\n",
       "    <tr>\n",
       "      <th>0</th>\n",
       "      <td>Ritchie, Darnell</td>\n",
       "      <td>7.0</td>\n",
       "      <td>M</td>\n",
       "      <td>ADMN</td>\n",
       "      <td>53788.26</td>\n",
       "      <td>med</td>\n",
       "      <td>1</td>\n",
       "      <td>82</td>\n",
       "      <td>92</td>\n",
       "    </tr>\n",
       "    <tr>\n",
       "      <th>1</th>\n",
       "      <td>Wu, James</td>\n",
       "      <td>NaN</td>\n",
       "      <td>M</td>\n",
       "      <td>SALE</td>\n",
       "      <td>94494.58</td>\n",
       "      <td>low</td>\n",
       "      <td>1</td>\n",
       "      <td>62</td>\n",
       "      <td>74</td>\n",
       "    </tr>\n",
       "    <tr>\n",
       "      <th>2</th>\n",
       "      <td>Hoang, Binh</td>\n",
       "      <td>15.0</td>\n",
       "      <td>M</td>\n",
       "      <td>SALE</td>\n",
       "      <td>111074.86</td>\n",
       "      <td>low</td>\n",
       "      <td>3</td>\n",
       "      <td>96</td>\n",
       "      <td>97</td>\n",
       "    </tr>\n",
       "    <tr>\n",
       "      <th>3</th>\n",
       "      <td>Jones, Alissa</td>\n",
       "      <td>5.0</td>\n",
       "      <td>W</td>\n",
       "      <td>NaN</td>\n",
       "      <td>53772.58</td>\n",
       "      <td>NaN</td>\n",
       "      <td>1</td>\n",
       "      <td>65</td>\n",
       "      <td>62</td>\n",
       "    </tr>\n",
       "    <tr>\n",
       "      <th>4</th>\n",
       "      <td>Downs, Deborah</td>\n",
       "      <td>7.0</td>\n",
       "      <td>W</td>\n",
       "      <td>FINC</td>\n",
       "      <td>57139.90</td>\n",
       "      <td>high</td>\n",
       "      <td>2</td>\n",
       "      <td>90</td>\n",
       "      <td>86</td>\n",
       "    </tr>\n",
       "  </tbody>\n",
       "</table>\n",
       "</div>"
      ],
      "text/plain": [
       "               Name  Years Gender  Dept     Salary JobSat  Plan  Pre  Post\n",
       "0  Ritchie, Darnell    7.0      M  ADMN   53788.26    med     1   82    92\n",
       "1         Wu, James    NaN      M  SALE   94494.58    low     1   62    74\n",
       "2       Hoang, Binh   15.0      M  SALE  111074.86    low     3   96    97\n",
       "3     Jones, Alissa    5.0      W   NaN   53772.58    NaN     1   65    62\n",
       "4    Downs, Deborah    7.0      W  FINC   57139.90   high     2   90    86"
      ]
     },
     "execution_count": 5,
     "metadata": {},
     "output_type": "execute_result"
    }
   ],
   "source": [
    "# Read in employee file\n",
    "df = pd.read_excel('https://web.pdx.edu/~gerbing/data/employee.xlsx')\n",
    "df.head()"
   ]
  },
  {
   "cell_type": "code",
   "execution_count": 6,
   "metadata": {},
   "outputs": [
    {
     "data": {
      "text/plain": [
       "(37, 9)"
      ]
     },
     "execution_count": 6,
     "metadata": {},
     "output_type": "execute_result"
    }
   ],
   "source": [
    "# View data frame shape\n",
    "df.shape\n",
    "# 37 rows, 9 columns"
   ]
  },
  {
   "cell_type": "code",
   "execution_count": 11,
   "metadata": {},
   "outputs": [
    {
     "data": {
      "text/plain": [
       "Name       object\n",
       "Years     float64\n",
       "Gender     object\n",
       "Dept       object\n",
       "Salary    float64\n",
       "JobSat     object\n",
       "Plan        int64\n",
       "Pre         int64\n",
       "Post        int64\n",
       "dtype: object"
      ]
     },
     "execution_count": 11,
     "metadata": {},
     "output_type": "execute_result"
    }
   ],
   "source": [
    "# View data types\n",
    "df.dtypes"
   ]
  },
  {
   "cell_type": "code",
   "execution_count": 9,
   "metadata": {},
   "outputs": [
    {
     "name": "stdout",
     "output_type": "stream",
     "text": [
      "<class 'pandas.core.frame.DataFrame'>\n",
      "RangeIndex: 37 entries, 0 to 36\n",
      "Data columns (total 9 columns):\n",
      " #   Column  Non-Null Count  Dtype  \n",
      "---  ------  --------------  -----  \n",
      " 0   Name    37 non-null     object \n",
      " 1   Years   36 non-null     float64\n",
      " 2   Gender  37 non-null     object \n",
      " 3   Dept    36 non-null     object \n",
      " 4   Salary  37 non-null     float64\n",
      " 5   JobSat  35 non-null     object \n",
      " 6   Plan    37 non-null     int64  \n",
      " 7   Pre     37 non-null     int64  \n",
      " 8   Post    37 non-null     int64  \n",
      "dtypes: float64(2), int64(3), object(4)\n",
      "memory usage: 2.7+ KB\n"
     ]
    }
   ],
   "source": [
    "df.info()"
   ]
  },
  {
   "attachments": {},
   "cell_type": "markdown",
   "metadata": {},
   "source": [
    "### Visualize data for initial analysis"
   ]
  },
  {
   "cell_type": "code",
   "execution_count": 12,
   "metadata": {},
   "outputs": [
    {
     "data": {
      "text/plain": [
       "low     13\n",
       "med     11\n",
       "high    11\n",
       "Name: JobSat, dtype: int64"
      ]
     },
     "execution_count": 12,
     "metadata": {},
     "output_type": "execute_result"
    }
   ],
   "source": [
    "# Check the count of categorical variables\n",
    "df.JobSat.value_counts()\n",
    "# df['JobSat'].value_counts()\n",
    "# df.value_counts('JobSat')\n",
    "# pd.value_counts(df.JobSat)"
   ]
  },
  {
   "cell_type": "code",
   "execution_count": 14,
   "metadata": {},
   "outputs": [
    {
     "data": {
      "text/plain": [
       "<Axes: xlabel='JobSat', ylabel='count'>"
      ]
     },
     "execution_count": 14,
     "metadata": {},
     "output_type": "execute_result"
    },
    {
     "data": {
      "image/png": "[encoded data removed]",
      "text/plain": [
       "<Figure size 640x480 with 1 Axes>"
      ]
     },
     "metadata": {},
     "output_type": "display_data"
    }
   ],
   "source": [
    "# Create histogram\n",
    "sns.countplot(x='JobSat', data=df)"
   ]
  },
  {
   "cell_type": "code",
   "execution_count": 15,
   "metadata": {},
   "outputs": [
    {
     "data": {
      "text/plain": [
       "Name        object\n",
       "Years      float64\n",
       "Gender      object\n",
       "Dept        object\n",
       "Salary     float64\n",
       "JobSat    category\n",
       "Plan         int64\n",
       "Pre          int64\n",
       "Post         int64\n",
       "dtype: object"
      ]
     },
     "execution_count": 15,
     "metadata": {},
     "output_type": "execute_result"
    }
   ],
   "source": [
    "# define JobSat as a categorical variable so that it will be ordered properly in visualization\n",
    "df['JobSat'] = pd.Categorical(df['JobSat'], categories=['low', 'med', 'high'], ordered=True)\n",
    "df.dtypes"
   ]
  },
  {
   "cell_type": "code",
   "execution_count": 16,
   "metadata": {},
   "outputs": [
    {
     "data": {
      "text/plain": [
       "<Axes: xlabel='JobSat', ylabel='count'>"
      ]
     },
     "execution_count": 16,
     "metadata": {},
     "output_type": "execute_result"
    },
    {
     "data": {
      "image/png": "[encoded data removed]",
      "text/plain": [
       "<Figure size 640x480 with 1 Axes>"
      ]
     },
     "metadata": {},
     "output_type": "display_data"
    }
   ],
   "source": [
    "# Visualize in a histogram again to see result\n",
    "sns.countplot(x='JobSat', data = df)"
   ]
  },
  {
   "attachments": {},
   "cell_type": "markdown",
   "metadata": {},
   "source": [
    "### Continuous Variables"
   ]
  },
  {
   "cell_type": "code",
   "execution_count": 17,
   "metadata": {},
   "outputs": [
    {
     "data": {
      "text/plain": [
       "<Axes: xlabel='Salary', ylabel='Count'>"
      ]
     },
     "execution_count": 17,
     "metadata": {},
     "output_type": "execute_result"
    },
    {
     "data": {
      "image/png": "[encoded data removed]",
      "text/plain": [
       "<Figure size 640x480 with 1 Axes>"
      ]
     },
     "metadata": {},
     "output_type": "display_data"
    }
   ],
   "source": [
    "# Create histogram to view salary data\n",
    "sns.histplot(df, x='Salary')"
   ]
  },
  {
   "cell_type": "code",
   "execution_count": 18,
   "metadata": {},
   "outputs": [
    {
     "data": {
      "text/plain": [
       "<Axes: xlabel='Salary', ylabel='Count'>"
      ]
     },
     "execution_count": 18,
     "metadata": {},
     "output_type": "execute_result"
    },
    {
     "data": {
      "image/png": "[encoded data removed]",
      "text/plain": [
       "<Figure size 640x480 with 1 Axes>"
      ]
     },
     "metadata": {},
     "output_type": "display_data"
    }
   ],
   "source": [
    "# Adjust bin width to fix the last bin\n",
    "sns.histplot(df, x='Salary', binwidth=12000)\n",
    "# Output better represents the data"
   ]
  },
  {
   "cell_type": "code",
   "execution_count": 1,
   "metadata": {},
   "outputs": [
    {
     "data": {
      "text/plain": [
       "'/Users/chasecarlson/Documents/GSCM Course Materials/GSCM 575 Machine Learning in Business/Python Pjojects/GSCM-575-ML/code'"
      ]
     },
     "execution_count": 1,
     "metadata": {},
     "output_type": "execute_result"
    }
   ],
   "source": [
    "os.getcwd()"
   ]
  },
  {
   "cell_type": "code",
   "execution_count": null,
   "metadata": {},
   "outputs": [],
   "source": []
  }
 ],
 "metadata": {
  "kernelspec": {
   "display_name": "GSCM575-env",
   "language": "python",
   "name": "python3"
  },
  "language_info": {
   "codemirror_mode": {
    "name": "ipython",
    "version": 3
   },
   "file_extension": ".py",
   "mimetype": "text/x-python",
   "name": "python",
   "nbconvert_exporter": "python",
   "pygments_lexer": "ipython3",
   "version": "3.10.11 (main, May 17 2023, 14:30:36) [Clang 14.0.6 ]"
  },
  "orig_nbformat": 4,
  "vscode": {
   "interpreter": {
    "hash": "a87dc369cd14b942dbff8373bbfed58fbbccf4ffa1171535e30b698977cb5b70"
   }
  }
 },
 "nbformat": 4,
 "nbformat_minor": 2
}
