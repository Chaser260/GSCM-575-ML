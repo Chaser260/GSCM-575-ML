{
 "cells": [
  {
   "cell_type": "markdown",
   "metadata": {
    "id": "_USZAcGaNQMp"
   },
   "source": [
    "# Classification with the _sklearn_ ML Framework"
   ]
  },
  {
   "attachments": {},
   "cell_type": "markdown",
   "metadata": {
    "id": "eABcCXoeNQMq"
   },
   "source": [
    "<div id=\"author\"\">\n",
    "Chase Carlson<br>\n",
    "GSCM 575 - ML in Business<br>\n",
    "The School of Business<br>\n",
    "Portland State University\n",
    "</div>"
   ]
  },
  {
   "cell_type": "markdown",
   "metadata": {
    "id": "GQkRARU9NQMq",
    "toc": true
   },
   "source": [
    "<h1>Table of Contents<span class=\"tocSkip\"></span></h1>\n",
    "<div class=\"toc\"><ul class=\"toc-item\"><li><span><a href=\"#Preliminaries\" data-toc-modified-id=\"Preliminaries-1\"><span class=\"toc-item-num\">1&nbsp;&nbsp;</span>Preliminaries</a></span></li><li><span><a href=\"#Get-and-Structure-Data\" data-toc-modified-id=\"Get-and-Structure-Data-2\"><span class=\"toc-item-num\">2&nbsp;&nbsp;</span>Get and Structure Data</a></span></li><li><span><a href=\"#Grid-search:-Hyperparameter-tuning-with-cross-validation\" data-toc-modified-id=\"Grid-search:-Hyperparameter-tuning-with-cross-validation-3\"><span class=\"toc-item-num\">3&nbsp;&nbsp;</span>Grid search: Hyperparameter tuning with cross-validation</a></span></li><li><span><a href=\"#Illustrate-the-Model\" data-toc-modified-id=\"Illustrate-the-Model-4\"><span class=\"toc-item-num\">4&nbsp;&nbsp;</span>Illustrate the Model</a></span></li><li><span><a href=\"#Apply-the-Model\" data-toc-modified-id=\"Apply-the-Model-5\"><span class=\"toc-item-num\">5&nbsp;&nbsp;</span>Apply the Model</a></span></li></ul></div>"
   ]
  },
  {
   "cell_type": "markdown",
   "metadata": {
    "id": "7bCYm1IyNQMr"
   },
   "source": [
    "## Preliminaries"
   ]
  },
  {
   "attachments": {},
   "cell_type": "markdown",
   "metadata": {},
   "source": [
    "Import datetime"
   ]
  },
  {
   "cell_type": "code",
   "execution_count": 307,
   "metadata": {},
   "outputs": [
    {
     "name": "stdout",
     "output_type": "stream",
     "text": [
      "Analysis on 2023-08-03 at 14:53 PM\n"
     ]
    }
   ],
   "source": [
    "from datetime import datetime as dt\n",
    "now = dt.now()\n",
    "print('Analysis on', now.strftime(\"%Y-%m-%d\"), 'at', now.strftime(\"%H:%M %p\"))"
   ]
  },
  {
   "attachments": {},
   "cell_type": "markdown",
   "metadata": {},
   "source": [
    "Establish current working directory."
   ]
  },
  {
   "cell_type": "code",
   "execution_count": 308,
   "metadata": {},
   "outputs": [
    {
     "data": {
      "text/plain": [
       "'/Users/chasecarlson/Documents/GSCM Course Materials/GSCM 575 Machine Learning in Business/Python Pjojects/GSCM-575-ML/code'"
      ]
     },
     "execution_count": 308,
     "metadata": {},
     "output_type": "execute_result"
    }
   ],
   "source": [
    "import os\n",
    "os.getcwd()"
   ]
  },
  {
   "attachments": {},
   "cell_type": "markdown",
   "metadata": {},
   "source": [
    "Import libraries."
   ]
  },
  {
   "cell_type": "code",
   "execution_count": 309,
   "metadata": {},
   "outputs": [],
   "source": [
    "import pandas as pd\n",
    "import matplotlib.pyplot as plt"
   ]
  },
  {
   "cell_type": "markdown",
   "metadata": {
    "id": "RWbCGg4DNQMr"
   },
   "source": [
    "A classic application of supervised machine learning classification is customer churn. The ability to successfully forecast a customer of a company's services and products about to no longer be a customer allows the company to commit resources to attempt to salvage the relationship. \n",
    "\n",
    "The following data file contains information on over 7000 customers of a telecom service, including former customers who left the service plan within the last 30 days the data was collected. \n",
    "\n",
    "Data: http://web.pdx.edu/~gerbing/data/churn_clean.csv\n",
    "\n",
    "The data has been cleaned according to the analysis for last week, so no need to repeat the cleaning process, or the data exploration. \n"
   ]
  },
  {
   "cell_type": "markdown",
   "metadata": {
    "id": "Ye8SLM9TNQMr"
   },
   "source": [
    "## Get and Structure Data"
   ]
  },
  {
   "cell_type": "markdown",
   "metadata": {
    "id": "GLF13jooNQMs"
   },
   "source": [
    "*a. Read the cleaned data into a data frame, and display its dimensions.*"
   ]
  },
  {
   "cell_type": "code",
   "execution_count": 311,
   "metadata": {},
   "outputs": [
    {
     "data": {
      "text/plain": [
       "(7032, 10)"
      ]
     },
     "execution_count": 311,
     "metadata": {},
     "output_type": "execute_result"
    }
   ],
   "source": [
    "df = pd.read_csv('http://web.pdx.edu/~gerbing/data/churn_clean.csv')\n",
    "df.shape"
   ]
  },
  {
   "attachments": {},
   "cell_type": "markdown",
   "metadata": {},
   "source": [
    "The data frame has 7,032 rows and 10 columns."
   ]
  },
  {
   "cell_type": "markdown",
   "metadata": {
    "id": "xhhbozXONQMs"
   },
   "source": [
    "*b. Display the variable names and the first six rows of data.*"
   ]
  },
  {
   "cell_type": "code",
   "execution_count": 312,
   "metadata": {},
   "outputs": [
    {
     "data": {
      "text/html": [
       "<div>\n",
       "<style scoped>\n",
       "    .dataframe tbody tr th:only-of-type {\n",
       "        vertical-align: middle;\n",
       "    }\n",
       "\n",
       "    .dataframe tbody tr th {\n",
       "        vertical-align: top;\n",
       "    }\n",
       "\n",
       "    .dataframe thead th {\n",
       "        text-align: right;\n",
       "    }\n",
       "</style>\n",
       "<table border=\"1\" class=\"dataframe\">\n",
       "  <thead>\n",
       "    <tr style=\"text-align: right;\">\n",
       "      <th></th>\n",
       "      <th>Charges</th>\n",
       "      <th>TotalCharges</th>\n",
       "      <th>MtoM</th>\n",
       "      <th>Paperless</th>\n",
       "      <th>Check</th>\n",
       "      <th>Phone</th>\n",
       "      <th>tenure</th>\n",
       "      <th>Dependents</th>\n",
       "      <th>Internet</th>\n",
       "      <th>Churn</th>\n",
       "    </tr>\n",
       "  </thead>\n",
       "  <tbody>\n",
       "    <tr>\n",
       "      <th>0</th>\n",
       "      <td>29.85</td>\n",
       "      <td>29.85</td>\n",
       "      <td>1</td>\n",
       "      <td>1</td>\n",
       "      <td>0</td>\n",
       "      <td>0</td>\n",
       "      <td>1</td>\n",
       "      <td>0</td>\n",
       "      <td>0</td>\n",
       "      <td>0</td>\n",
       "    </tr>\n",
       "    <tr>\n",
       "      <th>1</th>\n",
       "      <td>56.95</td>\n",
       "      <td>1889.50</td>\n",
       "      <td>0</td>\n",
       "      <td>0</td>\n",
       "      <td>1</td>\n",
       "      <td>1</td>\n",
       "      <td>34</td>\n",
       "      <td>0</td>\n",
       "      <td>0</td>\n",
       "      <td>0</td>\n",
       "    </tr>\n",
       "    <tr>\n",
       "      <th>2</th>\n",
       "      <td>53.85</td>\n",
       "      <td>108.15</td>\n",
       "      <td>1</td>\n",
       "      <td>1</td>\n",
       "      <td>1</td>\n",
       "      <td>1</td>\n",
       "      <td>2</td>\n",
       "      <td>0</td>\n",
       "      <td>0</td>\n",
       "      <td>1</td>\n",
       "    </tr>\n",
       "    <tr>\n",
       "      <th>3</th>\n",
       "      <td>42.30</td>\n",
       "      <td>1840.75</td>\n",
       "      <td>0</td>\n",
       "      <td>0</td>\n",
       "      <td>0</td>\n",
       "      <td>0</td>\n",
       "      <td>45</td>\n",
       "      <td>0</td>\n",
       "      <td>0</td>\n",
       "      <td>0</td>\n",
       "    </tr>\n",
       "    <tr>\n",
       "      <th>4</th>\n",
       "      <td>70.70</td>\n",
       "      <td>151.65</td>\n",
       "      <td>1</td>\n",
       "      <td>1</td>\n",
       "      <td>0</td>\n",
       "      <td>1</td>\n",
       "      <td>2</td>\n",
       "      <td>0</td>\n",
       "      <td>0</td>\n",
       "      <td>1</td>\n",
       "    </tr>\n",
       "    <tr>\n",
       "      <th>5</th>\n",
       "      <td>99.65</td>\n",
       "      <td>820.50</td>\n",
       "      <td>1</td>\n",
       "      <td>1</td>\n",
       "      <td>0</td>\n",
       "      <td>1</td>\n",
       "      <td>8</td>\n",
       "      <td>0</td>\n",
       "      <td>0</td>\n",
       "      <td>1</td>\n",
       "    </tr>\n",
       "  </tbody>\n",
       "</table>\n",
       "</div>"
      ],
      "text/plain": [
       "   Charges  TotalCharges  MtoM  Paperless  Check  Phone  tenure  Dependents  \\\n",
       "0    29.85         29.85     1          1      0      0       1           0   \n",
       "1    56.95       1889.50     0          0      1      1      34           0   \n",
       "2    53.85        108.15     1          1      1      1       2           0   \n",
       "3    42.30       1840.75     0          0      0      0      45           0   \n",
       "4    70.70        151.65     1          1      0      1       2           0   \n",
       "5    99.65        820.50     1          1      0      1       8           0   \n",
       "\n",
       "   Internet  Churn  \n",
       "0         0      0  \n",
       "1         0      0  \n",
       "2         0      1  \n",
       "3         0      0  \n",
       "4         0      1  \n",
       "5         0      1  "
      ]
     },
     "execution_count": 312,
     "metadata": {},
     "output_type": "execute_result"
    }
   ],
   "source": [
    "df.head(6)"
   ]
  },
  {
   "attachments": {},
   "cell_type": "markdown",
   "metadata": {},
   "source": [
    "Rename 'tenure' column with capital 'T' to be consistent with other columns:"
   ]
  },
  {
   "cell_type": "code",
   "execution_count": 313,
   "metadata": {},
   "outputs": [
    {
     "data": {
      "text/html": [
       "<div>\n",
       "<style scoped>\n",
       "    .dataframe tbody tr th:only-of-type {\n",
       "        vertical-align: middle;\n",
       "    }\n",
       "\n",
       "    .dataframe tbody tr th {\n",
       "        vertical-align: top;\n",
       "    }\n",
       "\n",
       "    .dataframe thead th {\n",
       "        text-align: right;\n",
       "    }\n",
       "</style>\n",
       "<table border=\"1\" class=\"dataframe\">\n",
       "  <thead>\n",
       "    <tr style=\"text-align: right;\">\n",
       "      <th></th>\n",
       "      <th>Charges</th>\n",
       "      <th>TotalCharges</th>\n",
       "      <th>MtoM</th>\n",
       "      <th>Paperless</th>\n",
       "      <th>Check</th>\n",
       "      <th>Phone</th>\n",
       "      <th>Tenure</th>\n",
       "      <th>Dependents</th>\n",
       "      <th>Internet</th>\n",
       "      <th>Churn</th>\n",
       "    </tr>\n",
       "  </thead>\n",
       "  <tbody>\n",
       "    <tr>\n",
       "      <th>0</th>\n",
       "      <td>29.85</td>\n",
       "      <td>29.85</td>\n",
       "      <td>1</td>\n",
       "      <td>1</td>\n",
       "      <td>0</td>\n",
       "      <td>0</td>\n",
       "      <td>1</td>\n",
       "      <td>0</td>\n",
       "      <td>0</td>\n",
       "      <td>0</td>\n",
       "    </tr>\n",
       "    <tr>\n",
       "      <th>1</th>\n",
       "      <td>56.95</td>\n",
       "      <td>1889.50</td>\n",
       "      <td>0</td>\n",
       "      <td>0</td>\n",
       "      <td>1</td>\n",
       "      <td>1</td>\n",
       "      <td>34</td>\n",
       "      <td>0</td>\n",
       "      <td>0</td>\n",
       "      <td>0</td>\n",
       "    </tr>\n",
       "    <tr>\n",
       "      <th>2</th>\n",
       "      <td>53.85</td>\n",
       "      <td>108.15</td>\n",
       "      <td>1</td>\n",
       "      <td>1</td>\n",
       "      <td>1</td>\n",
       "      <td>1</td>\n",
       "      <td>2</td>\n",
       "      <td>0</td>\n",
       "      <td>0</td>\n",
       "      <td>1</td>\n",
       "    </tr>\n",
       "    <tr>\n",
       "      <th>3</th>\n",
       "      <td>42.30</td>\n",
       "      <td>1840.75</td>\n",
       "      <td>0</td>\n",
       "      <td>0</td>\n",
       "      <td>0</td>\n",
       "      <td>0</td>\n",
       "      <td>45</td>\n",
       "      <td>0</td>\n",
       "      <td>0</td>\n",
       "      <td>0</td>\n",
       "    </tr>\n",
       "    <tr>\n",
       "      <th>4</th>\n",
       "      <td>70.70</td>\n",
       "      <td>151.65</td>\n",
       "      <td>1</td>\n",
       "      <td>1</td>\n",
       "      <td>0</td>\n",
       "      <td>1</td>\n",
       "      <td>2</td>\n",
       "      <td>0</td>\n",
       "      <td>0</td>\n",
       "      <td>1</td>\n",
       "    </tr>\n",
       "  </tbody>\n",
       "</table>\n",
       "</div>"
      ],
      "text/plain": [
       "   Charges  TotalCharges  MtoM  Paperless  Check  Phone  Tenure  Dependents  \\\n",
       "0    29.85         29.85     1          1      0      0       1           0   \n",
       "1    56.95       1889.50     0          0      1      1      34           0   \n",
       "2    53.85        108.15     1          1      1      1       2           0   \n",
       "3    42.30       1840.75     0          0      0      0      45           0   \n",
       "4    70.70        151.65     1          1      0      1       2           0   \n",
       "\n",
       "   Internet  Churn  \n",
       "0         0      0  \n",
       "1         0      0  \n",
       "2         0      1  \n",
       "3         0      0  \n",
       "4         0      1  "
      ]
     },
     "execution_count": 313,
     "metadata": {},
     "output_type": "execute_result"
    }
   ],
   "source": [
    "df.rename(columns={'tenure': 'Tenure'}, inplace=True)\n",
    "df.head()"
   ]
  },
  {
   "cell_type": "markdown",
   "metadata": {
    "id": "YDyggv3ZNQMs"
   },
   "source": [
    "*c. Score 1 for Churn. Create the lists of the names of _classes_ and _features_ for the graph later on, then create the data structures from these names.*"
   ]
  },
  {
   "cell_type": "code",
   "execution_count": 314,
   "metadata": {},
   "outputs": [],
   "source": [
    "classes = ['Churn_no', 'Churn_yes']\n",
    "features = ['Charges', 'TotalCharges', 'MtoM', 'Paperless', 'Check', \n",
    "            'Phone', 'Tenure', 'Dependents', 'Internet']\n",
    "X = df[features]\n",
    "y = df['Churn']"
   ]
  },
  {
   "attachments": {},
   "cell_type": "markdown",
   "metadata": {},
   "source": [
    "Confirm the 1s are Churn and the 0s are not churn using countplot() to view the distribution. Churn customers should be much smaller than non-churn:"
   ]
  },
  {
   "cell_type": "code",
   "execution_count": 315,
   "metadata": {},
   "outputs": [
    {
     "data": {
      "text/plain": [
       "<Axes: xlabel='Churn', ylabel='count'>"
      ]
     },
     "execution_count": 315,
     "metadata": {},
     "output_type": "execute_result"
    },
    {
     "data": {
      "image/png": "[encoded data removed]",
      "text/plain": [
       "<Figure size 640x480 with 1 Axes>"
      ]
     },
     "metadata": {},
     "output_type": "display_data"
    }
   ],
   "source": [
    "sns.countplot(df, x = 'Churn', palette='pastel')"
   ]
  },
  {
   "cell_type": "markdown",
   "metadata": {
    "id": "WbDHNg2hNQMt"
   },
   "source": [
    "*d. Do a MinMax transformation to get all data into a 0 to 1 range. Verify.*"
   ]
  },
  {
   "cell_type": "code",
   "execution_count": 316,
   "metadata": {},
   "outputs": [],
   "source": [
    "from sklearn.preprocessing import MinMaxScaler\n",
    "mm_scaler = MinMaxScaler()"
   ]
  },
  {
   "cell_type": "code",
   "execution_count": 317,
   "metadata": {},
   "outputs": [
    {
     "data": {
      "text/html": [
       "<div>\n",
       "<style scoped>\n",
       "    .dataframe tbody tr th:only-of-type {\n",
       "        vertical-align: middle;\n",
       "    }\n",
       "\n",
       "    .dataframe tbody tr th {\n",
       "        vertical-align: top;\n",
       "    }\n",
       "\n",
       "    .dataframe thead th {\n",
       "        text-align: right;\n",
       "    }\n",
       "</style>\n",
       "<table border=\"1\" class=\"dataframe\">\n",
       "  <thead>\n",
       "    <tr style=\"text-align: right;\">\n",
       "      <th></th>\n",
       "      <th>Charges</th>\n",
       "      <th>TotalCharges</th>\n",
       "      <th>MtoM</th>\n",
       "      <th>Paperless</th>\n",
       "      <th>Check</th>\n",
       "      <th>Phone</th>\n",
       "      <th>Tenure</th>\n",
       "      <th>Dependents</th>\n",
       "      <th>Internet</th>\n",
       "      <th>Churn</th>\n",
       "    </tr>\n",
       "  </thead>\n",
       "  <tbody>\n",
       "    <tr>\n",
       "      <th>0</th>\n",
       "      <td>0.115423</td>\n",
       "      <td>0.001275</td>\n",
       "      <td>1</td>\n",
       "      <td>1</td>\n",
       "      <td>0</td>\n",
       "      <td>0</td>\n",
       "      <td>0.000000</td>\n",
       "      <td>0</td>\n",
       "      <td>0</td>\n",
       "      <td>0</td>\n",
       "    </tr>\n",
       "    <tr>\n",
       "      <th>1</th>\n",
       "      <td>0.385075</td>\n",
       "      <td>0.215867</td>\n",
       "      <td>0</td>\n",
       "      <td>0</td>\n",
       "      <td>1</td>\n",
       "      <td>1</td>\n",
       "      <td>0.464789</td>\n",
       "      <td>0</td>\n",
       "      <td>0</td>\n",
       "      <td>0</td>\n",
       "    </tr>\n",
       "    <tr>\n",
       "      <th>2</th>\n",
       "      <td>0.354229</td>\n",
       "      <td>0.010310</td>\n",
       "      <td>1</td>\n",
       "      <td>1</td>\n",
       "      <td>1</td>\n",
       "      <td>1</td>\n",
       "      <td>0.014085</td>\n",
       "      <td>0</td>\n",
       "      <td>0</td>\n",
       "      <td>1</td>\n",
       "    </tr>\n",
       "    <tr>\n",
       "      <th>3</th>\n",
       "      <td>0.239303</td>\n",
       "      <td>0.210241</td>\n",
       "      <td>0</td>\n",
       "      <td>0</td>\n",
       "      <td>0</td>\n",
       "      <td>0</td>\n",
       "      <td>0.619718</td>\n",
       "      <td>0</td>\n",
       "      <td>0</td>\n",
       "      <td>0</td>\n",
       "    </tr>\n",
       "    <tr>\n",
       "      <th>4</th>\n",
       "      <td>0.521891</td>\n",
       "      <td>0.015330</td>\n",
       "      <td>1</td>\n",
       "      <td>1</td>\n",
       "      <td>0</td>\n",
       "      <td>1</td>\n",
       "      <td>0.014085</td>\n",
       "      <td>0</td>\n",
       "      <td>0</td>\n",
       "      <td>1</td>\n",
       "    </tr>\n",
       "  </tbody>\n",
       "</table>\n",
       "</div>"
      ],
      "text/plain": [
       "    Charges  TotalCharges  MtoM  Paperless  Check  Phone    Tenure  \\\n",
       "0  0.115423      0.001275     1          1      0      0  0.000000   \n",
       "1  0.385075      0.215867     0          0      1      1  0.464789   \n",
       "2  0.354229      0.010310     1          1      1      1  0.014085   \n",
       "3  0.239303      0.210241     0          0      0      0  0.619718   \n",
       "4  0.521891      0.015330     1          1      0      1  0.014085   \n",
       "\n",
       "   Dependents  Internet  Churn  \n",
       "0           0         0      0  \n",
       "1           0         0      0  \n",
       "2           0         0      1  \n",
       "3           0         0      0  \n",
       "4           0         0      1  "
      ]
     },
     "execution_count": 317,
     "metadata": {},
     "output_type": "execute_result"
    }
   ],
   "source": [
    "scaled_cols = ['Charges', 'TotalCharges', 'Tenure']\n",
    "df[scaled_cols] = mm_scaler.fit_transform(df[scaled_cols])\n",
    "df.head()"
   ]
  },
  {
   "attachments": {},
   "cell_type": "markdown",
   "metadata": {},
   "source": [
    "Confirm MinMax transformation:"
   ]
  },
  {
   "cell_type": "code",
   "execution_count": 318,
   "metadata": {},
   "outputs": [
    {
     "name": "stdout",
     "output_type": "stream",
     "text": [
      "Min Values:\n",
      "Charges         0.0\n",
      "TotalCharges    0.0\n",
      "Tenure          0.0\n",
      "dtype: float64 \n",
      "\n",
      "Max Values:\n",
      "Charges         1.0\n",
      "TotalCharges    1.0\n",
      "Tenure          1.0\n",
      "dtype: float64\n"
     ]
    }
   ],
   "source": [
    "print(\"Min Values:\")\n",
    "print(df[['Charges', 'TotalCharges', 'Tenure']].min(), \"\\n\")\n",
    "print(\"Max Values:\")\n",
    "print(df[['Charges', 'TotalCharges', 'Tenure']].max())"
   ]
  },
  {
   "attachments": {},
   "cell_type": "markdown",
   "metadata": {},
   "source": [
    "Reestablish feature and target data structures post-MinMax transformation:"
   ]
  },
  {
   "cell_type": "code",
   "execution_count": 319,
   "metadata": {},
   "outputs": [],
   "source": [
    "classes = ['Churn_no', 'Churn_yes']\n",
    "features = ['Charges', 'TotalCharges', 'MtoM', 'Paperless', 'Check', \n",
    "            'Phone', 'Tenure', 'Dependents', 'Internet']\n",
    "X = df[features]\n",
    "y = df['Churn']"
   ]
  },
  {
   "cell_type": "markdown",
   "metadata": {
    "id": "fRSlvCjZNQMt"
   },
   "source": [
    "## Grid search: Hyperparameter tuning with cross-validation"
   ]
  },
  {
   "cell_type": "markdown",
   "metadata": {
    "id": "NEkTz5-4NQMt"
   },
   "source": [
    "*e. Do a grid search with a 3-fold cross-validation. Search on the following parameters and values: maximum depth with values of 3 and 4, and maximum features with values of 4, 6, and 8.*"
   ]
  },
  {
   "attachments": {},
   "cell_type": "markdown",
   "metadata": {},
   "source": [
    "Access the decision tree solution algorithm and instantiate with a maximum depth of 4 using DecisionTreeClassifier."
   ]
  },
  {
   "cell_type": "code",
   "execution_count": 320,
   "metadata": {},
   "outputs": [
    {
     "data": {
      "text/html": [
       "<style>#sk-container-id-25 {color: black;background-color: white;}#sk-container-id-25 pre{padding: 0;}#sk-container-id-25 div.sk-toggleable {background-color: white;}#sk-container-id-25 label.sk-toggleable__label {cursor: pointer;display: block;width: 100%;margin-bottom: 0;padding: 0.3em;box-sizing: border-box;text-align: center;}#sk-container-id-25 label.sk-toggleable__label-arrow:before {content: \"▸\";float: left;margin-right: 0.25em;color: #696969;}#sk-container-id-25 label.sk-toggleable__label-arrow:hover:before {color: black;}#sk-container-id-25 div.sk-estimator:hover label.sk-toggleable__label-arrow:before {color: black;}#sk-container-id-25 div.sk-toggleable__content {max-height: 0;max-width: 0;overflow: hidden;text-align: left;background-color: #f0f8ff;}#sk-container-id-25 div.sk-toggleable__content pre {margin: 0.2em;color: black;border-radius: 0.25em;background-color: #f0f8ff;}#sk-container-id-25 input.sk-toggleable__control:checked~div.sk-toggleable__content {max-height: 200px;max-width: 100%;overflow: auto;}#sk-container-id-25 input.sk-toggleable__control:checked~label.sk-toggleable__label-arrow:before {content: \"▾\";}#sk-container-id-25 div.sk-estimator input.sk-toggleable__control:checked~label.sk-toggleable__label {background-color: #d4ebff;}#sk-container-id-25 div.sk-label input.sk-toggleable__control:checked~label.sk-toggleable__label {background-color: #d4ebff;}#sk-container-id-25 input.sk-hidden--visually {border: 0;clip: rect(1px 1px 1px 1px);clip: rect(1px, 1px, 1px, 1px);height: 1px;margin: -1px;overflow: hidden;padding: 0;position: absolute;width: 1px;}#sk-container-id-25 div.sk-estimator {font-family: monospace;background-color: #f0f8ff;border: 1px dotted black;border-radius: 0.25em;box-sizing: border-box;margin-bottom: 0.5em;}#sk-container-id-25 div.sk-estimator:hover {background-color: #d4ebff;}#sk-container-id-25 div.sk-parallel-item::after {content: \"\";width: 100%;border-bottom: 1px solid gray;flex-grow: 1;}#sk-container-id-25 div.sk-label:hover label.sk-toggleable__label {background-color: #d4ebff;}#sk-container-id-25 div.sk-serial::before {content: \"\";position: absolute;border-left: 1px solid gray;box-sizing: border-box;top: 0;bottom: 0;left: 50%;z-index: 0;}#sk-container-id-25 div.sk-serial {display: flex;flex-direction: column;align-items: center;background-color: white;padding-right: 0.2em;padding-left: 0.2em;position: relative;}#sk-container-id-25 div.sk-item {position: relative;z-index: 1;}#sk-container-id-25 div.sk-parallel {display: flex;align-items: stretch;justify-content: center;background-color: white;position: relative;}#sk-container-id-25 div.sk-item::before, #sk-container-id-25 div.sk-parallel-item::before {content: \"\";position: absolute;border-left: 1px solid gray;box-sizing: border-box;top: 0;bottom: 0;left: 50%;z-index: -1;}#sk-container-id-25 div.sk-parallel-item {display: flex;flex-direction: column;z-index: 1;position: relative;background-color: white;}#sk-container-id-25 div.sk-parallel-item:first-child::after {align-self: flex-end;width: 50%;}#sk-container-id-25 div.sk-parallel-item:last-child::after {align-self: flex-start;width: 50%;}#sk-container-id-25 div.sk-parallel-item:only-child::after {width: 0;}#sk-container-id-25 div.sk-dashed-wrapped {border: 1px dashed gray;margin: 0 0.4em 0.5em 0.4em;box-sizing: border-box;padding-bottom: 0.4em;background-color: white;}#sk-container-id-25 div.sk-label label {font-family: monospace;font-weight: bold;display: inline-block;line-height: 1.2em;}#sk-container-id-25 div.sk-label-container {text-align: center;}#sk-container-id-25 div.sk-container {/* jupyter's `normalize.less` sets `[hidden] { display: none; }` but bootstrap.min.css set `[hidden] { display: none !important; }` so we also need the `!important` here to be able to override the default hidden behavior on the sphinx rendered scikit-learn.org. See: https://github.com/scikit-learn/scikit-learn/issues/21755 */display: inline-block !important;position: relative;}#sk-container-id-25 div.sk-text-repr-fallback {display: none;}</style><div id=\"sk-container-id-25\" class=\"sk-top-container\"><div class=\"sk-text-repr-fallback\"><pre>DecisionTreeClassifier(max_depth=4)</pre><b>In a Jupyter environment, please rerun this cell to show the HTML representation or trust the notebook. <br />On GitHub, the HTML representation is unable to render, please try loading this page with nbviewer.org.</b></div><div class=\"sk-container\" hidden><div class=\"sk-item\"><div class=\"sk-estimator sk-toggleable\"><input class=\"sk-toggleable__control sk-hidden--visually\" id=\"sk-estimator-id-49\" type=\"checkbox\" checked><label for=\"sk-estimator-id-49\" class=\"sk-toggleable__label sk-toggleable__label-arrow\">DecisionTreeClassifier</label><div class=\"sk-toggleable__content\"><pre>DecisionTreeClassifier(max_depth=4)</pre></div></div></div></div></div>"
      ],
      "text/plain": [
       "DecisionTreeClassifier(max_depth=4)"
      ]
     },
     "execution_count": 320,
     "metadata": {},
     "output_type": "execute_result"
    }
   ],
   "source": [
    "from sklearn.tree import DecisionTreeClassifier\n",
    "dt_model = DecisionTreeClassifier(max_depth=4)\n",
    "dt_model"
   ]
  },
  {
   "attachments": {},
   "cell_type": "markdown",
   "metadata": {},
   "source": [
    "Access KFold cross-validation algorithm and GridSearchCV and create the model:"
   ]
  },
  {
   "cell_type": "code",
   "execution_count": 321,
   "metadata": {},
   "outputs": [
    {
     "data": {
      "text/html": [
       "<style>#sk-container-id-26 {color: black;background-color: white;}#sk-container-id-26 pre{padding: 0;}#sk-container-id-26 div.sk-toggleable {background-color: white;}#sk-container-id-26 label.sk-toggleable__label {cursor: pointer;display: block;width: 100%;margin-bottom: 0;padding: 0.3em;box-sizing: border-box;text-align: center;}#sk-container-id-26 label.sk-toggleable__label-arrow:before {content: \"▸\";float: left;margin-right: 0.25em;color: #696969;}#sk-container-id-26 label.sk-toggleable__label-arrow:hover:before {color: black;}#sk-container-id-26 div.sk-estimator:hover label.sk-toggleable__label-arrow:before {color: black;}#sk-container-id-26 div.sk-toggleable__content {max-height: 0;max-width: 0;overflow: hidden;text-align: left;background-color: #f0f8ff;}#sk-container-id-26 div.sk-toggleable__content pre {margin: 0.2em;color: black;border-radius: 0.25em;background-color: #f0f8ff;}#sk-container-id-26 input.sk-toggleable__control:checked~div.sk-toggleable__content {max-height: 200px;max-width: 100%;overflow: auto;}#sk-container-id-26 input.sk-toggleable__control:checked~label.sk-toggleable__label-arrow:before {content: \"▾\";}#sk-container-id-26 div.sk-estimator input.sk-toggleable__control:checked~label.sk-toggleable__label {background-color: #d4ebff;}#sk-container-id-26 div.sk-label input.sk-toggleable__control:checked~label.sk-toggleable__label {background-color: #d4ebff;}#sk-container-id-26 input.sk-hidden--visually {border: 0;clip: rect(1px 1px 1px 1px);clip: rect(1px, 1px, 1px, 1px);height: 1px;margin: -1px;overflow: hidden;padding: 0;position: absolute;width: 1px;}#sk-container-id-26 div.sk-estimator {font-family: monospace;background-color: #f0f8ff;border: 1px dotted black;border-radius: 0.25em;box-sizing: border-box;margin-bottom: 0.5em;}#sk-container-id-26 div.sk-estimator:hover {background-color: #d4ebff;}#sk-container-id-26 div.sk-parallel-item::after {content: \"\";width: 100%;border-bottom: 1px solid gray;flex-grow: 1;}#sk-container-id-26 div.sk-label:hover label.sk-toggleable__label {background-color: #d4ebff;}#sk-container-id-26 div.sk-serial::before {content: \"\";position: absolute;border-left: 1px solid gray;box-sizing: border-box;top: 0;bottom: 0;left: 50%;z-index: 0;}#sk-container-id-26 div.sk-serial {display: flex;flex-direction: column;align-items: center;background-color: white;padding-right: 0.2em;padding-left: 0.2em;position: relative;}#sk-container-id-26 div.sk-item {position: relative;z-index: 1;}#sk-container-id-26 div.sk-parallel {display: flex;align-items: stretch;justify-content: center;background-color: white;position: relative;}#sk-container-id-26 div.sk-item::before, #sk-container-id-26 div.sk-parallel-item::before {content: \"\";position: absolute;border-left: 1px solid gray;box-sizing: border-box;top: 0;bottom: 0;left: 50%;z-index: -1;}#sk-container-id-26 div.sk-parallel-item {display: flex;flex-direction: column;z-index: 1;position: relative;background-color: white;}#sk-container-id-26 div.sk-parallel-item:first-child::after {align-self: flex-end;width: 50%;}#sk-container-id-26 div.sk-parallel-item:last-child::after {align-self: flex-start;width: 50%;}#sk-container-id-26 div.sk-parallel-item:only-child::after {width: 0;}#sk-container-id-26 div.sk-dashed-wrapped {border: 1px dashed gray;margin: 0 0.4em 0.5em 0.4em;box-sizing: border-box;padding-bottom: 0.4em;background-color: white;}#sk-container-id-26 div.sk-label label {font-family: monospace;font-weight: bold;display: inline-block;line-height: 1.2em;}#sk-container-id-26 div.sk-label-container {text-align: center;}#sk-container-id-26 div.sk-container {/* jupyter's `normalize.less` sets `[hidden] { display: none; }` but bootstrap.min.css set `[hidden] { display: none !important; }` so we also need the `!important` here to be able to override the default hidden behavior on the sphinx rendered scikit-learn.org. See: https://github.com/scikit-learn/scikit-learn/issues/21755 */display: inline-block !important;position: relative;}#sk-container-id-26 div.sk-text-repr-fallback {display: none;}</style><div id=\"sk-container-id-26\" class=\"sk-top-container\"><div class=\"sk-text-repr-fallback\"><pre>GridSearchCV(cv=KFold(n_splits=3, random_state=1, shuffle=True),\n",
       "             estimator=DecisionTreeClassifier(max_depth=4),\n",
       "             param_grid={&#x27;max_depth&#x27;: [3, 4], &#x27;max_features&#x27;: [4, 6, 8]},\n",
       "             refit=False, return_train_score=True,\n",
       "             scoring=(&#x27;accuracy&#x27;, &#x27;recall&#x27;, &#x27;precision&#x27;))</pre><b>In a Jupyter environment, please rerun this cell to show the HTML representation or trust the notebook. <br />On GitHub, the HTML representation is unable to render, please try loading this page with nbviewer.org.</b></div><div class=\"sk-container\" hidden><div class=\"sk-item sk-dashed-wrapped\"><div class=\"sk-label-container\"><div class=\"sk-label sk-toggleable\"><input class=\"sk-toggleable__control sk-hidden--visually\" id=\"sk-estimator-id-50\" type=\"checkbox\" ><label for=\"sk-estimator-id-50\" class=\"sk-toggleable__label sk-toggleable__label-arrow\">GridSearchCV</label><div class=\"sk-toggleable__content\"><pre>GridSearchCV(cv=KFold(n_splits=3, random_state=1, shuffle=True),\n",
       "             estimator=DecisionTreeClassifier(max_depth=4),\n",
       "             param_grid={&#x27;max_depth&#x27;: [3, 4], &#x27;max_features&#x27;: [4, 6, 8]},\n",
       "             refit=False, return_train_score=True,\n",
       "             scoring=(&#x27;accuracy&#x27;, &#x27;recall&#x27;, &#x27;precision&#x27;))</pre></div></div></div><div class=\"sk-parallel\"><div class=\"sk-parallel-item\"><div class=\"sk-item\"><div class=\"sk-label-container\"><div class=\"sk-label sk-toggleable\"><input class=\"sk-toggleable__control sk-hidden--visually\" id=\"sk-estimator-id-51\" type=\"checkbox\" ><label for=\"sk-estimator-id-51\" class=\"sk-toggleable__label sk-toggleable__label-arrow\">estimator: DecisionTreeClassifier</label><div class=\"sk-toggleable__content\"><pre>DecisionTreeClassifier(max_depth=4)</pre></div></div></div><div class=\"sk-serial\"><div class=\"sk-item\"><div class=\"sk-estimator sk-toggleable\"><input class=\"sk-toggleable__control sk-hidden--visually\" id=\"sk-estimator-id-52\" type=\"checkbox\" ><label for=\"sk-estimator-id-52\" class=\"sk-toggleable__label sk-toggleable__label-arrow\">DecisionTreeClassifier</label><div class=\"sk-toggleable__content\"><pre>DecisionTreeClassifier(max_depth=4)</pre></div></div></div></div></div></div></div></div></div></div>"
      ],
      "text/plain": [
       "GridSearchCV(cv=KFold(n_splits=3, random_state=1, shuffle=True),\n",
       "             estimator=DecisionTreeClassifier(max_depth=4),\n",
       "             param_grid={'max_depth': [3, 4], 'max_features': [4, 6, 8]},\n",
       "             refit=False, return_train_score=True,\n",
       "             scoring=('accuracy', 'recall', 'precision'))"
      ]
     },
     "execution_count": 321,
     "metadata": {},
     "output_type": "execute_result"
    }
   ],
   "source": [
    "from sklearn.model_selection import KFold\n",
    "from sklearn.model_selection import GridSearchCV\n",
    "kf = KFold(n_splits=3, shuffle=True, random_state=1)\n",
    "\n",
    "params = {'max_depth': [3, 4],\n",
    "          'max_features': [4, 6, 8]}\n",
    "grid_search = GridSearchCV(dt_model, param_grid=params, cv=kf,\n",
    "                           scoring=('accuracy', 'recall', 'precision'),\n",
    "                           refit=False, return_train_score=True)\n",
    "grid_search.fit(X,y)"
   ]
  },
  {
   "cell_type": "markdown",
   "metadata": {
    "id": "gFIYSOKjNQMt"
   },
   "source": [
    "*f. Display all the results of the cross-validation grid search.*"
   ]
  },
  {
   "cell_type": "code",
   "execution_count": 322,
   "metadata": {},
   "outputs": [
    {
     "data": {
      "text/html": [
       "<div>\n",
       "<style scoped>\n",
       "    .dataframe tbody tr th:only-of-type {\n",
       "        vertical-align: middle;\n",
       "    }\n",
       "\n",
       "    .dataframe tbody tr th {\n",
       "        vertical-align: top;\n",
       "    }\n",
       "\n",
       "    .dataframe thead th {\n",
       "        text-align: right;\n",
       "    }\n",
       "</style>\n",
       "<table border=\"1\" class=\"dataframe\">\n",
       "  <thead>\n",
       "    <tr style=\"text-align: right;\">\n",
       "      <th></th>\n",
       "      <th>0</th>\n",
       "      <th>1</th>\n",
       "      <th>2</th>\n",
       "      <th>3</th>\n",
       "      <th>4</th>\n",
       "      <th>5</th>\n",
       "    </tr>\n",
       "  </thead>\n",
       "  <tbody>\n",
       "    <tr>\n",
       "      <th>mean_fit_time</th>\n",
       "      <td>0.002</td>\n",
       "      <td>0.003</td>\n",
       "      <td>0.003</td>\n",
       "      <td>0.002</td>\n",
       "      <td>0.003</td>\n",
       "      <td>0.004</td>\n",
       "    </tr>\n",
       "    <tr>\n",
       "      <th>std_fit_time</th>\n",
       "      <td>0.0</td>\n",
       "      <td>0.0</td>\n",
       "      <td>0.0</td>\n",
       "      <td>0.0</td>\n",
       "      <td>0.0</td>\n",
       "      <td>0.0</td>\n",
       "    </tr>\n",
       "    <tr>\n",
       "      <th>mean_score_time</th>\n",
       "      <td>0.002</td>\n",
       "      <td>0.002</td>\n",
       "      <td>0.002</td>\n",
       "      <td>0.002</td>\n",
       "      <td>0.002</td>\n",
       "      <td>0.002</td>\n",
       "    </tr>\n",
       "    <tr>\n",
       "      <th>std_score_time</th>\n",
       "      <td>0.0</td>\n",
       "      <td>0.0</td>\n",
       "      <td>0.0</td>\n",
       "      <td>0.0</td>\n",
       "      <td>0.0</td>\n",
       "      <td>0.0</td>\n",
       "    </tr>\n",
       "    <tr>\n",
       "      <th>param_max_depth</th>\n",
       "      <td>3</td>\n",
       "      <td>3</td>\n",
       "      <td>3</td>\n",
       "      <td>4</td>\n",
       "      <td>4</td>\n",
       "      <td>4</td>\n",
       "    </tr>\n",
       "    <tr>\n",
       "      <th>param_max_features</th>\n",
       "      <td>4</td>\n",
       "      <td>6</td>\n",
       "      <td>8</td>\n",
       "      <td>4</td>\n",
       "      <td>6</td>\n",
       "      <td>8</td>\n",
       "    </tr>\n",
       "    <tr>\n",
       "      <th>split0_test_accuracy</th>\n",
       "      <td>0.774</td>\n",
       "      <td>0.797</td>\n",
       "      <td>0.797</td>\n",
       "      <td>0.794</td>\n",
       "      <td>0.796</td>\n",
       "      <td>0.796</td>\n",
       "    </tr>\n",
       "    <tr>\n",
       "      <th>split1_test_accuracy</th>\n",
       "      <td>0.747</td>\n",
       "      <td>0.779</td>\n",
       "      <td>0.781</td>\n",
       "      <td>0.76</td>\n",
       "      <td>0.779</td>\n",
       "      <td>0.788</td>\n",
       "    </tr>\n",
       "    <tr>\n",
       "      <th>split2_test_accuracy</th>\n",
       "      <td>0.771</td>\n",
       "      <td>0.781</td>\n",
       "      <td>0.778</td>\n",
       "      <td>0.771</td>\n",
       "      <td>0.77</td>\n",
       "      <td>0.784</td>\n",
       "    </tr>\n",
       "    <tr>\n",
       "      <th>mean_test_accuracy</th>\n",
       "      <td>0.764</td>\n",
       "      <td>0.786</td>\n",
       "      <td>0.785</td>\n",
       "      <td>0.775</td>\n",
       "      <td>0.782</td>\n",
       "      <td>0.789</td>\n",
       "    </tr>\n",
       "    <tr>\n",
       "      <th>std_test_accuracy</th>\n",
       "      <td>0.012</td>\n",
       "      <td>0.008</td>\n",
       "      <td>0.008</td>\n",
       "      <td>0.014</td>\n",
       "      <td>0.01</td>\n",
       "      <td>0.005</td>\n",
       "    </tr>\n",
       "    <tr>\n",
       "      <th>rank_test_accuracy</th>\n",
       "      <td>6</td>\n",
       "      <td>2</td>\n",
       "      <td>3</td>\n",
       "      <td>5</td>\n",
       "      <td>4</td>\n",
       "      <td>1</td>\n",
       "    </tr>\n",
       "    <tr>\n",
       "      <th>split0_train_accuracy</th>\n",
       "      <td>0.765</td>\n",
       "      <td>0.782</td>\n",
       "      <td>0.782</td>\n",
       "      <td>0.795</td>\n",
       "      <td>0.79</td>\n",
       "      <td>0.789</td>\n",
       "    </tr>\n",
       "    <tr>\n",
       "      <th>split1_train_accuracy</th>\n",
       "      <td>0.754</td>\n",
       "      <td>0.788</td>\n",
       "      <td>0.79</td>\n",
       "      <td>0.777</td>\n",
       "      <td>0.791</td>\n",
       "      <td>0.794</td>\n",
       "    </tr>\n",
       "    <tr>\n",
       "      <th>split2_train_accuracy</th>\n",
       "      <td>0.778</td>\n",
       "      <td>0.789</td>\n",
       "      <td>0.791</td>\n",
       "      <td>0.783</td>\n",
       "      <td>0.783</td>\n",
       "      <td>0.796</td>\n",
       "    </tr>\n",
       "    <tr>\n",
       "      <th>mean_train_accuracy</th>\n",
       "      <td>0.766</td>\n",
       "      <td>0.786</td>\n",
       "      <td>0.787</td>\n",
       "      <td>0.785</td>\n",
       "      <td>0.788</td>\n",
       "      <td>0.793</td>\n",
       "    </tr>\n",
       "    <tr>\n",
       "      <th>std_train_accuracy</th>\n",
       "      <td>0.01</td>\n",
       "      <td>0.003</td>\n",
       "      <td>0.004</td>\n",
       "      <td>0.007</td>\n",
       "      <td>0.003</td>\n",
       "      <td>0.003</td>\n",
       "    </tr>\n",
       "    <tr>\n",
       "      <th>split0_test_recall</th>\n",
       "      <td>0.282</td>\n",
       "      <td>0.406</td>\n",
       "      <td>0.404</td>\n",
       "      <td>0.488</td>\n",
       "      <td>0.519</td>\n",
       "      <td>0.512</td>\n",
       "    </tr>\n",
       "    <tr>\n",
       "      <th>split1_test_recall</th>\n",
       "      <td>0.599</td>\n",
       "      <td>0.361</td>\n",
       "      <td>0.374</td>\n",
       "      <td>0.544</td>\n",
       "      <td>0.518</td>\n",
       "      <td>0.491</td>\n",
       "    </tr>\n",
       "    <tr>\n",
       "      <th>split2_test_recall</th>\n",
       "      <td>0.386</td>\n",
       "      <td>0.396</td>\n",
       "      <td>0.355</td>\n",
       "      <td>0.264</td>\n",
       "      <td>0.267</td>\n",
       "      <td>0.458</td>\n",
       "    </tr>\n",
       "    <tr>\n",
       "      <th>mean_test_recall</th>\n",
       "      <td>0.422</td>\n",
       "      <td>0.387</td>\n",
       "      <td>0.378</td>\n",
       "      <td>0.432</td>\n",
       "      <td>0.435</td>\n",
       "      <td>0.487</td>\n",
       "    </tr>\n",
       "    <tr>\n",
       "      <th>std_test_recall</th>\n",
       "      <td>0.132</td>\n",
       "      <td>0.019</td>\n",
       "      <td>0.02</td>\n",
       "      <td>0.121</td>\n",
       "      <td>0.119</td>\n",
       "      <td>0.022</td>\n",
       "    </tr>\n",
       "    <tr>\n",
       "      <th>rank_test_recall</th>\n",
       "      <td>4</td>\n",
       "      <td>5</td>\n",
       "      <td>6</td>\n",
       "      <td>3</td>\n",
       "      <td>2</td>\n",
       "      <td>1</td>\n",
       "    </tr>\n",
       "    <tr>\n",
       "      <th>split0_train_recall</th>\n",
       "      <td>0.292</td>\n",
       "      <td>0.376</td>\n",
       "      <td>0.373</td>\n",
       "      <td>0.498</td>\n",
       "      <td>0.511</td>\n",
       "      <td>0.504</td>\n",
       "    </tr>\n",
       "    <tr>\n",
       "      <th>split1_train_recall</th>\n",
       "      <td>0.631</td>\n",
       "      <td>0.391</td>\n",
       "      <td>0.399</td>\n",
       "      <td>0.554</td>\n",
       "      <td>0.526</td>\n",
       "      <td>0.494</td>\n",
       "    </tr>\n",
       "    <tr>\n",
       "      <th>split2_train_recall</th>\n",
       "      <td>0.41</td>\n",
       "      <td>0.403</td>\n",
       "      <td>0.372</td>\n",
       "      <td>0.277</td>\n",
       "      <td>0.28</td>\n",
       "      <td>0.475</td>\n",
       "    </tr>\n",
       "    <tr>\n",
       "      <th>mean_train_recall</th>\n",
       "      <td>0.444</td>\n",
       "      <td>0.39</td>\n",
       "      <td>0.381</td>\n",
       "      <td>0.443</td>\n",
       "      <td>0.439</td>\n",
       "      <td>0.491</td>\n",
       "    </tr>\n",
       "    <tr>\n",
       "      <th>std_train_recall</th>\n",
       "      <td>0.14</td>\n",
       "      <td>0.011</td>\n",
       "      <td>0.012</td>\n",
       "      <td>0.12</td>\n",
       "      <td>0.113</td>\n",
       "      <td>0.012</td>\n",
       "    </tr>\n",
       "    <tr>\n",
       "      <th>split0_test_precision</th>\n",
       "      <td>0.649</td>\n",
       "      <td>0.684</td>\n",
       "      <td>0.685</td>\n",
       "      <td>0.635</td>\n",
       "      <td>0.629</td>\n",
       "      <td>0.632</td>\n",
       "    </tr>\n",
       "    <tr>\n",
       "      <th>split1_test_precision</th>\n",
       "      <td>0.52</td>\n",
       "      <td>0.654</td>\n",
       "      <td>0.653</td>\n",
       "      <td>0.549</td>\n",
       "      <td>0.597</td>\n",
       "      <td>0.63</td>\n",
       "    </tr>\n",
       "    <tr>\n",
       "      <th>split2_test_precision</th>\n",
       "      <td>0.628</td>\n",
       "      <td>0.663</td>\n",
       "      <td>0.675</td>\n",
       "      <td>0.712</td>\n",
       "      <td>0.705</td>\n",
       "      <td>0.643</td>\n",
       "    </tr>\n",
       "    <tr>\n",
       "      <th>mean_test_precision</th>\n",
       "      <td>0.599</td>\n",
       "      <td>0.667</td>\n",
       "      <td>0.671</td>\n",
       "      <td>0.632</td>\n",
       "      <td>0.644</td>\n",
       "      <td>0.635</td>\n",
       "    </tr>\n",
       "    <tr>\n",
       "      <th>std_test_precision</th>\n",
       "      <td>0.056</td>\n",
       "      <td>0.013</td>\n",
       "      <td>0.014</td>\n",
       "      <td>0.067</td>\n",
       "      <td>0.045</td>\n",
       "      <td>0.006</td>\n",
       "    </tr>\n",
       "    <tr>\n",
       "      <th>rank_test_precision</th>\n",
       "      <td>6</td>\n",
       "      <td>2</td>\n",
       "      <td>1</td>\n",
       "      <td>5</td>\n",
       "      <td>3</td>\n",
       "      <td>4</td>\n",
       "    </tr>\n",
       "    <tr>\n",
       "      <th>split0_train_precision</th>\n",
       "      <td>0.639</td>\n",
       "      <td>0.668</td>\n",
       "      <td>0.669</td>\n",
       "      <td>0.656</td>\n",
       "      <td>0.635</td>\n",
       "      <td>0.637</td>\n",
       "    </tr>\n",
       "    <tr>\n",
       "      <th>split1_train_precision</th>\n",
       "      <td>0.531</td>\n",
       "      <td>0.673</td>\n",
       "      <td>0.679</td>\n",
       "      <td>0.585</td>\n",
       "      <td>0.626</td>\n",
       "      <td>0.646</td>\n",
       "    </tr>\n",
       "    <tr>\n",
       "      <th>split2_train_precision</th>\n",
       "      <td>0.617</td>\n",
       "      <td>0.664</td>\n",
       "      <td>0.688</td>\n",
       "      <td>0.73</td>\n",
       "      <td>0.728</td>\n",
       "      <td>0.653</td>\n",
       "    </tr>\n",
       "    <tr>\n",
       "      <th>mean_train_precision</th>\n",
       "      <td>0.596</td>\n",
       "      <td>0.668</td>\n",
       "      <td>0.678</td>\n",
       "      <td>0.657</td>\n",
       "      <td>0.663</td>\n",
       "      <td>0.645</td>\n",
       "    </tr>\n",
       "    <tr>\n",
       "      <th>std_train_precision</th>\n",
       "      <td>0.046</td>\n",
       "      <td>0.004</td>\n",
       "      <td>0.008</td>\n",
       "      <td>0.059</td>\n",
       "      <td>0.046</td>\n",
       "      <td>0.007</td>\n",
       "    </tr>\n",
       "  </tbody>\n",
       "</table>\n",
       "</div>"
      ],
      "text/plain": [
       "                            0      1      2      3      4      5\n",
       "mean_fit_time           0.002  0.003  0.003  0.002  0.003  0.004\n",
       "std_fit_time              0.0    0.0    0.0    0.0    0.0    0.0\n",
       "mean_score_time         0.002  0.002  0.002  0.002  0.002  0.002\n",
       "std_score_time            0.0    0.0    0.0    0.0    0.0    0.0\n",
       "param_max_depth             3      3      3      4      4      4\n",
       "param_max_features          4      6      8      4      6      8\n",
       "split0_test_accuracy    0.774  0.797  0.797  0.794  0.796  0.796\n",
       "split1_test_accuracy    0.747  0.779  0.781   0.76  0.779  0.788\n",
       "split2_test_accuracy    0.771  0.781  0.778  0.771   0.77  0.784\n",
       "mean_test_accuracy      0.764  0.786  0.785  0.775  0.782  0.789\n",
       "std_test_accuracy       0.012  0.008  0.008  0.014   0.01  0.005\n",
       "rank_test_accuracy          6      2      3      5      4      1\n",
       "split0_train_accuracy   0.765  0.782  0.782  0.795   0.79  0.789\n",
       "split1_train_accuracy   0.754  0.788   0.79  0.777  0.791  0.794\n",
       "split2_train_accuracy   0.778  0.789  0.791  0.783  0.783  0.796\n",
       "mean_train_accuracy     0.766  0.786  0.787  0.785  0.788  0.793\n",
       "std_train_accuracy       0.01  0.003  0.004  0.007  0.003  0.003\n",
       "split0_test_recall      0.282  0.406  0.404  0.488  0.519  0.512\n",
       "split1_test_recall      0.599  0.361  0.374  0.544  0.518  0.491\n",
       "split2_test_recall      0.386  0.396  0.355  0.264  0.267  0.458\n",
       "mean_test_recall        0.422  0.387  0.378  0.432  0.435  0.487\n",
       "std_test_recall         0.132  0.019   0.02  0.121  0.119  0.022\n",
       "rank_test_recall            4      5      6      3      2      1\n",
       "split0_train_recall     0.292  0.376  0.373  0.498  0.511  0.504\n",
       "split1_train_recall     0.631  0.391  0.399  0.554  0.526  0.494\n",
       "split2_train_recall      0.41  0.403  0.372  0.277   0.28  0.475\n",
       "mean_train_recall       0.444   0.39  0.381  0.443  0.439  0.491\n",
       "std_train_recall         0.14  0.011  0.012   0.12  0.113  0.012\n",
       "split0_test_precision   0.649  0.684  0.685  0.635  0.629  0.632\n",
       "split1_test_precision    0.52  0.654  0.653  0.549  0.597   0.63\n",
       "split2_test_precision   0.628  0.663  0.675  0.712  0.705  0.643\n",
       "mean_test_precision     0.599  0.667  0.671  0.632  0.644  0.635\n",
       "std_test_precision      0.056  0.013  0.014  0.067  0.045  0.006\n",
       "rank_test_precision         6      2      1      5      3      4\n",
       "split0_train_precision  0.639  0.668  0.669  0.656  0.635  0.637\n",
       "split1_train_precision  0.531  0.673  0.679  0.585  0.626  0.646\n",
       "split2_train_precision  0.617  0.664  0.688   0.73  0.728  0.653\n",
       "mean_train_precision    0.596  0.668  0.678  0.657  0.663  0.645\n",
       "std_train_precision     0.046  0.004  0.008  0.059  0.046  0.007"
      ]
     },
     "execution_count": 322,
     "metadata": {},
     "output_type": "execute_result"
    }
   ],
   "source": [
    "df_results = pd.DataFrame(grid_search.cv_results_).round(3)\n",
    "df_results = df_results.drop(['params'], axis='columns')\n",
    "df_results.transpose()"
   ]
  },
  {
   "cell_type": "markdown",
   "metadata": {
    "id": "nU6xxc1XNQMu"
   },
   "source": [
    "*g. Display the most relevant results, the means.*"
   ]
  },
  {
   "attachments": {},
   "cell_type": "markdown",
   "metadata": {},
   "source": [
    "Reduce the results to just the desired columns and rename for readability:"
   ]
  },
  {
   "cell_type": "code",
   "execution_count": 323,
   "metadata": {},
   "outputs": [
    {
     "data": {
      "text/html": [
       "<div>\n",
       "<style scoped>\n",
       "    .dataframe tbody tr th:only-of-type {\n",
       "        vertical-align: middle;\n",
       "    }\n",
       "\n",
       "    .dataframe tbody tr th {\n",
       "        vertical-align: top;\n",
       "    }\n",
       "\n",
       "    .dataframe thead th {\n",
       "        text-align: right;\n",
       "    }\n",
       "</style>\n",
       "<table border=\"1\" class=\"dataframe\">\n",
       "  <thead>\n",
       "    <tr style=\"text-align: right;\">\n",
       "      <th></th>\n",
       "      <th>depth</th>\n",
       "      <th>features</th>\n",
       "      <th>test_accuracy</th>\n",
       "      <th>test_recall</th>\n",
       "      <th>test_precision</th>\n",
       "      <th>train_accuracy</th>\n",
       "      <th>train_recall</th>\n",
       "      <th>train_precision</th>\n",
       "    </tr>\n",
       "  </thead>\n",
       "  <tbody>\n",
       "    <tr>\n",
       "      <th>0</th>\n",
       "      <td>3</td>\n",
       "      <td>4</td>\n",
       "      <td>0.764</td>\n",
       "      <td>0.422</td>\n",
       "      <td>0.599</td>\n",
       "      <td>0.766</td>\n",
       "      <td>0.444</td>\n",
       "      <td>0.596</td>\n",
       "    </tr>\n",
       "    <tr>\n",
       "      <th>1</th>\n",
       "      <td>3</td>\n",
       "      <td>6</td>\n",
       "      <td>0.786</td>\n",
       "      <td>0.387</td>\n",
       "      <td>0.667</td>\n",
       "      <td>0.786</td>\n",
       "      <td>0.390</td>\n",
       "      <td>0.668</td>\n",
       "    </tr>\n",
       "    <tr>\n",
       "      <th>2</th>\n",
       "      <td>3</td>\n",
       "      <td>8</td>\n",
       "      <td>0.785</td>\n",
       "      <td>0.378</td>\n",
       "      <td>0.671</td>\n",
       "      <td>0.787</td>\n",
       "      <td>0.381</td>\n",
       "      <td>0.678</td>\n",
       "    </tr>\n",
       "    <tr>\n",
       "      <th>3</th>\n",
       "      <td>4</td>\n",
       "      <td>4</td>\n",
       "      <td>0.775</td>\n",
       "      <td>0.432</td>\n",
       "      <td>0.632</td>\n",
       "      <td>0.785</td>\n",
       "      <td>0.443</td>\n",
       "      <td>0.657</td>\n",
       "    </tr>\n",
       "    <tr>\n",
       "      <th>4</th>\n",
       "      <td>4</td>\n",
       "      <td>6</td>\n",
       "      <td>0.782</td>\n",
       "      <td>0.435</td>\n",
       "      <td>0.644</td>\n",
       "      <td>0.788</td>\n",
       "      <td>0.439</td>\n",
       "      <td>0.663</td>\n",
       "    </tr>\n",
       "    <tr>\n",
       "      <th>5</th>\n",
       "      <td>4</td>\n",
       "      <td>8</td>\n",
       "      <td>0.789</td>\n",
       "      <td>0.487</td>\n",
       "      <td>0.635</td>\n",
       "      <td>0.793</td>\n",
       "      <td>0.491</td>\n",
       "      <td>0.645</td>\n",
       "    </tr>\n",
       "  </tbody>\n",
       "</table>\n",
       "</div>"
      ],
      "text/plain": [
       "  depth features  test_accuracy  test_recall  test_precision  train_accuracy  \\\n",
       "0     3        4          0.764        0.422           0.599           0.766   \n",
       "1     3        6          0.786        0.387           0.667           0.786   \n",
       "2     3        8          0.785        0.378           0.671           0.787   \n",
       "3     4        4          0.775        0.432           0.632           0.785   \n",
       "4     4        6          0.782        0.435           0.644           0.788   \n",
       "5     4        8          0.789        0.487           0.635           0.793   \n",
       "\n",
       "   train_recall  train_precision  \n",
       "0         0.444            0.596  \n",
       "1         0.390            0.668  \n",
       "2         0.381            0.678  \n",
       "3         0.443            0.657  \n",
       "4         0.439            0.663  \n",
       "5         0.491            0.645  "
      ]
     },
     "execution_count": 323,
     "metadata": {},
     "output_type": "execute_result"
    }
   ],
   "source": [
    "df_summary = df_results[['param_max_depth', 'param_max_features',\n",
    "'mean_test_accuracy', 'mean_test_recall', 'mean_test_precision', \n",
    "'mean_train_accuracy','mean_train_recall', 'mean_train_precision']]\n",
    "df_summary = df_summary.rename(columns= {\n",
    "'param_max_depth': 'depth',\n",
    "'param_max_features': 'features',\n",
    "'mean_test_accuracy': 'test_accuracy',\n",
    "'mean_test_recall': 'test_recall',\n",
    "'mean_test_precision': 'test_precision',\n",
    "'mean_train_accuracy': 'train_accuracy',\n",
    "'mean_train_recall': 'train_recall',\n",
    "'mean_train_precision': 'train_precision'})\n",
    "df_summary"
   ]
  },
  {
   "attachments": {},
   "cell_type": "markdown",
   "metadata": {},
   "source": [
    "Calculate the variance between train_precision and test_precision for all folds:"
   ]
  },
  {
   "cell_type": "code",
   "execution_count": 324,
   "metadata": {},
   "outputs": [
    {
     "data": {
      "text/html": [
       "<div>\n",
       "<style scoped>\n",
       "    .dataframe tbody tr th:only-of-type {\n",
       "        vertical-align: middle;\n",
       "    }\n",
       "\n",
       "    .dataframe tbody tr th {\n",
       "        vertical-align: top;\n",
       "    }\n",
       "\n",
       "    .dataframe thead th {\n",
       "        text-align: right;\n",
       "    }\n",
       "</style>\n",
       "<table border=\"1\" class=\"dataframe\">\n",
       "  <thead>\n",
       "    <tr style=\"text-align: right;\">\n",
       "      <th></th>\n",
       "      <th>depth</th>\n",
       "      <th>features</th>\n",
       "      <th>test_accuracy</th>\n",
       "      <th>test_recall</th>\n",
       "      <th>test_precision</th>\n",
       "      <th>train_accuracy</th>\n",
       "      <th>train_recall</th>\n",
       "      <th>train_precision</th>\n",
       "      <th>precision_variance</th>\n",
       "    </tr>\n",
       "  </thead>\n",
       "  <tbody>\n",
       "    <tr>\n",
       "      <th>0</th>\n",
       "      <td>3</td>\n",
       "      <td>4</td>\n",
       "      <td>0.764</td>\n",
       "      <td>0.422</td>\n",
       "      <td>0.599</td>\n",
       "      <td>0.766</td>\n",
       "      <td>0.444</td>\n",
       "      <td>0.596</td>\n",
       "      <td>0.003</td>\n",
       "    </tr>\n",
       "    <tr>\n",
       "      <th>1</th>\n",
       "      <td>3</td>\n",
       "      <td>6</td>\n",
       "      <td>0.786</td>\n",
       "      <td>0.387</td>\n",
       "      <td>0.667</td>\n",
       "      <td>0.786</td>\n",
       "      <td>0.390</td>\n",
       "      <td>0.668</td>\n",
       "      <td>0.001</td>\n",
       "    </tr>\n",
       "    <tr>\n",
       "      <th>2</th>\n",
       "      <td>3</td>\n",
       "      <td>8</td>\n",
       "      <td>0.785</td>\n",
       "      <td>0.378</td>\n",
       "      <td>0.671</td>\n",
       "      <td>0.787</td>\n",
       "      <td>0.381</td>\n",
       "      <td>0.678</td>\n",
       "      <td>0.007</td>\n",
       "    </tr>\n",
       "    <tr>\n",
       "      <th>3</th>\n",
       "      <td>4</td>\n",
       "      <td>4</td>\n",
       "      <td>0.775</td>\n",
       "      <td>0.432</td>\n",
       "      <td>0.632</td>\n",
       "      <td>0.785</td>\n",
       "      <td>0.443</td>\n",
       "      <td>0.657</td>\n",
       "      <td>0.025</td>\n",
       "    </tr>\n",
       "    <tr>\n",
       "      <th>4</th>\n",
       "      <td>4</td>\n",
       "      <td>6</td>\n",
       "      <td>0.782</td>\n",
       "      <td>0.435</td>\n",
       "      <td>0.644</td>\n",
       "      <td>0.788</td>\n",
       "      <td>0.439</td>\n",
       "      <td>0.663</td>\n",
       "      <td>0.019</td>\n",
       "    </tr>\n",
       "    <tr>\n",
       "      <th>5</th>\n",
       "      <td>4</td>\n",
       "      <td>8</td>\n",
       "      <td>0.789</td>\n",
       "      <td>0.487</td>\n",
       "      <td>0.635</td>\n",
       "      <td>0.793</td>\n",
       "      <td>0.491</td>\n",
       "      <td>0.645</td>\n",
       "      <td>0.010</td>\n",
       "    </tr>\n",
       "  </tbody>\n",
       "</table>\n",
       "</div>"
      ],
      "text/plain": [
       "  depth features  test_accuracy  test_recall  test_precision  train_accuracy  \\\n",
       "0     3        4          0.764        0.422           0.599           0.766   \n",
       "1     3        6          0.786        0.387           0.667           0.786   \n",
       "2     3        8          0.785        0.378           0.671           0.787   \n",
       "3     4        4          0.775        0.432           0.632           0.785   \n",
       "4     4        6          0.782        0.435           0.644           0.788   \n",
       "5     4        8          0.789        0.487           0.635           0.793   \n",
       "\n",
       "   train_recall  train_precision  precision_variance  \n",
       "0         0.444            0.596               0.003  \n",
       "1         0.390            0.668               0.001  \n",
       "2         0.381            0.678               0.007  \n",
       "3         0.443            0.657               0.025  \n",
       "4         0.439            0.663               0.019  \n",
       "5         0.491            0.645               0.010  "
      ]
     },
     "execution_count": 324,
     "metadata": {},
     "output_type": "execute_result"
    }
   ],
   "source": [
    "df_summary['precision_variance'] = abs(df_summary['train_precision'] - df_summary['test_precision'])\n",
    "df_summary"
   ]
  },
  {
   "cell_type": "markdown",
   "metadata": {
    "id": "UzDYDIraNQMu"
   },
   "source": [
    "*h. Main management goal is to detect churners before they churn, which means focus on avoiding false positives. So, focus on precision. Why is the model with a depth of 3 and 6 features a good model to choose?*"
   ]
  },
  {
   "attachments": {},
   "cell_type": "markdown",
   "metadata": {},
   "source": [
    "Based on the above information, the model with a depth of 3 and 6 features appears to be a good model to choose because it has one of the highest precision scores with the smallest variance between the training and testing data at 0.667 test_precision and 0.668 train_precision."
   ]
  },
  {
   "cell_type": "markdown",
   "metadata": {
    "id": "3C15fmGzNQMu"
   },
   "source": [
    "*i. Given sufficient fit, estimate the model on the full data set as the best estimates are generally obtained with the most data.*"
   ]
  },
  {
   "cell_type": "code",
   "execution_count": 325,
   "metadata": {},
   "outputs": [],
   "source": [
    "dt_model = DecisionTreeClassifier(max_depth=3, max_features=6)\n",
    "mf = dt_model.fit(X,y)"
   ]
  },
  {
   "cell_type": "markdown",
   "metadata": {
    "id": "xmSuuqdRNQMu"
   },
   "source": [
    "*j. Calculate $\\hat y$.*"
   ]
  },
  {
   "cell_type": "code",
   "execution_count": 326,
   "metadata": {},
   "outputs": [
    {
     "data": {
      "text/plain": [
       "array([0, 0, 0, ..., 0, 1, 0])"
      ]
     },
     "execution_count": 326,
     "metadata": {},
     "output_type": "execute_result"
    }
   ],
   "source": [
    "y_fit = dt_model.predict(X)\n",
    "y_fit"
   ]
  },
  {
   "attachments": {},
   "cell_type": "markdown",
   "metadata": {},
   "source": [
    "Check results in confusion matrix:"
   ]
  },
  {
   "cell_type": "code",
   "execution_count": 327,
   "metadata": {},
   "outputs": [
    {
     "data": {
      "text/html": [
       "<div>\n",
       "<style scoped>\n",
       "    .dataframe tbody tr th:only-of-type {\n",
       "        vertical-align: middle;\n",
       "    }\n",
       "\n",
       "    .dataframe tbody tr th {\n",
       "        vertical-align: top;\n",
       "    }\n",
       "\n",
       "    .dataframe thead th {\n",
       "        text-align: right;\n",
       "    }\n",
       "</style>\n",
       "<table border=\"1\" class=\"dataframe\">\n",
       "  <thead>\n",
       "    <tr style=\"text-align: right;\">\n",
       "      <th></th>\n",
       "      <th>0</th>\n",
       "      <th>1</th>\n",
       "    </tr>\n",
       "  </thead>\n",
       "  <tbody>\n",
       "    <tr>\n",
       "      <th>0</th>\n",
       "      <td>4763</td>\n",
       "      <td>400</td>\n",
       "    </tr>\n",
       "    <tr>\n",
       "      <th>1</th>\n",
       "      <td>1116</td>\n",
       "      <td>753</td>\n",
       "    </tr>\n",
       "  </tbody>\n",
       "</table>\n",
       "</div>"
      ],
      "text/plain": [
       "      0    1\n",
       "0  4763  400\n",
       "1  1116  753"
      ]
     },
     "execution_count": 327,
     "metadata": {},
     "output_type": "execute_result"
    }
   ],
   "source": [
    "from sklearn.metrics import confusion_matrix\n",
    "pd.DataFrame(confusion_matrix(y, y_fit))"
   ]
  },
  {
   "cell_type": "markdown",
   "metadata": {
    "id": "kQBh1SouNQMu"
   },
   "source": [
    "## Illustrate the Model"
   ]
  },
  {
   "cell_type": "markdown",
   "metadata": {
    "id": "ltA_qCHFNQMu"
   },
   "source": [
    "*k. Draw the tree diagram.*"
   ]
  },
  {
   "cell_type": "code",
   "execution_count": 328,
   "metadata": {},
   "outputs": [
    {
     "data": {
      "image/png": "[encoded data removed]",
      "text/plain": [
       "<Figure size 1200x800 with 1 Axes>"
      ]
     },
     "metadata": {},
     "output_type": "display_data"
    }
   ],
   "source": [
    "from sklearn import tree\n",
    "plt.figure(figsize=(12,8))\n",
    "tree.plot_tree(mf, feature_names=features, class_names=classes, \n",
    "               rounded=True, filled=True)\n",
    "plt.savefig('dt_Churn.png')"
   ]
  },
  {
   "attachments": {},
   "cell_type": "markdown",
   "metadata": {
    "id": "eAN6M4E-NQMv"
   },
   "source": [
    "*l. Focus on specific leaves.*\n",
    "\n",
    "- *Specify the decision rules that does the best job of detecting churners.*<br></br>\n",
    "The leaf that does the best job of detecting churners is the leaf third from the left with 202 correctly classified as churn_yes, or 85.23% of total observations.<br></br>\n",
    "- *Specify the decision rules that does the worst job in the sense of too many false positives.*<br></br>\n",
    "The leaf that does the worst job in the sense of too many false positives is the leaf fourth from the left, with 39.85% (365 people) misclassified as positive"
   ]
  },
  {
   "cell_type": "markdown",
   "metadata": {
    "id": "N7e-hCTrNQMv"
   },
   "source": [
    "## Apply the Model"
   ]
  },
  {
   "cell_type": "markdown",
   "metadata": {
    "id": "UHN9XrMuNQMv"
   },
   "source": [
    "*m. Apply the model to a person who has the following scores.*\n",
    "\n",
    "- Charges = 45\n",
    "- TotalCharges = 45\n",
    "- MtoM = 29\n",
    "- Paperless = 1\n",
    "- Check = 1\n",
    "- Phone = 0\n",
    "- tenure = 0 \n",
    "- Dependents = 1\n",
    "- Internet = 0"
   ]
  },
  {
   "cell_type": "code",
   "execution_count": 330,
   "metadata": {},
   "outputs": [
    {
     "data": {
      "text/plain": [
       "Index(['Charges', 'TotalCharges', 'MtoM', 'Paperless', 'Check', 'Phone',\n",
       "       'Tenure', 'Dependents', 'Internet'],\n",
       "      dtype='object')"
      ]
     },
     "execution_count": 330,
     "metadata": {},
     "output_type": "execute_result"
    }
   ],
   "source": [
    "X.columns"
   ]
  },
  {
   "attachments": {},
   "cell_type": "markdown",
   "metadata": {},
   "source": [
    "Add the new data and view it in a data frame:"
   ]
  },
  {
   "cell_type": "code",
   "execution_count": 331,
   "metadata": {},
   "outputs": [
    {
     "data": {
      "text/html": [
       "<div>\n",
       "<style scoped>\n",
       "    .dataframe tbody tr th:only-of-type {\n",
       "        vertical-align: middle;\n",
       "    }\n",
       "\n",
       "    .dataframe tbody tr th {\n",
       "        vertical-align: top;\n",
       "    }\n",
       "\n",
       "    .dataframe thead th {\n",
       "        text-align: right;\n",
       "    }\n",
       "</style>\n",
       "<table border=\"1\" class=\"dataframe\">\n",
       "  <thead>\n",
       "    <tr style=\"text-align: right;\">\n",
       "      <th></th>\n",
       "      <th>Charges</th>\n",
       "      <th>TotalCharges</th>\n",
       "      <th>MtoM</th>\n",
       "      <th>Paperless</th>\n",
       "      <th>Check</th>\n",
       "      <th>Phone</th>\n",
       "      <th>Tenure</th>\n",
       "      <th>Dependents</th>\n",
       "      <th>Internet</th>\n",
       "    </tr>\n",
       "  </thead>\n",
       "  <tbody>\n",
       "    <tr>\n",
       "      <th>0</th>\n",
       "      <td>45</td>\n",
       "      <td>45</td>\n",
       "      <td>29</td>\n",
       "      <td>1</td>\n",
       "      <td>1</td>\n",
       "      <td>0</td>\n",
       "      <td>0</td>\n",
       "      <td>1</td>\n",
       "      <td>0</td>\n",
       "    </tr>\n",
       "  </tbody>\n",
       "</table>\n",
       "</div>"
      ],
      "text/plain": [
       "   Charges  TotalCharges  MtoM  Paperless  Check  Phone  Tenure  Dependents  \\\n",
       "0       45            45    29          1      1      0       0           1   \n",
       "\n",
       "   Internet  \n",
       "0         0  "
      ]
     },
     "execution_count": 331,
     "metadata": {},
     "output_type": "execute_result"
    }
   ],
   "source": [
    "X_new = [[45,45,29,1,1,0,0,1,0]]\n",
    "X_new = pd.DataFrame(X_new)\n",
    "X_new.columns = X.columns\n",
    "X_new"
   ]
  },
  {
   "attachments": {},
   "cell_type": "markdown",
   "metadata": {},
   "source": [
    "Apply the model with the new data:"
   ]
  },
  {
   "cell_type": "code",
   "execution_count": 332,
   "metadata": {},
   "outputs": [
    {
     "name": "stdout",
     "output_type": "stream",
     "text": [
      "Probability of Churn_no: 0.148\n",
      "Probability of Churn_yes 0.852\n",
      "Predicted group membership: [1]\n"
     ]
    }
   ],
   "source": [
    "y_prob = dt_model.predict_proba(X_new)\n",
    "print('Probability of Churn_no:', round(y_prob[0,0], 3))\n",
    "print('Probability of Churn_yes', round(y_prob[0,1], 3))\n",
    "y_new = dt_model.predict(X_new)\n",
    "print('Predicted group membership:', y_new)"
   ]
  },
  {
   "attachments": {},
   "cell_type": "markdown",
   "metadata": {},
   "source": [
    "This customer has an 85.2% probability of churning, so they are labeled as Churn_yes."
   ]
  }
 ],
 "metadata": {
  "colab": {
   "collapsed_sections": [],
   "name": "HW06WP_510.ipynb",
   "provenance": []
  },
  "kernelspec": {
   "display_name": "GSCM575-env",
   "language": "python",
   "name": "python3"
  },
  "language_info": {
   "codemirror_mode": {
    "name": "ipython",
    "version": 3
   },
   "file_extension": ".py",
   "mimetype": "text/x-python",
   "name": "python",
   "nbconvert_exporter": "python",
   "pygments_lexer": "ipython3",
   "version": "3.10.11"
  },
  "toc": {
   "base_numbering": 1,
   "nav_menu": {},
   "number_sections": true,
   "sideBar": false,
   "skip_h1_title": true,
   "title_cell": "Table of Contents",
   "title_sidebar": "Contents",
   "toc_cell": true,
   "toc_position": {},
   "toc_section_display": false,
   "toc_window_display": false
  },
  "vscode": {
   "interpreter": {
    "hash": "a87dc369cd14b942dbff8373bbfed58fbbccf4ffa1171535e30b698977cb5b70"
   }
  }
 },
 "nbformat": 4,
 "nbformat_minor": 1
}
