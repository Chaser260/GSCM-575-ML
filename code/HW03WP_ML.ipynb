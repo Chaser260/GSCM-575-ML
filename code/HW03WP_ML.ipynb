{
 "cells": [
  {
   "cell_type": "markdown",
   "metadata": {
    "id": "4CivhaCKwLVe"
   },
   "source": [
    "#  HW 3 Worked Problems"
   ]
  },
  {
   "attachments": {},
   "cell_type": "markdown",
   "metadata": {
    "id": "zHH2CbQUwLVg"
   },
   "source": [
    "<div id=\"author\">\n",
    "Chase Carlson<br>\n",
    "GSCM 575 - Machine Learning for Business<br>\n",
    "The School of Business<br>\n",
    "Portland State University<br>\n",
    "</div>"
   ]
  },
  {
   "cell_type": "code",
   "execution_count": 1,
   "metadata": {},
   "outputs": [
    {
     "name": "stdout",
     "output_type": "stream",
     "text": [
      "Analysis on  2023-07-14 at  19:32 PM\n"
     ]
    }
   ],
   "source": [
    "from datetime import datetime as dt\n",
    "now = dt.now()\n",
    "print(\"Analysis on \", now.strftime(\"%Y-%m-%d\"), \"at \", now.strftime(\"%H:%M %p\"))"
   ]
  },
  {
   "cell_type": "code",
   "execution_count": 2,
   "metadata": {},
   "outputs": [
    {
     "data": {
      "text/plain": [
       "'/Users/chasecarlson/Documents/GSCM Course Materials/GSCM 575 Machine Learning in Business/Python Pjojects/GSCM-575-ML/code'"
      ]
     },
     "execution_count": 2,
     "metadata": {},
     "output_type": "execute_result"
    }
   ],
   "source": [
    "import os\n",
    "os.getcwd()"
   ]
  },
  {
   "cell_type": "markdown",
   "metadata": {
    "id": "Sj2sOe7twLVh"
   },
   "source": [
    "The data for both problems in this homework are real body measurements of customers for a motorcycle online clothing retailer (for which I consulted and gained permission to use the anonymized data for non-commercial purposes).\n",
    "\n",
    "Data: http://web.pdx.edu/~gerbing/data/BodyMeas.csv\n"
   ]
  },
  {
   "attachments": {},
   "cell_type": "markdown",
   "metadata": {},
   "source": [
    "### Import packages"
   ]
  },
  {
   "cell_type": "code",
   "execution_count": 3,
   "metadata": {},
   "outputs": [],
   "source": [
    "import pandas as pd\n",
    "import numpy as np\n",
    "import matplotlib.pyplot as plt\n",
    "import seaborn as sns"
   ]
  },
  {
   "attachments": {},
   "cell_type": "markdown",
   "metadata": {},
   "source": [
    "### Import Dataset"
   ]
  },
  {
   "cell_type": "code",
   "execution_count": 4,
   "metadata": {},
   "outputs": [
    {
     "data": {
      "text/html": [
       "<div>\n",
       "<style scoped>\n",
       "    .dataframe tbody tr th:only-of-type {\n",
       "        vertical-align: middle;\n",
       "    }\n",
       "\n",
       "    .dataframe tbody tr th {\n",
       "        vertical-align: top;\n",
       "    }\n",
       "\n",
       "    .dataframe thead th {\n",
       "        text-align: right;\n",
       "    }\n",
       "</style>\n",
       "<table border=\"1\" class=\"dataframe\">\n",
       "  <thead>\n",
       "    <tr style=\"text-align: right;\">\n",
       "      <th></th>\n",
       "      <th>Gender</th>\n",
       "      <th>Weight</th>\n",
       "      <th>Height</th>\n",
       "      <th>Waist</th>\n",
       "      <th>Hips</th>\n",
       "      <th>Chest</th>\n",
       "      <th>Hand</th>\n",
       "      <th>Shoe</th>\n",
       "    </tr>\n",
       "  </thead>\n",
       "  <tbody>\n",
       "    <tr>\n",
       "      <th>0</th>\n",
       "      <td>F</td>\n",
       "      <td>200</td>\n",
       "      <td>71</td>\n",
       "      <td>43</td>\n",
       "      <td>46</td>\n",
       "      <td>45</td>\n",
       "      <td>8.5</td>\n",
       "      <td>7.5</td>\n",
       "    </tr>\n",
       "    <tr>\n",
       "      <th>1</th>\n",
       "      <td>F</td>\n",
       "      <td>155</td>\n",
       "      <td>66</td>\n",
       "      <td>31</td>\n",
       "      <td>43</td>\n",
       "      <td>37</td>\n",
       "      <td>8.0</td>\n",
       "      <td>8.0</td>\n",
       "    </tr>\n",
       "    <tr>\n",
       "      <th>2</th>\n",
       "      <td>F</td>\n",
       "      <td>145</td>\n",
       "      <td>64</td>\n",
       "      <td>35</td>\n",
       "      <td>40</td>\n",
       "      <td>40</td>\n",
       "      <td>7.5</td>\n",
       "      <td>7.5</td>\n",
       "    </tr>\n",
       "    <tr>\n",
       "      <th>3</th>\n",
       "      <td>F</td>\n",
       "      <td>140</td>\n",
       "      <td>66</td>\n",
       "      <td>31</td>\n",
       "      <td>40</td>\n",
       "      <td>36</td>\n",
       "      <td>8.0</td>\n",
       "      <td>9.0</td>\n",
       "    </tr>\n",
       "    <tr>\n",
       "      <th>4</th>\n",
       "      <td>M</td>\n",
       "      <td>230</td>\n",
       "      <td>76</td>\n",
       "      <td>40</td>\n",
       "      <td>43</td>\n",
       "      <td>44</td>\n",
       "      <td>9.0</td>\n",
       "      <td>12.0</td>\n",
       "    </tr>\n",
       "  </tbody>\n",
       "</table>\n",
       "</div>"
      ],
      "text/plain": [
       "  Gender  Weight  Height  Waist  Hips  Chest  Hand  Shoe\n",
       "0      F     200      71     43    46     45   8.5   7.5\n",
       "1      F     155      66     31    43     37   8.0   8.0\n",
       "2      F     145      64     35    40     40   7.5   7.5\n",
       "3      F     140      66     31    40     36   8.0   9.0\n",
       "4      M     230      76     40    43     44   9.0  12.0"
      ]
     },
     "execution_count": 4,
     "metadata": {},
     "output_type": "execute_result"
    }
   ],
   "source": [
    "df = pd.read_csv(\"http://web.pdx.edu/~gerbing/data/BodyMeas.csv\")\n",
    "df.head()"
   ]
  },
  {
   "cell_type": "markdown",
   "metadata": {
    "id": "1aD-PMJnwLVh"
   },
   "source": [
    "## 1. Data Summary"
   ]
  },
  {
   "cell_type": "markdown",
   "metadata": {
    "id": "4tkvUijewLVi"
   },
   "source": [
    "*a.\tHow many samples (rows of data) and columns are there in the data file?*"
   ]
  },
  {
   "cell_type": "code",
   "execution_count": 5,
   "metadata": {},
   "outputs": [
    {
     "data": {
      "text/plain": [
       "(340, 8)"
      ]
     },
     "execution_count": 5,
     "metadata": {},
     "output_type": "execute_result"
    }
   ],
   "source": [
    "df.shape"
   ]
  },
  {
   "attachments": {},
   "cell_type": "markdown",
   "metadata": {},
   "source": [
    "There are 340 rows and 8 columns in this data file."
   ]
  },
  {
   "cell_type": "markdown",
   "metadata": {
    "id": "07-QXOg_wLVi"
   },
   "source": [
    "*b.\tDisplay the first 6 rows of data and the variable names.*"
   ]
  },
  {
   "cell_type": "code",
   "execution_count": 6,
   "metadata": {},
   "outputs": [
    {
     "data": {
      "text/html": [
       "<div>\n",
       "<style scoped>\n",
       "    .dataframe tbody tr th:only-of-type {\n",
       "        vertical-align: middle;\n",
       "    }\n",
       "\n",
       "    .dataframe tbody tr th {\n",
       "        vertical-align: top;\n",
       "    }\n",
       "\n",
       "    .dataframe thead th {\n",
       "        text-align: right;\n",
       "    }\n",
       "</style>\n",
       "<table border=\"1\" class=\"dataframe\">\n",
       "  <thead>\n",
       "    <tr style=\"text-align: right;\">\n",
       "      <th></th>\n",
       "      <th>Gender</th>\n",
       "      <th>Weight</th>\n",
       "      <th>Height</th>\n",
       "      <th>Waist</th>\n",
       "      <th>Hips</th>\n",
       "      <th>Chest</th>\n",
       "      <th>Hand</th>\n",
       "      <th>Shoe</th>\n",
       "    </tr>\n",
       "  </thead>\n",
       "  <tbody>\n",
       "    <tr>\n",
       "      <th>0</th>\n",
       "      <td>F</td>\n",
       "      <td>200</td>\n",
       "      <td>71</td>\n",
       "      <td>43</td>\n",
       "      <td>46</td>\n",
       "      <td>45</td>\n",
       "      <td>8.5</td>\n",
       "      <td>7.5</td>\n",
       "    </tr>\n",
       "    <tr>\n",
       "      <th>1</th>\n",
       "      <td>F</td>\n",
       "      <td>155</td>\n",
       "      <td>66</td>\n",
       "      <td>31</td>\n",
       "      <td>43</td>\n",
       "      <td>37</td>\n",
       "      <td>8.0</td>\n",
       "      <td>8.0</td>\n",
       "    </tr>\n",
       "    <tr>\n",
       "      <th>2</th>\n",
       "      <td>F</td>\n",
       "      <td>145</td>\n",
       "      <td>64</td>\n",
       "      <td>35</td>\n",
       "      <td>40</td>\n",
       "      <td>40</td>\n",
       "      <td>7.5</td>\n",
       "      <td>7.5</td>\n",
       "    </tr>\n",
       "    <tr>\n",
       "      <th>3</th>\n",
       "      <td>F</td>\n",
       "      <td>140</td>\n",
       "      <td>66</td>\n",
       "      <td>31</td>\n",
       "      <td>40</td>\n",
       "      <td>36</td>\n",
       "      <td>8.0</td>\n",
       "      <td>9.0</td>\n",
       "    </tr>\n",
       "    <tr>\n",
       "      <th>4</th>\n",
       "      <td>M</td>\n",
       "      <td>230</td>\n",
       "      <td>76</td>\n",
       "      <td>40</td>\n",
       "      <td>43</td>\n",
       "      <td>44</td>\n",
       "      <td>9.0</td>\n",
       "      <td>12.0</td>\n",
       "    </tr>\n",
       "    <tr>\n",
       "      <th>5</th>\n",
       "      <td>F</td>\n",
       "      <td>120</td>\n",
       "      <td>67</td>\n",
       "      <td>32</td>\n",
       "      <td>39</td>\n",
       "      <td>36</td>\n",
       "      <td>7.0</td>\n",
       "      <td>8.0</td>\n",
       "    </tr>\n",
       "  </tbody>\n",
       "</table>\n",
       "</div>"
      ],
      "text/plain": [
       "  Gender  Weight  Height  Waist  Hips  Chest  Hand  Shoe\n",
       "0      F     200      71     43    46     45   8.5   7.5\n",
       "1      F     155      66     31    43     37   8.0   8.0\n",
       "2      F     145      64     35    40     40   7.5   7.5\n",
       "3      F     140      66     31    40     36   8.0   9.0\n",
       "4      M     230      76     40    43     44   9.0  12.0\n",
       "5      F     120      67     32    39     36   7.0   8.0"
      ]
     },
     "execution_count": 6,
     "metadata": {},
     "output_type": "execute_result"
    }
   ],
   "source": [
    "df.head(6)"
   ]
  },
  {
   "cell_type": "markdown",
   "metadata": {
    "id": "Nyn_c-pNwLVi"
   },
   "source": [
    "*c.\tWhat are the variables in the data table?  (Can copy and paste.)*"
   ]
  },
  {
   "attachments": {},
   "cell_type": "markdown",
   "metadata": {},
   "source": [
    "The variables names are: \"Gender\", \"Weight\", \"Height\", \"Waist\", \"Hips\", \"Chest\", \"Hand\", and \"Shoe\""
   ]
  },
  {
   "cell_type": "markdown",
   "metadata": {
    "id": "bxwyUc4jwLVj"
   },
   "source": [
    "*d.\tGenerate a frequency distribution table of Gender.*"
   ]
  },
  {
   "attachments": {},
   "cell_type": "markdown",
   "metadata": {},
   "source": [
    "Use value_counts to see how Gender is distributed. There are 170 Males and 170 Females in this data set."
   ]
  },
  {
   "cell_type": "code",
   "execution_count": 7,
   "metadata": {},
   "outputs": [
    {
     "data": {
      "text/plain": [
       "F    170\n",
       "M    170\n",
       "Name: Gender, dtype: int64"
      ]
     },
     "execution_count": 7,
     "metadata": {},
     "output_type": "execute_result"
    }
   ],
   "source": [
    "df.Gender.value_counts()"
   ]
  },
  {
   "cell_type": "markdown",
   "metadata": {
    "id": "n0aUTFHpwLVj"
   },
   "source": [
    "*e.\tGenerate a bar chart of Gender.*"
   ]
  },
  {
   "cell_type": "code",
   "execution_count": 8,
   "metadata": {},
   "outputs": [
    {
     "data": {
      "text/plain": [
       "<Axes: xlabel='Gender', ylabel='count'>"
      ]
     },
     "execution_count": 8,
     "metadata": {},
     "output_type": "execute_result"
    },
    {
     "data": {
      "image/png": "[encoded data removed]",
      "text/plain": [
       "<Figure size 640x480 with 1 Axes>"
      ]
     },
     "metadata": {},
     "output_type": "display_data"
    }
   ],
   "source": [
    "sns.countplot(df, x = \"Gender\", palette=\"pastel\")"
   ]
  },
  {
   "cell_type": "markdown",
   "metadata": {
    "id": "w4MERPjfwLVk"
   },
   "source": [
    "*f.\tAs with the posted online material, for this week we analyze only the Male customers so we can first practice with a simpler, one-predictor model. Filter the data table to contain only customers with a Male body type. Display the first 6 rows of data and the number of rows.*"
   ]
  },
  {
   "attachments": {},
   "cell_type": "markdown",
   "metadata": {},
   "source": [
    "Use query() function to filter rows that only contain Male customers."
   ]
  },
  {
   "cell_type": "code",
   "execution_count": 9,
   "metadata": {},
   "outputs": [
    {
     "data": {
      "text/html": [
       "<div>\n",
       "<style scoped>\n",
       "    .dataframe tbody tr th:only-of-type {\n",
       "        vertical-align: middle;\n",
       "    }\n",
       "\n",
       "    .dataframe tbody tr th {\n",
       "        vertical-align: top;\n",
       "    }\n",
       "\n",
       "    .dataframe thead th {\n",
       "        text-align: right;\n",
       "    }\n",
       "</style>\n",
       "<table border=\"1\" class=\"dataframe\">\n",
       "  <thead>\n",
       "    <tr style=\"text-align: right;\">\n",
       "      <th></th>\n",
       "      <th>Gender</th>\n",
       "      <th>Weight</th>\n",
       "      <th>Height</th>\n",
       "      <th>Waist</th>\n",
       "      <th>Hips</th>\n",
       "      <th>Chest</th>\n",
       "      <th>Hand</th>\n",
       "      <th>Shoe</th>\n",
       "    </tr>\n",
       "  </thead>\n",
       "  <tbody>\n",
       "    <tr>\n",
       "      <th>4</th>\n",
       "      <td>M</td>\n",
       "      <td>230</td>\n",
       "      <td>76</td>\n",
       "      <td>40</td>\n",
       "      <td>43</td>\n",
       "      <td>44</td>\n",
       "      <td>9.0</td>\n",
       "      <td>12.0</td>\n",
       "    </tr>\n",
       "    <tr>\n",
       "      <th>6</th>\n",
       "      <td>M</td>\n",
       "      <td>187</td>\n",
       "      <td>71</td>\n",
       "      <td>39</td>\n",
       "      <td>42</td>\n",
       "      <td>41</td>\n",
       "      <td>8.0</td>\n",
       "      <td>10.0</td>\n",
       "    </tr>\n",
       "    <tr>\n",
       "      <th>7</th>\n",
       "      <td>M</td>\n",
       "      <td>145</td>\n",
       "      <td>67</td>\n",
       "      <td>32</td>\n",
       "      <td>36</td>\n",
       "      <td>38</td>\n",
       "      <td>8.5</td>\n",
       "      <td>8.0</td>\n",
       "    </tr>\n",
       "    <tr>\n",
       "      <th>8</th>\n",
       "      <td>M</td>\n",
       "      <td>145</td>\n",
       "      <td>70</td>\n",
       "      <td>35</td>\n",
       "      <td>38</td>\n",
       "      <td>38</td>\n",
       "      <td>9.0</td>\n",
       "      <td>11.0</td>\n",
       "    </tr>\n",
       "    <tr>\n",
       "      <th>11</th>\n",
       "      <td>M</td>\n",
       "      <td>173</td>\n",
       "      <td>68</td>\n",
       "      <td>38</td>\n",
       "      <td>41</td>\n",
       "      <td>42</td>\n",
       "      <td>9.0</td>\n",
       "      <td>9.0</td>\n",
       "    </tr>\n",
       "    <tr>\n",
       "      <th>12</th>\n",
       "      <td>M</td>\n",
       "      <td>165</td>\n",
       "      <td>71</td>\n",
       "      <td>39</td>\n",
       "      <td>40</td>\n",
       "      <td>40</td>\n",
       "      <td>9.0</td>\n",
       "      <td>9.5</td>\n",
       "    </tr>\n",
       "  </tbody>\n",
       "</table>\n",
       "</div>"
      ],
      "text/plain": [
       "   Gender  Weight  Height  Waist  Hips  Chest  Hand  Shoe\n",
       "4       M     230      76     40    43     44   9.0  12.0\n",
       "6       M     187      71     39    42     41   8.0  10.0\n",
       "7       M     145      67     32    36     38   8.5   8.0\n",
       "8       M     145      70     35    38     38   9.0  11.0\n",
       "11      M     173      68     38    41     42   9.0   9.0\n",
       "12      M     165      71     39    40     40   9.0   9.5"
      ]
     },
     "execution_count": 9,
     "metadata": {},
     "output_type": "execute_result"
    }
   ],
   "source": [
    "df2 = df.query(\"Gender == 'M'\")\n",
    "df2.head(6)"
   ]
  },
  {
   "cell_type": "markdown",
   "metadata": {
    "id": "OTMLZf0IwLVk"
   },
   "source": [
    "*g.\tGenerate a boxplot of Weight.*"
   ]
  },
  {
   "attachments": {},
   "cell_type": "markdown",
   "metadata": {},
   "source": [
    "Use boxplot() from seaborn package to create boxplot of male customers."
   ]
  },
  {
   "cell_type": "code",
   "execution_count": 10,
   "metadata": {},
   "outputs": [
    {
     "data": {
      "text/plain": [
       "<Axes: xlabel='Weight'>"
      ]
     },
     "execution_count": 10,
     "metadata": {},
     "output_type": "execute_result"
    },
    {
     "data": {
      "image/png": "[encoded data removed]",
      "text/plain": [
       "<Figure size 600x150 with 1 Axes>"
      ]
     },
     "metadata": {},
     "output_type": "display_data"
    }
   ],
   "source": [
    "plt.figure(figsize=(6,1.5))\n",
    "sns.boxplot(df2, x = \"Weight\", color=\"lightskyblue\")"
   ]
  },
  {
   "cell_type": "markdown",
   "metadata": {
    "id": "7TMy8dwxwLVl"
   },
   "source": [
    "*h.\tGenerate the scatterplot of Weight and Chest size.*"
   ]
  },
  {
   "attachments": {},
   "cell_type": "markdown",
   "metadata": {},
   "source": [
    "Use relplot() function from seaborn package to create scatterplot of Weight and Chest size."
   ]
  },
  {
   "cell_type": "code",
   "execution_count": 11,
   "metadata": {},
   "outputs": [
    {
     "data": {
      "text/plain": [
       "<seaborn.axisgrid.FacetGrid at 0x150539d20>"
      ]
     },
     "execution_count": 11,
     "metadata": {},
     "output_type": "execute_result"
    },
    {
     "data": {
      "image/png": "[encoded data removed]",
      "text/plain": [
       "<Figure size 500x500 with 1 Axes>"
      ]
     },
     "metadata": {},
     "output_type": "display_data"
    }
   ],
   "source": [
    "sns.relplot(df2, x = 'Chest', y = 'Weight', color='lightskyblue')"
   ]
  },
  {
   "cell_type": "markdown",
   "metadata": {
    "id": "f529MVRYwLVk"
   },
   "source": [
    "*i.\tThere are outliers in the data. Either the data values are mis-entered, or, if correct, any generalizations would not properly apply to this person. Subset the data frame to remove the corresponding rows of data and display the number of rows in the filtered data frame to demonstrate the deletion.*\n",
    "\n",
    "*There is no correct number of outliers to delete, but we wish to delete as few as possible. Use the information from the boxplot and the scatterplot to provide justification for the number of outliers to delete.*"
   ]
  },
  {
   "attachments": {},
   "cell_type": "markdown",
   "metadata": {},
   "source": [
    "Reference the current shape of df2 before removing outlier"
   ]
  },
  {
   "cell_type": "code",
   "execution_count": 12,
   "metadata": {},
   "outputs": [
    {
     "data": {
      "text/plain": [
       "(170, 8)"
      ]
     },
     "execution_count": 12,
     "metadata": {},
     "output_type": "execute_result"
    }
   ],
   "source": [
    "df2.shape"
   ]
  },
  {
   "attachments": {},
   "cell_type": "markdown",
   "metadata": {},
   "source": [
    "We have at least one data point with a weight value near 500 lbs that appears to be an outlier. Since there is only one value that does not appear to follow the same linear path as the rest, I will use query() to filter out all values >450. The other data points with high weight values seem reasonable enough to retain in the dataset."
   ]
  },
  {
   "cell_type": "code",
   "execution_count": 13,
   "metadata": {},
   "outputs": [
    {
     "data": {
      "text/plain": [
       "(169, 8)"
      ]
     },
     "execution_count": 13,
     "metadata": {},
     "output_type": "execute_result"
    }
   ],
   "source": [
    "df2 = df2.query('Weight < 450')\n",
    "df2.shape"
   ]
  },
  {
   "cell_type": "markdown",
   "metadata": {
    "id": "CpEmcn97wLVk"
   },
   "source": [
    "*j.\tGenerate a histogram of Weight.*"
   ]
  },
  {
   "cell_type": "code",
   "execution_count": 14,
   "metadata": {},
   "outputs": [
    {
     "data": {
      "text/plain": [
       "<Axes: xlabel='Weight', ylabel='Count'>"
      ]
     },
     "execution_count": 14,
     "metadata": {},
     "output_type": "execute_result"
    },
    {
     "data": {
      "image/png": "[encoded data removed]",
      "text/plain": [
       "<Figure size 640x480 with 1 Axes>"
      ]
     },
     "metadata": {},
     "output_type": "display_data"
    }
   ],
   "source": [
    "sns.histplot(df2, x = 'Weight', color='lightskyblue')"
   ]
  },
  {
   "cell_type": "markdown",
   "metadata": {
    "id": "ngYj-TYZwLVl"
   },
   "source": [
    "*k.\tGenerate a histogram of Weight with 30 bins. Compare to the default histogram. Which is preferred?*"
   ]
  },
  {
   "cell_type": "code",
   "execution_count": 15,
   "metadata": {},
   "outputs": [
    {
     "data": {
      "text/plain": [
       "<Axes: xlabel='Weight', ylabel='Count'>"
      ]
     },
     "execution_count": 15,
     "metadata": {},
     "output_type": "execute_result"
    },
    {
     "data": {
      "image/png": "[encoded data removed]",
      "text/plain": [
       "<Figure size 640x480 with 1 Axes>"
      ]
     },
     "metadata": {},
     "output_type": "display_data"
    }
   ],
   "source": [
    "sns.histplot(df2, x = 'Weight', bins=30, color='lightskyblue')"
   ]
  },
  {
   "attachments": {},
   "cell_type": "markdown",
   "metadata": {},
   "source": [
    "In this case the default histogram appears to provide a better representation of the data because it presents a more meaningful summary. The plot with 30 bins is too granular. There are too many missing columns and columns with single data points that could be grouped together with a wider bin range to provide a more meaningful visualization."
   ]
  },
  {
   "cell_type": "markdown",
   "metadata": {
    "id": "Jf_K5UOdwLVl"
   },
   "source": [
    "*l.\tGenerate a histogram of Weight with an overlay of a density plot.*"
   ]
  },
  {
   "attachments": {},
   "cell_type": "markdown",
   "metadata": {},
   "source": [
    "Instead of histplot(), I will use displot() to overlay a kernel density estimate (kde) by setting kde=True."
   ]
  },
  {
   "cell_type": "code",
   "execution_count": 16,
   "metadata": {},
   "outputs": [
    {
     "data": {
      "text/plain": [
       "<seaborn.axisgrid.FacetGrid at 0x1507a37c0>"
      ]
     },
     "execution_count": 16,
     "metadata": {},
     "output_type": "execute_result"
    },
    {
     "data": {
      "image/png": "[encoded data removed]",
      "text/plain": [
       "<Figure size 500x500 with 1 Axes>"
      ]
     },
     "metadata": {},
     "output_type": "display_data"
    }
   ],
   "source": [
    "sns.displot(df2, x = 'Weight', color='lightskyblue', kde=True)"
   ]
  },
  {
   "cell_type": "markdown",
   "metadata": {
    "id": "CEsxoo5ZwLVl"
   },
   "source": [
    "## 2. Regression Analysis "
   ]
  },
  {
   "cell_type": "markdown",
   "metadata": {
    "id": "UmDIra_OwLVl"
   },
   "source": [
    "*a.\tRun the regression analysis of using Chest size to forecast Weight.*"
   ]
  },
  {
   "attachments": {},
   "cell_type": "markdown",
   "metadata": {},
   "source": [
    "First isolate the predictor and target variables where X is the predictor variable and y is the target variable."
   ]
  },
  {
   "cell_type": "code",
   "execution_count": 17,
   "metadata": {},
   "outputs": [],
   "source": [
    "X = df['Chest']\n",
    "y = df['Weight']"
   ]
  },
  {
   "attachments": {},
   "cell_type": "markdown",
   "metadata": {},
   "source": [
    "Next, add a constant to the X data structure so that the estimated model will have a non-zero y-intercept."
   ]
  },
  {
   "cell_type": "code",
   "execution_count": 18,
   "metadata": {},
   "outputs": [
    {
     "data": {
      "text/html": [
       "<div>\n",
       "<style scoped>\n",
       "    .dataframe tbody tr th:only-of-type {\n",
       "        vertical-align: middle;\n",
       "    }\n",
       "\n",
       "    .dataframe tbody tr th {\n",
       "        vertical-align: top;\n",
       "    }\n",
       "\n",
       "    .dataframe thead th {\n",
       "        text-align: right;\n",
       "    }\n",
       "</style>\n",
       "<table border=\"1\" class=\"dataframe\">\n",
       "  <thead>\n",
       "    <tr style=\"text-align: right;\">\n",
       "      <th></th>\n",
       "      <th>const</th>\n",
       "      <th>Chest</th>\n",
       "    </tr>\n",
       "  </thead>\n",
       "  <tbody>\n",
       "    <tr>\n",
       "      <th>0</th>\n",
       "      <td>1.0</td>\n",
       "      <td>45</td>\n",
       "    </tr>\n",
       "    <tr>\n",
       "      <th>1</th>\n",
       "      <td>1.0</td>\n",
       "      <td>37</td>\n",
       "    </tr>\n",
       "    <tr>\n",
       "      <th>2</th>\n",
       "      <td>1.0</td>\n",
       "      <td>40</td>\n",
       "    </tr>\n",
       "    <tr>\n",
       "      <th>3</th>\n",
       "      <td>1.0</td>\n",
       "      <td>36</td>\n",
       "    </tr>\n",
       "    <tr>\n",
       "      <th>4</th>\n",
       "      <td>1.0</td>\n",
       "      <td>44</td>\n",
       "    </tr>\n",
       "  </tbody>\n",
       "</table>\n",
       "</div>"
      ],
      "text/plain": [
       "   const  Chest\n",
       "0    1.0     45\n",
       "1    1.0     37\n",
       "2    1.0     40\n",
       "3    1.0     36\n",
       "4    1.0     44"
      ]
     },
     "execution_count": 18,
     "metadata": {},
     "output_type": "execute_result"
    }
   ],
   "source": [
    "import statsmodels.api as sm\n",
    "from statsmodels.regression.linear_model import RegressionResults\n",
    "X = sm.add_constant(X)\n",
    "X.head()"
   ]
  },
  {
   "attachments": {},
   "cell_type": "markdown",
   "metadata": {},
   "source": [
    "Specify the model with OLS() function from statsmodel. OLS = ordinary least squares, the default estimation procedure for linear regression models."
   ]
  },
  {
   "cell_type": "code",
   "execution_count": 19,
   "metadata": {},
   "outputs": [
    {
     "name": "stdout",
     "output_type": "stream",
     "text": [
      "                            OLS Regression Results                            \n",
      "==============================================================================\n",
      "Dep. Variable:                 Weight   R-squared:                       0.742\n",
      "Model:                            OLS   Adj. R-squared:                  0.741\n",
      "Method:                 Least Squares   F-statistic:                     970.8\n",
      "Date:                Fri, 14 Jul 2023   Prob (F-statistic):          2.16e-101\n",
      "Time:                        19:32:59   Log-Likelihood:                -1600.8\n",
      "No. Observations:                 340   AIC:                             3206.\n",
      "Df Residuals:                     338   BIC:                             3213.\n",
      "Df Model:                           1                                         \n",
      "Covariance Type:            nonrobust                                         \n",
      "==============================================================================\n",
      "                 coef    std err          t      P>|t|      [0.025      0.975]\n",
      "------------------------------------------------------------------------------\n",
      "const       -168.0243     11.331    -14.829      0.000    -190.312    -145.737\n",
      "Chest          8.3424      0.268     31.158      0.000       7.816       8.869\n",
      "==============================================================================\n",
      "Omnibus:                      340.149   Durbin-Watson:                   2.110\n",
      "Prob(Omnibus):                  0.000   Jarque-Bera (JB):            25425.733\n",
      "Skew:                           3.890   Prob(JB):                         0.00\n",
      "Kurtosis:                      44.644   Cond. No.                         329.\n",
      "==============================================================================\n",
      "\n",
      "Notes:\n",
      "[1] Standard Errors assume that the covariance matrix of the errors is correctly specified.\n"
     ]
    }
   ],
   "source": [
    "model = sm.OLS(y, X)\n",
    "results = model.fit()\n",
    "print(results.summary())"
   ]
  },
  {
   "cell_type": "markdown",
   "metadata": {
    "id": "GCVJqMCuwLVl"
   },
   "source": [
    "*b.\tWrite the regression model.*"
   ]
  },
  {
   "attachments": {},
   "cell_type": "markdown",
   "metadata": {},
   "source": [
    "The y-intercept (b0) for this model is -168.0243, and the slope coefficient (b1) is 8.3424. The regression equation for this model would be written as: y = -168.0243 + 8.3424(x). "
   ]
  },
  {
   "cell_type": "markdown",
   "metadata": {
    "id": "WTjewt45wLVm"
   },
   "source": [
    "*c.\tFor a Chest size of 42 inches, what is the forecasted Weight.*"
   ]
  },
  {
   "attachments": {},
   "cell_type": "markdown",
   "metadata": {},
   "source": [
    "To predict the weight of a person with a chest size of 42 inches, we can fit the value into the model. I am going to round to the nearest hundredth of a pound:"
   ]
  },
  {
   "cell_type": "code",
   "execution_count": 20,
   "metadata": {},
   "outputs": [
    {
     "name": "stdout",
     "output_type": "stream",
     "text": [
      "The predicted weight for a person with a chest size of 42 inches is:  182.36 lbs\n"
     ]
    }
   ],
   "source": [
    "print(\"The predicted weight for a person with a chest size of 42 inches is: \", round(-168.0243 + 8.3424*42, 2), \"lbs\")"
   ]
  },
  {
   "cell_type": "markdown",
   "metadata": {
    "id": "U89lo3oywLVm"
   },
   "source": [
    "*d.\tWhat is the residual for a person with a chest size of 62 inches and weighs 165 lbs?*"
   ]
  },
  {
   "attachments": {},
   "cell_type": "markdown",
   "metadata": {},
   "source": [
    "Residual equation: e = y - y_predicted."
   ]
  },
  {
   "cell_type": "code",
   "execution_count": 21,
   "metadata": {},
   "outputs": [
    {
     "name": "stdout",
     "output_type": "stream",
     "text": [
      "e =  -184.2\n"
     ]
    }
   ],
   "source": [
    "y_predicted = (-168.0243 + 8.3424*62)\n",
    "print(\"e = \", round(165 - y_predicted, 2))\n"
   ]
  },
  {
   "attachments": {},
   "cell_type": "markdown",
   "metadata": {},
   "source": [
    "The residual for a person with a chest size of 62 inches and weighs 165 lbs is -184.2 lbs."
   ]
  },
  {
   "cell_type": "markdown",
   "metadata": {
    "id": "2oGfanKDwLVm"
   },
   "source": [
    "*e.\tDoes the hypothesis test indicate a relationship between Chest size and Weight?*"
   ]
  },
  {
   "attachments": {},
   "cell_type": "markdown",
   "metadata": {},
   "source": [
    "The hypothesis test does seem to indicate a relationship between chest size and weight. Based on a p-value < 0.05, it is highly unlikely to get a slope coefficient of 8.3424 if there were no relationship between the variables. "
   ]
  },
  {
   "cell_type": "markdown",
   "metadata": {
    "id": "yuudc_hPwLVm"
   },
   "source": [
    "*f.\tWhat is the best estimate of the population slope coefficient?*"
   ]
  },
  {
   "attachments": {},
   "cell_type": "markdown",
   "metadata": {},
   "source": [
    "The best estimate of the population slope coefficient lies within the confidence interval. The middle of that range in this analysis is 8.3424. The standard confidence interval is 95%, but can be adjusted."
   ]
  },
  {
   "cell_type": "markdown",
   "metadata": {
    "id": "fcFoIGBrwLVm"
   },
   "source": [
    "*g.\tInterpret the confidence interval of the population slope coefficient. (Interpretation means to apply the meaning of the result to this specific analysis, not simply to list the confidence interval or provide a general definition unrelated to this specific analysis.)*"
   ]
  },
  {
   "attachments": {},
   "cell_type": "markdown",
   "metadata": {},
   "source": [
    "In this case, with 95% confidence, for each unit (in) increase in chest size, the person's weight increases between 7.816 and 8.869 lbs."
   ]
  },
  {
   "cell_type": "markdown",
   "metadata": {
    "id": "GDwFMqK_wLVm"
   },
   "source": [
    "*h.\tWhat is the sum of the squared residuals (errors) for the best-fitting line?*"
   ]
  },
  {
   "cell_type": "code",
   "execution_count": 22,
   "metadata": {},
   "outputs": [
    {
     "name": "stdout",
     "output_type": "stream",
     "text": [
      "Sum of squared residuals: 244639.24\n"
     ]
    }
   ],
   "source": [
    "print(\"Sum of squared residuals:\", results.ssr.round(2))"
   ]
  },
  {
   "cell_type": "markdown",
   "metadata": {
    "id": "ycdZ_H_6wLVm"
   },
   "source": [
    "*i.\tShow the scatterplot with the least-squares regression line.*"
   ]
  },
  {
   "cell_type": "code",
   "execution_count": 23,
   "metadata": {},
   "outputs": [
    {
     "data": {
      "image/png": "[encoded data removed]",
      "text/plain": [
       "<Figure size 640x480 with 1 Axes>"
      ]
     },
     "metadata": {},
     "output_type": "display_data"
    }
   ],
   "source": [
    "ax = sns.regplot(df2, x='Chest', y='Weight', color='dodgerblue')"
   ]
  },
  {
   "cell_type": "markdown",
   "metadata": {
    "id": "tVO7ouUTwLVn"
   },
   "source": [
    "*j.\tWhat is the standard deviation of the residuals. Interpret.*"
   ]
  },
  {
   "cell_type": "code",
   "execution_count": 25,
   "metadata": {},
   "outputs": [
    {
     "name": "stdout",
     "output_type": "stream",
     "text": [
      "Stdev of residuals: 26.9\n"
     ]
    }
   ],
   "source": [
    "RMSE = np.sqrt(results.mse_resid)\n",
    "print(\"Stdev of residuals:\", RMSE.round(2))"
   ]
  },
  {
   "attachments": {},
   "cell_type": "markdown",
   "metadata": {},
   "source": [
    "The standard deviation of the residuals is 26.9. This represents the variability around the regression line for the residuals. I would interpret 26.9 to be a fairly large standard deviation in this scenario when talking about a person's weight, which probably means that there are other factors that need to be considered to get a more accurate prediction. "
   ]
  },
  {
   "cell_type": "markdown",
   "metadata": {
    "id": "MwDltUyZwLVn"
   },
   "source": [
    "*k.\tWhat is R-squared? Interpret.*"
   ]
  },
  {
   "cell_type": "code",
   "execution_count": null,
   "metadata": {},
   "outputs": [
    {
     "name": "stdout",
     "output_type": "stream",
     "text": [
      "R-squared: 0.74\n"
     ]
    }
   ],
   "source": [
    "print(\"R-squared:\", results.rsquared.round(2))"
   ]
  },
  {
   "attachments": {},
   "cell_type": "markdown",
   "metadata": {},
   "source": [
    "An R-squared value of .74 means that 74% of the variance in weight can be explained by chest size, providing strong evidence of a relationship. Although, 26% of the variance is unexplained by chest size, and we would need to consider more variables to get a more accurate prediction."
   ]
  }
 ],
 "metadata": {
  "colab": {
   "collapsed_sections": [],
   "name": "HW03WP_510.ipynb",
   "provenance": []
  },
  "kernelspec": {
   "display_name": "GSCM575-env",
   "language": "python",
   "name": "python3"
  },
  "language_info": {
   "codemirror_mode": {
    "name": "ipython",
    "version": 3
   },
   "file_extension": ".py",
   "mimetype": "text/x-python",
   "name": "python",
   "nbconvert_exporter": "python",
   "pygments_lexer": "ipython3",
   "version": "3.10.11"
  },
  "toc": {
   "base_numbering": 1,
   "nav_menu": {},
   "number_sections": true,
   "sideBar": false,
   "skip_h1_title": true,
   "title_cell": "",
   "title_sidebar": "Contents",
   "toc_cell": true,
   "toc_position": {},
   "toc_section_display": true,
   "toc_window_display": false
  },
  "vscode": {
   "interpreter": {
    "hash": "a87dc369cd14b942dbff8373bbfed58fbbccf4ffa1171535e30b698977cb5b70"
   }
  }
 },
 "nbformat": 4,
 "nbformat_minor": 1
}
