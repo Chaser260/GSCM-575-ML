{
 "cells": [
  {
   "attachments": {},
   "cell_type": "markdown",
   "metadata": {},
   "source": [
    "# Data Pre-Processing"
   ]
  },
  {
   "cell_type": "markdown",
   "metadata": {},
   "source": [
    "## Preliminaries"
   ]
  },
  {
   "cell_type": "code",
   "execution_count": 1,
   "metadata": {},
   "outputs": [
    {
     "name": "stdout",
     "output_type": "stream",
     "text": [
      "Analysis on 2023-07-03 at 11:39:00 AM\n"
     ]
    }
   ],
   "source": [
    "from datetime import datetime as dt\n",
    "now = dt.now()\n",
    "print (\"Analysis on\", now.strftime(\"%Y-%m-%d\"), \"at\", now.strftime(\"%H:%M:%S %p\"))"
   ]
  },
  {
   "cell_type": "code",
   "execution_count": 2,
   "metadata": {},
   "outputs": [],
   "source": [
    "import pandas as pd\n",
    "import numpy as np\n",
    "import matplotlib.pyplot as plt\n",
    "import seaborn as sns"
   ]
  },
  {
   "attachments": {},
   "cell_type": "markdown",
   "metadata": {},
   "source": [
    "## Read in Data"
   ]
  },
  {
   "cell_type": "code",
   "execution_count": 5,
   "metadata": {},
   "outputs": [
    {
     "data": {
      "text/html": [
       "<div>\n",
       "<style scoped>\n",
       "    .dataframe tbody tr th:only-of-type {\n",
       "        vertical-align: middle;\n",
       "    }\n",
       "\n",
       "    .dataframe tbody tr th {\n",
       "        vertical-align: top;\n",
       "    }\n",
       "\n",
       "    .dataframe thead th {\n",
       "        text-align: right;\n",
       "    }\n",
       "</style>\n",
       "<table border=\"1\" class=\"dataframe\">\n",
       "  <thead>\n",
       "    <tr style=\"text-align: right;\">\n",
       "      <th></th>\n",
       "      <th>Years</th>\n",
       "      <th>Gender</th>\n",
       "      <th>Dept</th>\n",
       "      <th>Salary</th>\n",
       "      <th>JobSat</th>\n",
       "      <th>Plan</th>\n",
       "      <th>Pre</th>\n",
       "      <th>Post</th>\n",
       "    </tr>\n",
       "    <tr>\n",
       "      <th>Name</th>\n",
       "      <th></th>\n",
       "      <th></th>\n",
       "      <th></th>\n",
       "      <th></th>\n",
       "      <th></th>\n",
       "      <th></th>\n",
       "      <th></th>\n",
       "      <th></th>\n",
       "    </tr>\n",
       "  </thead>\n",
       "  <tbody>\n",
       "    <tr>\n",
       "      <th>Ritchie, Darnell</th>\n",
       "      <td>7.0</td>\n",
       "      <td>M</td>\n",
       "      <td>ADMN</td>\n",
       "      <td>53788.26</td>\n",
       "      <td>med</td>\n",
       "      <td>1</td>\n",
       "      <td>82</td>\n",
       "      <td>92</td>\n",
       "    </tr>\n",
       "    <tr>\n",
       "      <th>Wu, James</th>\n",
       "      <td>NaN</td>\n",
       "      <td>M</td>\n",
       "      <td>SALE</td>\n",
       "      <td>94494.58</td>\n",
       "      <td>low</td>\n",
       "      <td>1</td>\n",
       "      <td>62</td>\n",
       "      <td>74</td>\n",
       "    </tr>\n",
       "    <tr>\n",
       "      <th>Hoang, Binh</th>\n",
       "      <td>15.0</td>\n",
       "      <td>M</td>\n",
       "      <td>SALE</td>\n",
       "      <td>111074.86</td>\n",
       "      <td>low</td>\n",
       "      <td>3</td>\n",
       "      <td>96</td>\n",
       "      <td>97</td>\n",
       "    </tr>\n",
       "    <tr>\n",
       "      <th>Jones, Alissa</th>\n",
       "      <td>5.0</td>\n",
       "      <td>F</td>\n",
       "      <td>NaN</td>\n",
       "      <td>53772.58</td>\n",
       "      <td>NaN</td>\n",
       "      <td>1</td>\n",
       "      <td>65</td>\n",
       "      <td>62</td>\n",
       "    </tr>\n",
       "    <tr>\n",
       "      <th>Downs, Deborah</th>\n",
       "      <td>7.0</td>\n",
       "      <td>F</td>\n",
       "      <td>FINC</td>\n",
       "      <td>57139.90</td>\n",
       "      <td>high</td>\n",
       "      <td>2</td>\n",
       "      <td>90</td>\n",
       "      <td>86</td>\n",
       "    </tr>\n",
       "  </tbody>\n",
       "</table>\n",
       "</div>"
      ],
      "text/plain": [
       "                  Years Gender  Dept     Salary JobSat  Plan  Pre  Post\n",
       "Name                                                                   \n",
       "Ritchie, Darnell    7.0      M  ADMN   53788.26    med     1   82    92\n",
       "Wu, James           NaN      M  SALE   94494.58    low     1   62    74\n",
       "Hoang, Binh        15.0      M  SALE  111074.86    low     3   96    97\n",
       "Jones, Alissa       5.0      F   NaN   53772.58    NaN     1   65    62\n",
       "Downs, Deborah      7.0      F  FINC   57139.90   high     2   90    86"
      ]
     },
     "execution_count": 5,
     "metadata": {},
     "output_type": "execute_result"
    }
   ],
   "source": [
    "# Set the index using index_col= during import\n",
    "df = pd.read_excel(\"/Users/chasecarlson/Documents/GSCM Course Materials/GSCM 575 Machine Learning in Business/Python Pjojects/GSCM-575-ML/data/Copy of employee.xlsx\", index_col = \"Name\")\n",
    "df.head()"
   ]
  },
  {
   "attachments": {},
   "cell_type": "markdown",
   "metadata": {},
   "source": [
    "## Create Indicator/Dummy Variables"
   ]
  },
  {
   "cell_type": "code",
   "execution_count": 6,
   "metadata": {},
   "outputs": [
    {
     "data": {
      "text/html": [
       "<div>\n",
       "<style scoped>\n",
       "    .dataframe tbody tr th:only-of-type {\n",
       "        vertical-align: middle;\n",
       "    }\n",
       "\n",
       "    .dataframe tbody tr th {\n",
       "        vertical-align: top;\n",
       "    }\n",
       "\n",
       "    .dataframe thead th {\n",
       "        text-align: right;\n",
       "    }\n",
       "</style>\n",
       "<table border=\"1\" class=\"dataframe\">\n",
       "  <thead>\n",
       "    <tr style=\"text-align: right;\">\n",
       "      <th></th>\n",
       "      <th>Years</th>\n",
       "      <th>Dept</th>\n",
       "      <th>Salary</th>\n",
       "      <th>Plan</th>\n",
       "      <th>Pre</th>\n",
       "      <th>Post</th>\n",
       "      <th>Gender_F</th>\n",
       "      <th>Gender_M</th>\n",
       "      <th>JobSat_high</th>\n",
       "      <th>JobSat_low</th>\n",
       "      <th>JobSat_med</th>\n",
       "    </tr>\n",
       "    <tr>\n",
       "      <th>Name</th>\n",
       "      <th></th>\n",
       "      <th></th>\n",
       "      <th></th>\n",
       "      <th></th>\n",
       "      <th></th>\n",
       "      <th></th>\n",
       "      <th></th>\n",
       "      <th></th>\n",
       "      <th></th>\n",
       "      <th></th>\n",
       "      <th></th>\n",
       "    </tr>\n",
       "  </thead>\n",
       "  <tbody>\n",
       "    <tr>\n",
       "      <th>Ritchie, Darnell</th>\n",
       "      <td>7.0</td>\n",
       "      <td>ADMN</td>\n",
       "      <td>53788.26</td>\n",
       "      <td>1</td>\n",
       "      <td>82</td>\n",
       "      <td>92</td>\n",
       "      <td>0</td>\n",
       "      <td>1</td>\n",
       "      <td>0</td>\n",
       "      <td>0</td>\n",
       "      <td>1</td>\n",
       "    </tr>\n",
       "    <tr>\n",
       "      <th>Wu, James</th>\n",
       "      <td>NaN</td>\n",
       "      <td>SALE</td>\n",
       "      <td>94494.58</td>\n",
       "      <td>1</td>\n",
       "      <td>62</td>\n",
       "      <td>74</td>\n",
       "      <td>0</td>\n",
       "      <td>1</td>\n",
       "      <td>0</td>\n",
       "      <td>1</td>\n",
       "      <td>0</td>\n",
       "    </tr>\n",
       "    <tr>\n",
       "      <th>Hoang, Binh</th>\n",
       "      <td>15.0</td>\n",
       "      <td>SALE</td>\n",
       "      <td>111074.86</td>\n",
       "      <td>3</td>\n",
       "      <td>96</td>\n",
       "      <td>97</td>\n",
       "      <td>0</td>\n",
       "      <td>1</td>\n",
       "      <td>0</td>\n",
       "      <td>1</td>\n",
       "      <td>0</td>\n",
       "    </tr>\n",
       "    <tr>\n",
       "      <th>Jones, Alissa</th>\n",
       "      <td>5.0</td>\n",
       "      <td>NaN</td>\n",
       "      <td>53772.58</td>\n",
       "      <td>1</td>\n",
       "      <td>65</td>\n",
       "      <td>62</td>\n",
       "      <td>1</td>\n",
       "      <td>0</td>\n",
       "      <td>0</td>\n",
       "      <td>0</td>\n",
       "      <td>0</td>\n",
       "    </tr>\n",
       "    <tr>\n",
       "      <th>Downs, Deborah</th>\n",
       "      <td>7.0</td>\n",
       "      <td>FINC</td>\n",
       "      <td>57139.90</td>\n",
       "      <td>2</td>\n",
       "      <td>90</td>\n",
       "      <td>86</td>\n",
       "      <td>1</td>\n",
       "      <td>0</td>\n",
       "      <td>1</td>\n",
       "      <td>0</td>\n",
       "      <td>0</td>\n",
       "    </tr>\n",
       "  </tbody>\n",
       "</table>\n",
       "</div>"
      ],
      "text/plain": [
       "                  Years  Dept     Salary  Plan  Pre  Post  Gender_F  Gender_M  \\\n",
       "Name                                                                            \n",
       "Ritchie, Darnell    7.0  ADMN   53788.26     1   82    92         0         1   \n",
       "Wu, James           NaN  SALE   94494.58     1   62    74         0         1   \n",
       "Hoang, Binh        15.0  SALE  111074.86     3   96    97         0         1   \n",
       "Jones, Alissa       5.0   NaN   53772.58     1   65    62         1         0   \n",
       "Downs, Deborah      7.0  FINC   57139.90     2   90    86         1         0   \n",
       "\n",
       "                  JobSat_high  JobSat_low  JobSat_med  \n",
       "Name                                                   \n",
       "Ritchie, Darnell            0           0           1  \n",
       "Wu, James                   0           1           0  \n",
       "Hoang, Binh                 0           1           0  \n",
       "Jones, Alissa               0           0           0  \n",
       "Downs, Deborah              1           0           0  "
      ]
     },
     "execution_count": 6,
     "metadata": {},
     "output_type": "execute_result"
    }
   ],
   "source": [
    "# Separate 'Gender' and 'JobSatcolumn into 'Gender M' and 'Gender F' columns.\n",
    "df2 = pd.get_dummies(df, columns=[\"Gender\", \"JobSat\"])\n",
    "df2.head()\n"
   ]
  },
  {
   "attachments": {},
   "cell_type": "markdown",
   "metadata": {},
   "source": [
    "## Missing Data"
   ]
  },
  {
   "cell_type": "code",
   "execution_count": 7,
   "metadata": {},
   "outputs": [
    {
     "data": {
      "text/html": [
       "<div>\n",
       "<style scoped>\n",
       "    .dataframe tbody tr th:only-of-type {\n",
       "        vertical-align: middle;\n",
       "    }\n",
       "\n",
       "    .dataframe tbody tr th {\n",
       "        vertical-align: top;\n",
       "    }\n",
       "\n",
       "    .dataframe thead th {\n",
       "        text-align: right;\n",
       "    }\n",
       "</style>\n",
       "<table border=\"1\" class=\"dataframe\">\n",
       "  <thead>\n",
       "    <tr style=\"text-align: right;\">\n",
       "      <th></th>\n",
       "      <th>Years</th>\n",
       "      <th>Gender</th>\n",
       "      <th>Dept</th>\n",
       "      <th>Salary</th>\n",
       "      <th>JobSat</th>\n",
       "    </tr>\n",
       "    <tr>\n",
       "      <th>Name</th>\n",
       "      <th></th>\n",
       "      <th></th>\n",
       "      <th></th>\n",
       "      <th></th>\n",
       "      <th></th>\n",
       "    </tr>\n",
       "  </thead>\n",
       "  <tbody>\n",
       "    <tr>\n",
       "      <th>Wu, James</th>\n",
       "      <td>NaN</td>\n",
       "      <td>M</td>\n",
       "      <td>SALE</td>\n",
       "      <td>94494.58</td>\n",
       "      <td>low</td>\n",
       "    </tr>\n",
       "  </tbody>\n",
       "</table>\n",
       "</div>"
      ],
      "text/plain": [
       "           Years Gender  Dept    Salary JobSat\n",
       "Name                                          \n",
       "Wu, James    NaN      M  SALE  94494.58    low"
      ]
     },
     "execution_count": 7,
     "metadata": {},
     "output_type": "execute_result"
    }
   ],
   "source": [
    "# View example of row missing data\n",
    "df.iloc[1:2, 0:5] # 2nd row, columns 1-5"
   ]
  },
  {
   "cell_type": "code",
   "execution_count": 8,
   "metadata": {},
   "outputs": [
    {
     "name": "stdout",
     "output_type": "stream",
     "text": [
      "Years     1\n",
      "Gender    0\n",
      "Dept      1\n",
      "Salary    0\n",
      "JobSat    2\n",
      "Plan      0\n",
      "Pre       0\n",
      "Post      0\n",
      "dtype: int64\n",
      "\n",
      "Total Missing: 4\n"
     ]
    }
   ],
   "source": [
    "# Count the number of NAs in the data frame and see where they are\n",
    "# To produce two outputs you can use the print() function\n",
    "print(df.isna().sum())\n",
    "print('\\nTotal Missing:', df.isna().sum().sum())"
   ]
  },
  {
   "attachments": {},
   "cell_type": "markdown",
   "metadata": {},
   "source": [
    "Delete rows with missing data"
   ]
  },
  {
   "cell_type": "code",
   "execution_count": 9,
   "metadata": {},
   "outputs": [
    {
     "data": {
      "text/plain": [
       "(37, 8)"
      ]
     },
     "execution_count": 9,
     "metadata": {},
     "output_type": "execute_result"
    }
   ],
   "source": [
    "df.shape"
   ]
  },
  {
   "cell_type": "code",
   "execution_count": 10,
   "metadata": {},
   "outputs": [
    {
     "data": {
      "text/plain": [
       "(34, 8)"
      ]
     },
     "execution_count": 10,
     "metadata": {},
     "output_type": "execute_result"
    }
   ],
   "source": [
    "df2 = df.dropna(axis='rows')\n",
    "df2.shape"
   ]
  },
  {
   "cell_type": "code",
   "execution_count": 20,
   "metadata": {},
   "outputs": [
    {
     "name": "stdout",
     "output_type": "stream",
     "text": [
      "                     Years Gender  Dept     Salary JobSat  Plan  Pre  Post\n",
      "Name                                                                      \n",
      "Ritchie, Darnell       7.0      M  ADMN   53788.26    med     1   82    92\n",
      "Hoang, Binh           15.0      M  SALE  111074.86    low     3   96    97\n",
      "Downs, Deborah         7.0      F  FINC   57139.90   high     2   90    86\n",
      "Afshari, Anbar         6.0      F  ADMN   69441.93   high     2  100   100\n",
      "Knox, Michael         18.0      M  MKTG   99062.66    med     3   81    84\n",
      "Campagna, Justin       8.0      M  SALE   72321.36    low     1   76    84\n",
      "Kimball, Claire        8.0      F  MKTG   61356.69   high     2   93    92\n",
      "Cooper, Lindsay        4.0      F  MKTG   56772.95   high     1   78    91\n",
      "Saechao, Suzanne       8.0      F  SALE   55545.25    med     1   98   100\n",
      "Pham, Scott           13.0      M  SALE   81871.05   high     2   90    94\n",
      "Tian, Fang             9.0      F  ACCT   71084.02    med     2   60    61\n",
      "Bellingar, Samantha   10.0      F  SALE   66337.83    med     1   67    72\n",
      "Sheppard, Cory        14.0      M  FINC   95027.55    low     3   66    73\n",
      "Kralik, Laura         10.0      F  SALE   92681.19    med     2   74    71\n",
      "Skrotzki, Sara        18.0      F  MKTG   91352.33    med     2   63    61\n",
      "Correll, Trevon       21.0      M  SALE  134419.23    low     1   97    94\n",
      "James, Leslie         18.0      F  ADMN  122563.38    low     3   70    70\n",
      "Osterman, Pascal       5.0      M  ACCT   49704.79   high     3   69    70\n",
      "Adib, Hassan          14.0      M  SALE   83014.43    med     2   71    69\n",
      "Gvakharia, Kimberly    3.0      F  SALE   49868.68    med     2   83    79\n",
      "Stanley, Grayson       9.0      M  SALE   69624.87    low     1   74    73\n",
      "Link, Thomas          10.0      M  FINC   66312.89    low     1   83    83\n",
      "Portlock, Ryan        13.0      M  SALE   77714.85    low     1   72    73\n",
      "Langston, Matthew      5.0      M  SALE   49188.96    low     3   94    93\n",
      "Stanley, Emma          3.0      F  ACCT   46124.97   high     2   86    84\n",
      "Singh, Niral           2.0      F  ADMN   61055.44   high     2   59    59\n",
      "Anderson, David        9.0      M  ACCT   69547.60    low     1   94    91\n",
      "Fulton, Scott         13.0      M  SALE   87785.51    low     1   72    73\n",
      "LaRoe, Maria          10.0      F  MKTG   61961.29   high     2   80    86\n",
      "Billing, Susan         4.0      F  ADMN   72675.26    med     2   91    90\n",
      "Capelle, Adam         24.0      M  ADMN  108138.43    med     2   83    81\n",
      "Hamide, Bita           1.0      F  MKTG   51036.85   high     2   83    90\n",
      "Anastasiou, Crystal    2.0      F  SALE   56508.32    low     2   59    71\n",
      "Cassinelli, Anastis   10.0      M  FINC   57562.36   high     1   80    87\n",
      "\n",
      "Shape:  (34, 8)\n"
     ]
    }
   ],
   "source": [
    "# We now removed James Wu, Alissa Jones, and Jessica Korhalkar from the data frame\n",
    "print(df2)\n",
    "print('\\nShape: ', df2.shape)"
   ]
  },
  {
   "attachments": {},
   "cell_type": "markdown",
   "metadata": {},
   "source": [
    "Impute missing data"
   ]
  },
  {
   "cell_type": "code",
   "execution_count": 24,
   "metadata": {},
   "outputs": [
    {
     "data": {
      "text/plain": [
       "nan"
      ]
     },
     "execution_count": 24,
     "metadata": {},
     "output_type": "execute_result"
    }
   ],
   "source": [
    "# Isolate predictor variables. Necessary for supervised machine learning\n",
    "X = df.loc[:, ['Years', 'Salary', 'Pre', 'Post']] # create a list of columns to isolate\n",
    "X.iloc[1,0] # view a cell with missing data"
   ]
  },
  {
   "cell_type": "code",
   "execution_count": 26,
   "metadata": {},
   "outputs": [
    {
     "name": "stdout",
     "output_type": "stream",
     "text": [
      "is X a DataFrame? True\n"
     ]
    }
   ],
   "source": [
    "print(\"is X a DataFrame?\", isinstance(X, pd.DataFrame)) # checking to see if X is a DataFrame"
   ]
  },
  {
   "cell_type": "code",
   "execution_count": 27,
   "metadata": {},
   "outputs": [],
   "source": [
    "# Impute using the median\n",
    "from sklearn.impute import SimpleImputer\n",
    "imp_med = SimpleImputer(missing_values=np.nan, strategy='median')\n",
    "imp_med = imp_med.fit(X)\n",
    "X = imp_med.transform(X)"
   ]
  },
  {
   "cell_type": "code",
   "execution_count": 28,
   "metadata": {},
   "outputs": [
    {
     "name": "stdout",
     "output_type": "stream",
     "text": [
      "is x a numpy array?  True\n"
     ]
    }
   ],
   "source": [
    "print(\"is x a numpy array? \", isinstance(X, np.ndarray))"
   ]
  },
  {
   "cell_type": "code",
   "execution_count": 29,
   "metadata": {},
   "outputs": [
    {
     "data": {
      "text/plain": [
       "9.0"
      ]
     },
     "execution_count": 29,
     "metadata": {},
     "output_type": "execute_result"
    }
   ],
   "source": [
    "# The missing value for James Wu is now 9.0, the value in the second row, first column\n",
    "X[1,0]"
   ]
  },
  {
   "cell_type": "markdown",
   "metadata": {},
   "source": [
    "## Discover Outliers"
   ]
  },
  {
   "cell_type": "code",
   "execution_count": 36,
   "metadata": {},
   "outputs": [
    {
     "data": {
      "image/png": "[encoded data removed]",
      "text/plain": [
       "<Figure size 600x150 with 1 Axes>"
      ]
     },
     "metadata": {},
     "output_type": "display_data"
    }
   ],
   "source": [
    "# Create a boxplot to represent a single continuous variable.\n",
    "plt.figure(figsize=(6,1.5)) # adjust figure size\n",
    "sns.boxplot(x=df['Salary'], color='dodgerblue') # set x-axis to Salary and color to dodger blue\n",
    "plt.xlabel('Annual Salary (USD)', fontsize=12) # set x axis label\n",
    "plt.show()"
   ]
  },
  {
   "cell_type": "code",
   "execution_count": 38,
   "metadata": {},
   "outputs": [
    {
     "name": "stdout",
     "output_type": "stream",
     "text": [
      "Correll, Trevon\n",
      "134419.23\n"
     ]
    }
   ],
   "source": [
    "# Identify the outlier\n",
    "print(df['Salary'].idxmax())\n",
    "print(round(df['Salary'].loc[df['Salary'].idxmax()], 2))"
   ]
  },
  {
   "attachments": {},
   "cell_type": "markdown",
   "metadata": {},
   "source": [
    "## Transorm variables to same scales"
   ]
  },
  {
   "cell_type": "code",
   "execution_count": 39,
   "metadata": {},
   "outputs": [],
   "source": [
    "from sklearn import preprocessing"
   ]
  },
  {
   "attachments": {},
   "cell_type": "markdown",
   "metadata": {},
   "source": [
    "## Min-Max Scaling"
   ]
  },
  {
   "cell_type": "code",
   "execution_count": 40,
   "metadata": {},
   "outputs": [],
   "source": [
    "from sklearn.preprocessing import MinMaxScaler\n",
    "mm_scaler = preprocessing.MinMaxScaler()"
   ]
  },
  {
   "cell_type": "code",
   "execution_count": 41,
   "metadata": {},
   "outputs": [
    {
     "name": "stderr",
     "output_type": "stream",
     "text": [
      "/var/folders/0r/8gtkp8rd5lx4q_4w2fvszkz80000gn/T/ipykernel_97733/3943620455.py:2: DeprecationWarning: In a future version, `df.iloc[:, i] = newvals` will attempt to set the values inplace instead of always setting a new array. To retain the old behavior, use either `df[df.columns[i]] = newvals` or, if columns are non-unique, `df.isetitem(i, newvals)`\n",
      "  X.loc[:, 'Pre'] = X.loc[:, 'Pre'].astype('float64')\n"
     ]
    },
    {
     "data": {
      "text/html": [
       "<div>\n",
       "<style scoped>\n",
       "    .dataframe tbody tr th:only-of-type {\n",
       "        vertical-align: middle;\n",
       "    }\n",
       "\n",
       "    .dataframe tbody tr th {\n",
       "        vertical-align: top;\n",
       "    }\n",
       "\n",
       "    .dataframe thead th {\n",
       "        text-align: right;\n",
       "    }\n",
       "</style>\n",
       "<table border=\"1\" class=\"dataframe\">\n",
       "  <thead>\n",
       "    <tr style=\"text-align: right;\">\n",
       "      <th></th>\n",
       "      <th>Years</th>\n",
       "      <th>Salary</th>\n",
       "      <th>Pre</th>\n",
       "    </tr>\n",
       "    <tr>\n",
       "      <th>Name</th>\n",
       "      <th></th>\n",
       "      <th></th>\n",
       "      <th></th>\n",
       "    </tr>\n",
       "  </thead>\n",
       "  <tbody>\n",
       "    <tr>\n",
       "      <th>Ritchie, Darnell</th>\n",
       "      <td>7.0</td>\n",
       "      <td>53788.26</td>\n",
       "      <td>82.0</td>\n",
       "    </tr>\n",
       "    <tr>\n",
       "      <th>Wu, James</th>\n",
       "      <td>NaN</td>\n",
       "      <td>94494.58</td>\n",
       "      <td>62.0</td>\n",
       "    </tr>\n",
       "    <tr>\n",
       "      <th>Hoang, Binh</th>\n",
       "      <td>15.0</td>\n",
       "      <td>111074.86</td>\n",
       "      <td>96.0</td>\n",
       "    </tr>\n",
       "    <tr>\n",
       "      <th>Jones, Alissa</th>\n",
       "      <td>5.0</td>\n",
       "      <td>53772.58</td>\n",
       "      <td>65.0</td>\n",
       "    </tr>\n",
       "    <tr>\n",
       "      <th>Downs, Deborah</th>\n",
       "      <td>7.0</td>\n",
       "      <td>57139.90</td>\n",
       "      <td>90.0</td>\n",
       "    </tr>\n",
       "  </tbody>\n",
       "</table>\n",
       "</div>"
      ],
      "text/plain": [
       "                  Years     Salary   Pre\n",
       "Name                                    \n",
       "Ritchie, Darnell    7.0   53788.26  82.0\n",
       "Wu, James           NaN   94494.58  62.0\n",
       "Hoang, Binh        15.0  111074.86  96.0\n",
       "Jones, Alissa       5.0   53772.58  65.0\n",
       "Downs, Deborah      7.0   57139.90  90.0"
      ]
     },
     "execution_count": 41,
     "metadata": {},
     "output_type": "execute_result"
    }
   ],
   "source": [
    "X = df[['Years', 'Salary', 'Pre']].copy()\n",
    "X.loc[:, 'Pre'] = X.loc[:, 'Pre'].astype('float64')\n",
    "X.head()"
   ]
  },
  {
   "cell_type": "code",
   "execution_count": 42,
   "metadata": {},
   "outputs": [
    {
     "data": {
      "text/plain": [
       "pandas.core.frame.DataFrame"
      ]
     },
     "execution_count": 42,
     "metadata": {},
     "output_type": "execute_result"
    }
   ],
   "source": [
    "# Another way to check what type of data structure you are working with.\n",
    "type(X)"
   ]
  },
  {
   "cell_type": "code",
   "execution_count": 45,
   "metadata": {},
   "outputs": [],
   "source": [
    "# Transform X into a numpy array\n",
    "X = mm_scaler.fit_transform(X)"
   ]
  },
  {
   "cell_type": "code",
   "execution_count": 44,
   "metadata": {},
   "outputs": [
    {
     "data": {
      "text/plain": [
       "numpy.ndarray"
      ]
     },
     "execution_count": 44,
     "metadata": {},
     "output_type": "execute_result"
    }
   ],
   "source": [
    "type(X)"
   ]
  },
  {
   "cell_type": "code",
   "execution_count": 49,
   "metadata": {},
   "outputs": [
    {
     "data": {
      "text/html": [
       "<div>\n",
       "<style scoped>\n",
       "    .dataframe tbody tr th:only-of-type {\n",
       "        vertical-align: middle;\n",
       "    }\n",
       "\n",
       "    .dataframe tbody tr th {\n",
       "        vertical-align: top;\n",
       "    }\n",
       "\n",
       "    .dataframe thead th {\n",
       "        text-align: right;\n",
       "    }\n",
       "</style>\n",
       "<table border=\"1\" class=\"dataframe\">\n",
       "  <thead>\n",
       "    <tr style=\"text-align: right;\">\n",
       "      <th></th>\n",
       "      <th>Years</th>\n",
       "      <th>Salary</th>\n",
       "      <th>Pre</th>\n",
       "    </tr>\n",
       "  </thead>\n",
       "  <tbody>\n",
       "    <tr>\n",
       "      <th>0</th>\n",
       "      <td>0.260870</td>\n",
       "      <td>0.086793</td>\n",
       "      <td>0.560976</td>\n",
       "    </tr>\n",
       "    <tr>\n",
       "      <th>1</th>\n",
       "      <td>NaN</td>\n",
       "      <td>0.547823</td>\n",
       "      <td>0.073171</td>\n",
       "    </tr>\n",
       "    <tr>\n",
       "      <th>2</th>\n",
       "      <td>0.608696</td>\n",
       "      <td>0.735607</td>\n",
       "      <td>0.902439</td>\n",
       "    </tr>\n",
       "    <tr>\n",
       "      <th>3</th>\n",
       "      <td>0.173913</td>\n",
       "      <td>0.086615</td>\n",
       "      <td>0.146341</td>\n",
       "    </tr>\n",
       "    <tr>\n",
       "      <th>4</th>\n",
       "      <td>0.260870</td>\n",
       "      <td>0.124753</td>\n",
       "      <td>0.756098</td>\n",
       "    </tr>\n",
       "  </tbody>\n",
       "</table>\n",
       "</div>"
      ],
      "text/plain": [
       "      Years    Salary       Pre\n",
       "0  0.260870  0.086793  0.560976\n",
       "1       NaN  0.547823  0.073171\n",
       "2  0.608696  0.735607  0.902439\n",
       "3  0.173913  0.086615  0.146341\n",
       "4  0.260870  0.124753  0.756098"
      ]
     },
     "execution_count": 49,
     "metadata": {},
     "output_type": "execute_result"
    }
   ],
   "source": [
    "# View the new transformed data\n",
    "Xd = pd.DataFrame(X, columns=['Years', 'Salary', 'Pre'])\n",
    "Xd.head()"
   ]
  },
  {
   "cell_type": "code",
   "execution_count": 47,
   "metadata": {},
   "outputs": [
    {
     "data": {
      "text/plain": [
       "Years     0.0\n",
       "Salary    0.0\n",
       "Pre       0.0\n",
       "dtype: float64"
      ]
     },
     "execution_count": 47,
     "metadata": {},
     "output_type": "execute_result"
    }
   ],
   "source": [
    "Xd.min()"
   ]
  },
  {
   "cell_type": "code",
   "execution_count": 48,
   "metadata": {},
   "outputs": [
    {
     "data": {
      "text/plain": [
       "Years     1.0\n",
       "Salary    1.0\n",
       "Pre       1.0\n",
       "dtype: float64"
      ]
     },
     "execution_count": 48,
     "metadata": {},
     "output_type": "execute_result"
    }
   ],
   "source": [
    "Xd.max()"
   ]
  },
  {
   "cell_type": "markdown",
   "metadata": {},
   "source": [
    "## Standardization Scaling"
   ]
  },
  {
   "cell_type": "code",
   "execution_count": 50,
   "metadata": {},
   "outputs": [],
   "source": [
    "from sklearn.preprocessing import StandardScaler\n",
    "s_scaler = preprocessing.StandardScaler()"
   ]
  },
  {
   "cell_type": "code",
   "execution_count": 51,
   "metadata": {},
   "outputs": [
    {
     "name": "stderr",
     "output_type": "stream",
     "text": [
      "/var/folders/0r/8gtkp8rd5lx4q_4w2fvszkz80000gn/T/ipykernel_97733/149963356.py:3: DeprecationWarning: In a future version, `df.iloc[:, i] = newvals` will attempt to set the values inplace instead of always setting a new array. To retain the old behavior, use either `df[df.columns[i]] = newvals` or, if columns are non-unique, `df.isetitem(i, newvals)`\n",
      "  X.loc[:, 'Pre'] = X.loc[:, 'Pre'].astype('float64')\n"
     ]
    }
   ],
   "source": [
    "# store the variables to be standardized in X. Convert variable Pre from int to float\n",
    "X = df[['Years', 'Salary', 'Pre']].copy()\n",
    "X.loc[:, 'Pre'] = X.loc[:, 'Pre'].astype('float64')"
   ]
  },
  {
   "cell_type": "code",
   "execution_count": 53,
   "metadata": {},
   "outputs": [],
   "source": [
    "# Get the mean and standard deviation of each variable with the fit method.\n",
    "X = s_scaler.fit_transform(X)"
   ]
  },
  {
   "cell_type": "code",
   "execution_count": 54,
   "metadata": {},
   "outputs": [
    {
     "data": {
      "text/html": [
       "<div>\n",
       "<style scoped>\n",
       "    .dataframe tbody tr th:only-of-type {\n",
       "        vertical-align: middle;\n",
       "    }\n",
       "\n",
       "    .dataframe tbody tr th {\n",
       "        vertical-align: top;\n",
       "    }\n",
       "\n",
       "    .dataframe thead th {\n",
       "        text-align: right;\n",
       "    }\n",
       "</style>\n",
       "<table border=\"1\" class=\"dataframe\">\n",
       "  <thead>\n",
       "    <tr style=\"text-align: right;\">\n",
       "      <th></th>\n",
       "      <th>Years</th>\n",
       "      <th>Salary</th>\n",
       "      <th>Pre</th>\n",
       "    </tr>\n",
       "  </thead>\n",
       "  <tbody>\n",
       "    <tr>\n",
       "      <th>0</th>\n",
       "      <td>-0.423301</td>\n",
       "      <td>-0.930445</td>\n",
       "      <td>0.270873</td>\n",
       "    </tr>\n",
       "    <tr>\n",
       "      <th>1</th>\n",
       "      <td>NaN</td>\n",
       "      <td>0.962614</td>\n",
       "      <td>-1.413548</td>\n",
       "    </tr>\n",
       "    <tr>\n",
       "      <th>2</th>\n",
       "      <td>0.994266</td>\n",
       "      <td>1.733685</td>\n",
       "      <td>1.449968</td>\n",
       "    </tr>\n",
       "    <tr>\n",
       "      <th>3</th>\n",
       "      <td>-0.777693</td>\n",
       "      <td>-0.931174</td>\n",
       "      <td>-1.160885</td>\n",
       "    </tr>\n",
       "    <tr>\n",
       "      <th>4</th>\n",
       "      <td>-0.423301</td>\n",
       "      <td>-0.774576</td>\n",
       "      <td>0.944642</td>\n",
       "    </tr>\n",
       "  </tbody>\n",
       "</table>\n",
       "</div>"
      ],
      "text/plain": [
       "      Years    Salary       Pre\n",
       "0 -0.423301 -0.930445  0.270873\n",
       "1       NaN  0.962614 -1.413548\n",
       "2  0.994266  1.733685  1.449968\n",
       "3 -0.777693 -0.931174 -1.160885\n",
       "4 -0.423301 -0.774576  0.944642"
      ]
     },
     "execution_count": 54,
     "metadata": {},
     "output_type": "execute_result"
    }
   ],
   "source": [
    "Xd = pd.DataFrame(X, columns=['Years', 'Salary', 'Pre'])\n",
    "Xd.head()"
   ]
  },
  {
   "cell_type": "code",
   "execution_count": 55,
   "metadata": {},
   "outputs": [
    {
     "data": {
      "text/plain": [
       "Years    -0.0\n",
       "Salary    0.0\n",
       "Pre      -0.0\n",
       "dtype: float64"
      ]
     },
     "execution_count": 55,
     "metadata": {},
     "output_type": "execute_result"
    }
   ],
   "source": [
    "round(Xd.mean(), 4)"
   ]
  },
  {
   "cell_type": "code",
   "execution_count": 56,
   "metadata": {},
   "outputs": [
    {
     "data": {
      "text/plain": [
       "Years     1.0142\n",
       "Salary    1.0138\n",
       "Pre       1.0138\n",
       "dtype: float64"
      ]
     },
     "execution_count": 56,
     "metadata": {},
     "output_type": "execute_result"
    }
   ],
   "source": [
    "round(Xd.std(), 4)"
   ]
  },
  {
   "cell_type": "code",
   "execution_count": 57,
   "metadata": {},
   "outputs": [
    {
     "data": {
      "text/plain": [
       "Years    -1.486477\n",
       "Salary   -1.286829\n",
       "Pre      -1.666212\n",
       "dtype: float64"
      ]
     },
     "execution_count": 57,
     "metadata": {},
     "output_type": "execute_result"
    }
   ],
   "source": [
    "Xd.min()"
   ]
  },
  {
   "cell_type": "code",
   "execution_count": 58,
   "metadata": {},
   "outputs": [
    {
     "data": {
      "text/plain": [
       "Years     2.589029\n",
       "Salary    2.819322\n",
       "Pre       1.786853\n",
       "dtype: float64"
      ]
     },
     "execution_count": 58,
     "metadata": {},
     "output_type": "execute_result"
    }
   ],
   "source": [
    "Xd.max()"
   ]
  },
  {
   "attachments": {},
   "cell_type": "markdown",
   "metadata": {},
   "source": [
    "## Robust Scaling"
   ]
  },
  {
   "cell_type": "code",
   "execution_count": 59,
   "metadata": {},
   "outputs": [],
   "source": [
    "from sklearn.preprocessing import RobustScaler\n",
    "r_scaler = preprocessing.RobustScaler()"
   ]
  },
  {
   "cell_type": "code",
   "execution_count": 60,
   "metadata": {},
   "outputs": [],
   "source": [
    "X = df[['Years', 'Salary', 'Pre']].copy()\n",
    "X.loc[:, 'Pre'] = X.loc[:, 'Pre'].astype('Float64')"
   ]
  },
  {
   "cell_type": "code",
   "execution_count": 61,
   "metadata": {},
   "outputs": [],
   "source": [
    "X = r_scaler.fit_transform(X)"
   ]
  },
  {
   "cell_type": "code",
   "execution_count": 62,
   "metadata": {},
   "outputs": [
    {
     "data": {
      "text/html": [
       "<div>\n",
       "<style scoped>\n",
       "    .dataframe tbody tr th:only-of-type {\n",
       "        vertical-align: middle;\n",
       "    }\n",
       "\n",
       "    .dataframe tbody tr th {\n",
       "        vertical-align: top;\n",
       "    }\n",
       "\n",
       "    .dataframe thead th {\n",
       "        text-align: right;\n",
       "    }\n",
       "</style>\n",
       "<table border=\"1\" class=\"dataframe\">\n",
       "  <thead>\n",
       "    <tr style=\"text-align: right;\">\n",
       "      <th></th>\n",
       "      <th>Years</th>\n",
       "      <th>Salary</th>\n",
       "      <th>Pre</th>\n",
       "    </tr>\n",
       "  </thead>\n",
       "  <tbody>\n",
       "    <tr>\n",
       "      <th>0</th>\n",
       "      <td>-0.25</td>\n",
       "      <td>-0.508160</td>\n",
       "      <td>0.10</td>\n",
       "    </tr>\n",
       "    <tr>\n",
       "      <th>1</th>\n",
       "      <td>NaN</td>\n",
       "      <td>0.804415</td>\n",
       "      <td>-0.90</td>\n",
       "    </tr>\n",
       "    <tr>\n",
       "      <th>2</th>\n",
       "      <td>0.75</td>\n",
       "      <td>1.339047</td>\n",
       "      <td>0.80</td>\n",
       "    </tr>\n",
       "    <tr>\n",
       "      <th>3</th>\n",
       "      <td>-0.50</td>\n",
       "      <td>-0.508666</td>\n",
       "      <td>-0.75</td>\n",
       "    </tr>\n",
       "    <tr>\n",
       "      <th>4</th>\n",
       "      <td>-0.25</td>\n",
       "      <td>-0.400086</td>\n",
       "      <td>0.50</td>\n",
       "    </tr>\n",
       "  </tbody>\n",
       "</table>\n",
       "</div>"
      ],
      "text/plain": [
       "   Years    Salary   Pre\n",
       "0  -0.25 -0.508160  0.10\n",
       "1    NaN  0.804415 -0.90\n",
       "2   0.75  1.339047  0.80\n",
       "3  -0.50 -0.508666 -0.75\n",
       "4  -0.25 -0.400086  0.50"
      ]
     },
     "execution_count": 62,
     "metadata": {},
     "output_type": "execute_result"
    }
   ],
   "source": [
    "Xd = pd.DataFrame(X, columns=['Years', 'Salary', 'Pre'])\n",
    "Xd.head()"
   ]
  },
  {
   "cell_type": "code",
   "execution_count": 66,
   "metadata": {},
   "outputs": [
    {
     "data": {
      "text/plain": [
       "Years     0.0486\n",
       "Salary    0.1370\n",
       "Pre      -0.0608\n",
       "dtype: float64"
      ]
     },
     "execution_count": 66,
     "metadata": {},
     "output_type": "execute_result"
    }
   ],
   "source": [
    "round(Xd.mean(), 4)"
   ]
  },
  {
   "cell_type": "code",
   "execution_count": 67,
   "metadata": {},
   "outputs": [
    {
     "data": {
      "text/plain": [
       "Years    -1.0000\n",
       "Salary   -0.7553\n",
       "Pre      -1.0500\n",
       "dtype: float64"
      ]
     },
     "execution_count": 67,
     "metadata": {},
     "output_type": "execute_result"
    }
   ],
   "source": [
    "round(Xd.min(), 4)"
   ]
  },
  {
   "cell_type": "code",
   "execution_count": 68,
   "metadata": {},
   "outputs": [
    {
     "data": {
      "text/plain": [
       "Years     1.8750\n",
       "Salary    2.0918\n",
       "Pre       1.0000\n",
       "dtype: float64"
      ]
     },
     "execution_count": 68,
     "metadata": {},
     "output_type": "execute_result"
    }
   ],
   "source": [
    "round(Xd.max(), 4)"
   ]
  },
  {
   "cell_type": "code",
   "execution_count": 69,
   "metadata": {},
   "outputs": [
    {
     "data": {
      "text/plain": [
       "Years     0.7154\n",
       "Salary    0.7029\n",
       "Pre       0.6019\n",
       "dtype: float64"
      ]
     },
     "execution_count": 69,
     "metadata": {},
     "output_type": "execute_result"
    }
   ],
   "source": [
    "round(Xd.std(), 4)"
   ]
  },
  {
   "cell_type": "code",
   "execution_count": 70,
   "metadata": {},
   "outputs": [
    {
     "data": {
      "text/html": [
       "<div>\n",
       "<style scoped>\n",
       "    .dataframe tbody tr th:only-of-type {\n",
       "        vertical-align: middle;\n",
       "    }\n",
       "\n",
       "    .dataframe tbody tr th {\n",
       "        vertical-align: top;\n",
       "    }\n",
       "\n",
       "    .dataframe thead th {\n",
       "        text-align: right;\n",
       "    }\n",
       "</style>\n",
       "<table border=\"1\" class=\"dataframe\">\n",
       "  <thead>\n",
       "    <tr style=\"text-align: right;\">\n",
       "      <th></th>\n",
       "      <th>Response</th>\n",
       "    </tr>\n",
       "  </thead>\n",
       "  <tbody>\n",
       "    <tr>\n",
       "      <th>0</th>\n",
       "      <td>D</td>\n",
       "    </tr>\n",
       "    <tr>\n",
       "      <th>1</th>\n",
       "      <td>N</td>\n",
       "    </tr>\n",
       "    <tr>\n",
       "      <th>2</th>\n",
       "      <td>A</td>\n",
       "    </tr>\n",
       "    <tr>\n",
       "      <th>3</th>\n",
       "      <td>N</td>\n",
       "    </tr>\n",
       "    <tr>\n",
       "      <th>4</th>\n",
       "      <td>A</td>\n",
       "    </tr>\n",
       "  </tbody>\n",
       "</table>\n",
       "</div>"
      ],
      "text/plain": [
       "  Response\n",
       "0        D\n",
       "1        N\n",
       "2        A\n",
       "3        N\n",
       "4        A"
      ]
     },
     "execution_count": 70,
     "metadata": {},
     "output_type": "execute_result"
    }
   ],
   "source": [
    "# Create dummy variable for 3 categorical levels\n",
    "test = pd.read_excel(\"/Users/chasecarlson/Documents/GSCM Course Materials/GSCM 575 Machine Learning in Business/Python Pjojects/GSCM-575-ML/data/Homework test file.xlsx\")\n",
    "test.head()"
   ]
  },
  {
   "cell_type": "code",
   "execution_count": 72,
   "metadata": {},
   "outputs": [
    {
     "data": {
      "text/html": [
       "<div>\n",
       "<style scoped>\n",
       "    .dataframe tbody tr th:only-of-type {\n",
       "        vertical-align: middle;\n",
       "    }\n",
       "\n",
       "    .dataframe tbody tr th {\n",
       "        vertical-align: top;\n",
       "    }\n",
       "\n",
       "    .dataframe thead th {\n",
       "        text-align: right;\n",
       "    }\n",
       "</style>\n",
       "<table border=\"1\" class=\"dataframe\">\n",
       "  <thead>\n",
       "    <tr style=\"text-align: right;\">\n",
       "      <th></th>\n",
       "      <th>Response_D</th>\n",
       "      <th>Response_N</th>\n",
       "    </tr>\n",
       "  </thead>\n",
       "  <tbody>\n",
       "    <tr>\n",
       "      <th>0</th>\n",
       "      <td>1</td>\n",
       "      <td>0</td>\n",
       "    </tr>\n",
       "    <tr>\n",
       "      <th>1</th>\n",
       "      <td>0</td>\n",
       "      <td>1</td>\n",
       "    </tr>\n",
       "    <tr>\n",
       "      <th>2</th>\n",
       "      <td>0</td>\n",
       "      <td>0</td>\n",
       "    </tr>\n",
       "    <tr>\n",
       "      <th>3</th>\n",
       "      <td>0</td>\n",
       "      <td>1</td>\n",
       "    </tr>\n",
       "    <tr>\n",
       "      <th>4</th>\n",
       "      <td>0</td>\n",
       "      <td>0</td>\n",
       "    </tr>\n",
       "  </tbody>\n",
       "</table>\n",
       "</div>"
      ],
      "text/plain": [
       "   Response_D  Response_N\n",
       "0           1           0\n",
       "1           0           1\n",
       "2           0           0\n",
       "3           0           1\n",
       "4           0           0"
      ]
     },
     "execution_count": 72,
     "metadata": {},
     "output_type": "execute_result"
    }
   ],
   "source": [
    "test = pd.get_dummies(test, columns=['Response'], drop_first=True)\n",
    "test.head()"
   ]
  },
  {
   "cell_type": "code",
   "execution_count": null,
   "metadata": {},
   "outputs": [],
   "source": []
  }
 ],
 "metadata": {
  "kernelspec": {
   "display_name": "GSCM575-env",
   "language": "python",
   "name": "python3"
  },
  "language_info": {
   "codemirror_mode": {
    "name": "ipython",
    "version": 3
   },
   "file_extension": ".py",
   "mimetype": "text/x-python",
   "name": "python",
   "nbconvert_exporter": "python",
   "pygments_lexer": "ipython3",
   "version": "3.10.11"
  },
  "orig_nbformat": 4,
  "vscode": {
   "interpreter": {
    "hash": "a87dc369cd14b942dbff8373bbfed58fbbccf4ffa1171535e30b698977cb5b70"
   }
  }
 },
 "nbformat": 4,
 "nbformat_minor": 2
}
