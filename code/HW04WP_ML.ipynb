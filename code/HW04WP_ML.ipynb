{
 "cells": [
  {
   "cell_type": "markdown",
   "metadata": {
    "id": "pa4_RZPjGlFG"
   },
   "source": [
    "#  HW 04 Worked Problems"
   ]
  },
  {
   "cell_type": "markdown",
   "metadata": {
    "id": "ny4NAOySGlFM"
   },
   "source": [
    "Purpose: For the customers of an online motorcycle clothing company, build a predictive model of Weight from a variety of body measurements plus Gender."
   ]
  },
  {
   "cell_type": "markdown",
   "metadata": {
    "id": "mpWvMsLTGlFN"
   },
   "source": [
    "The data are actual body measurements of customers for a motorcycle online clothing retailer.\n",
    "\n",
    "Data: http://web.pdx.edu/~gerbing/data/BodyMeas2500.xlsx\n"
   ]
  },
  {
   "cell_type": "markdown",
   "metadata": {
    "id": "VcNVdsiuGlFW"
   },
   "source": [
    "## 1. Data Exploration and Preparation"
   ]
  },
  {
   "cell_type": "markdown",
   "metadata": {},
   "source": [
    "*a. Read the data.*"
   ]
  },
  {
   "cell_type": "markdown",
   "metadata": {},
   "source": [
    "*b. How many samples (rows of data) and columns are there in the data file?*"
   ]
  },
  {
   "cell_type": "markdown",
   "metadata": {},
   "source": [
    "*c. Display the first 5 rows of data and the variable names.*"
   ]
  },
  {
   "cell_type": "markdown",
   "metadata": {},
   "source": [
    "*d. Check for missing data. Any action (deletion, imputation) needed?*"
   ]
  },
  {
   "cell_type": "markdown",
   "metadata": {},
   "source": [
    "*e. Generate a frequency distribution table of Gender.*"
   ]
  },
  {
   "cell_type": "markdown",
   "metadata": {},
   "source": [
    "*f. Generate a bar chart of Gender.*"
   ]
  },
  {
   "cell_type": "markdown",
   "metadata": {},
   "source": [
    "*g. Convert the two levels of Gender to two dummy variables and use one of them in the following regression analysis.*"
   ]
  },
  {
   "cell_type": "markdown",
   "metadata": {
    "id": "VcNVdsiuGlFW"
   },
   "source": [
    "## 2. Regression Analysis "
   ]
  },
  {
   "cell_type": "markdown",
   "metadata": {},
   "source": [
    "*a. Store the features, the predictor variables, in data structure X. Store the target variable in data structure y.*"
   ]
  },
  {
   "cell_type": "markdown",
   "metadata": {
    "id": "IlpfpBHsGlFX"
   },
   "source": [
    "*b. Use code to display the number of features.*"
   ]
  },
  {
   "cell_type": "markdown",
   "metadata": {
    "id": "bp_dNSgdGlFX"
   },
   "source": [
    "*c.\tSplit the data into 75% training data and 25% testing data.*"
   ]
  },
  {
   "cell_type": "markdown",
   "metadata": {
    "id": "ypYmiRcJGlFX"
   },
   "source": [
    "*d.\tDo the multiple regression with all possible features. Display the estimated model coefficients.*"
   ]
  },
  {
   "cell_type": "markdown",
   "metadata": {
    "id": "y2wPzHgpGlFY"
   },
   "source": [
    "*e. For the person who provided the first row of data, manually calculate his fitted weight from the model explicitly from the model coefficients. (For pedagogy, to show understanding of the model, not normally done here.)*"
   ]
  },
  {
   "cell_type": "markdown",
   "metadata": {
    "id": "VOPSW0LTGlFY"
   },
   "source": [
    "*f. What is the residual for the first person? Comment.*"
   ]
  },
  {
   "cell_type": "markdown",
   "metadata": {
    "id": "NvKYRCzSGlFY"
   },
   "source": [
    "*g.\tCompute the forecasted values of y, $\\hat y$, from the testing data for X.*"
   ]
  },
  {
   "cell_type": "markdown",
   "metadata": {
    "id": "NUk9WGKNGlFY"
   },
   "source": [
    "*h. Visually compare the forecasted values of y from the model applied to the testing data to the obtained values of y in the testing data. Comment*"
   ]
  },
  {
   "cell_type": "markdown",
   "metadata": {
    "id": "GrqyZsCKGlFZ"
   },
   "source": [
    "*i.\tEvaluate model fit to the training data with the standard deviation of residuals and R-squared. Comment*"
   ]
  },
  {
   "cell_type": "markdown",
   "metadata": {
    "id": "w_4ijfEvGlFZ"
   },
   "source": [
    "*j.\tEvaluate model fit to the testing data with the standard deviation of residuals and R-squared. Comment**"
   ]
  },
  {
   "cell_type": "markdown",
   "metadata": {
    "id": "PiIPNtz9GlFa"
   },
   "source": [
    "*k.\tIs the model overfit?*"
   ]
  },
  {
   "cell_type": "markdown",
   "metadata": {
    "id": "4Sz4RPSdGlFb"
   },
   "source": [
    "*l.\tCross-validate the data with five randomly selected folds, and evaluate with the average value of the standard deviation of residuals and R-squared across the folds.*"
   ]
  },
  {
   "cell_type": "markdown",
   "metadata": {
    "id": "hGQgZL9LGlFd"
   },
   "source": [
    "## 3. Feature Selection"
   ]
  },
  {
   "cell_type": "markdown",
   "metadata": {
    "id": "E0V7E7X7GlFe"
   },
   "source": [
    "Can we obtain the same level of forecasting accuracy with a smaller set of features?"
   ]
  },
  {
   "cell_type": "markdown",
   "metadata": {
    "id": "s_2izBzmGlFh"
   },
   "source": [
    "*a.\tShow uniqueness and relevance of each feature in a single table that consists of VIFs and target correlations. Comment.*"
   ]
  },
  {
   "cell_type": "markdown",
   "metadata": {
    "id": "_qVs_WTPGlFi"
   },
   "source": [
    "*b. Run the multivariate feature selection algorithm to retain the top three features.*"
   ]
  },
  {
   "cell_type": "markdown",
   "metadata": {
    "id": "kpBF-OaaGlFj"
   },
   "source": [
    "*c. Subset a new data frame of the feature variables that contains just these three predictors. Call it X2. Show the first several rows of data.*"
   ]
  },
  {
   "cell_type": "markdown",
   "metadata": {
    "id": "xSjnZofsGlFj"
   },
   "source": [
    "*d. Now fit this reduced model to all the data, X2 and $y$. Then generate the predicted scores into a data structure named y_fit2.*"
   ]
  },
  {
   "cell_type": "markdown",
   "metadata": {
    "id": "6a80gXYnGlFj"
   },
   "source": [
    "*e. Did fit suffer from reducing the number of features from 5 to 3? Comment.*"
   ]
  }
 ],
 "metadata": {
  "colab": {
   "collapsed_sections": [],
   "name": "HW04WP_510.ipynb",
   "provenance": []
  },
  "kernelspec": {
   "display_name": "Python 3 (ipykernel)",
   "language": "python",
   "name": "python3"
  },
  "language_info": {
   "codemirror_mode": {
    "name": "ipython",
    "version": 3
   },
   "file_extension": ".py",
   "mimetype": "text/x-python",
   "name": "python",
   "nbconvert_exporter": "python",
   "pygments_lexer": "ipython3",
   "version": "3.11.3"
  },
  "toc": {
   "base_numbering": 1,
   "nav_menu": {},
   "number_sections": true,
   "sideBar": false,
   "skip_h1_title": true,
   "title_cell": "",
   "title_sidebar": "Contents",
   "toc_cell": true,
   "toc_position": {},
   "toc_section_display": true,
   "toc_window_display": false
  }
 },
 "nbformat": 4,
 "nbformat_minor": 4
}
