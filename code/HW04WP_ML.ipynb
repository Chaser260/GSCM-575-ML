{
 "cells": [
  {
   "cell_type": "markdown",
   "metadata": {
    "id": "pa4_RZPjGlFG"
   },
   "source": [
    "#  HW 04 Worked Problems"
   ]
  },
  {
   "cell_type": "markdown",
   "metadata": {
    "id": "ny4NAOySGlFM"
   },
   "source": [
    "Purpose: For the customers of an online motorcycle clothing company, build a predictive model of Weight from a variety of body measurements plus Gender."
   ]
  },
  {
   "cell_type": "markdown",
   "metadata": {
    "id": "mpWvMsLTGlFN"
   },
   "source": [
    "The data are actual body measurements of customers for a motorcycle online clothing retailer.\n",
    "\n",
    "Data: http://web.pdx.edu/~gerbing/data/BodyMeas2500.xlsx\n"
   ]
  },
  {
   "attachments": {},
   "cell_type": "markdown",
   "metadata": {},
   "source": [
    "## Preliminaries"
   ]
  },
  {
   "attachments": {},
   "cell_type": "markdown",
   "metadata": {},
   "source": [
    "Date of analysis"
   ]
  },
  {
   "cell_type": "code",
   "execution_count": 78,
   "metadata": {},
   "outputs": [
    {
     "name": "stdout",
     "output_type": "stream",
     "text": [
      "Analysis on 2023-07-24 at 14:42 PM\n"
     ]
    }
   ],
   "source": [
    "from datetime import datetime as dt\n",
    "now = dt.now()\n",
    "print(\"Analysis on\", now.strftime(\"%Y-%m-%d\"), \"at\", now.strftime(\"%H:%M %p\"))"
   ]
  },
  {
   "attachments": {},
   "cell_type": "markdown",
   "metadata": {},
   "source": [
    "Establish current working directory"
   ]
  },
  {
   "cell_type": "code",
   "execution_count": 79,
   "metadata": {},
   "outputs": [
    {
     "data": {
      "text/plain": [
       "'/Users/chasecarlson/Documents/GSCM Course Materials/GSCM 575 Machine Learning in Business/Python Pjojects/GSCM-575-ML/code'"
      ]
     },
     "execution_count": 79,
     "metadata": {},
     "output_type": "execute_result"
    }
   ],
   "source": [
    "import os\n",
    "os.getcwd()"
   ]
  },
  {
   "attachments": {},
   "cell_type": "markdown",
   "metadata": {},
   "source": [
    "Import libraries"
   ]
  },
  {
   "cell_type": "code",
   "execution_count": 80,
   "metadata": {},
   "outputs": [],
   "source": [
    "import pandas as pd\n",
    "import numpy as np\n",
    "import seaborn as sns"
   ]
  },
  {
   "attachments": {},
   "cell_type": "markdown",
   "metadata": {},
   "source": [
    "Import LinearRegression from sklearn and instantiate as reg_model"
   ]
  },
  {
   "cell_type": "code",
   "execution_count": 81,
   "metadata": {},
   "outputs": [],
   "source": [
    "from sklearn.linear_model import LinearRegression\n",
    "reg_model = LinearRegression()"
   ]
  },
  {
   "cell_type": "markdown",
   "metadata": {},
   "source": [
    "## 1. Data Exploration and Preparation"
   ]
  },
  {
   "attachments": {},
   "cell_type": "markdown",
   "metadata": {},
   "source": [
    "***a. Read the data.***"
   ]
  },
  {
   "attachments": {},
   "cell_type": "markdown",
   "metadata": {},
   "source": [
    "Use read_excel to read in the data from the web."
   ]
  },
  {
   "cell_type": "code",
   "execution_count": 82,
   "metadata": {},
   "outputs": [],
   "source": [
    "df = pd.read_excel('http://web.pdx.edu/~gerbing/data/BodyMeas2500.xlsx')"
   ]
  },
  {
   "attachments": {},
   "cell_type": "markdown",
   "metadata": {},
   "source": [
    "***b. How many samples (rows of data) and columns are there in the data file?***"
   ]
  },
  {
   "cell_type": "code",
   "execution_count": 83,
   "metadata": {},
   "outputs": [
    {
     "data": {
      "text/plain": [
       "(2500, 7)"
      ]
     },
     "execution_count": 83,
     "metadata": {},
     "output_type": "execute_result"
    }
   ],
   "source": [
    "df.shape"
   ]
  },
  {
   "attachments": {},
   "cell_type": "markdown",
   "metadata": {},
   "source": [
    "There are 2500 rows and 7 columns."
   ]
  },
  {
   "attachments": {},
   "cell_type": "markdown",
   "metadata": {},
   "source": [
    "***c. Display the first 5 rows of data and the variable names.***"
   ]
  },
  {
   "attachments": {},
   "cell_type": "markdown",
   "metadata": {},
   "source": [
    "Use head() to view first few rows:"
   ]
  },
  {
   "cell_type": "code",
   "execution_count": 84,
   "metadata": {},
   "outputs": [
    {
     "data": {
      "text/html": [
       "<div>\n",
       "<style scoped>\n",
       "    .dataframe tbody tr th:only-of-type {\n",
       "        vertical-align: middle;\n",
       "    }\n",
       "\n",
       "    .dataframe tbody tr th {\n",
       "        vertical-align: top;\n",
       "    }\n",
       "\n",
       "    .dataframe thead th {\n",
       "        text-align: right;\n",
       "    }\n",
       "</style>\n",
       "<table border=\"1\" class=\"dataframe\">\n",
       "  <thead>\n",
       "    <tr style=\"text-align: right;\">\n",
       "      <th></th>\n",
       "      <th>Gender</th>\n",
       "      <th>Weight</th>\n",
       "      <th>Height</th>\n",
       "      <th>Waist</th>\n",
       "      <th>Hips</th>\n",
       "      <th>Chest</th>\n",
       "      <th>ArmLength</th>\n",
       "    </tr>\n",
       "  </thead>\n",
       "  <tbody>\n",
       "    <tr>\n",
       "      <th>0</th>\n",
       "      <td>M</td>\n",
       "      <td>135</td>\n",
       "      <td>70</td>\n",
       "      <td>34</td>\n",
       "      <td>38</td>\n",
       "      <td>36</td>\n",
       "      <td>34</td>\n",
       "    </tr>\n",
       "    <tr>\n",
       "      <th>1</th>\n",
       "      <td>M</td>\n",
       "      <td>235</td>\n",
       "      <td>66</td>\n",
       "      <td>36</td>\n",
       "      <td>45</td>\n",
       "      <td>48</td>\n",
       "      <td>32</td>\n",
       "    </tr>\n",
       "    <tr>\n",
       "      <th>2</th>\n",
       "      <td>M</td>\n",
       "      <td>205</td>\n",
       "      <td>72</td>\n",
       "      <td>38</td>\n",
       "      <td>44</td>\n",
       "      <td>44</td>\n",
       "      <td>36</td>\n",
       "    </tr>\n",
       "    <tr>\n",
       "      <th>3</th>\n",
       "      <td>M</td>\n",
       "      <td>190</td>\n",
       "      <td>70</td>\n",
       "      <td>36</td>\n",
       "      <td>41</td>\n",
       "      <td>40</td>\n",
       "      <td>32</td>\n",
       "    </tr>\n",
       "    <tr>\n",
       "      <th>4</th>\n",
       "      <td>F</td>\n",
       "      <td>200</td>\n",
       "      <td>64</td>\n",
       "      <td>39</td>\n",
       "      <td>47</td>\n",
       "      <td>45</td>\n",
       "      <td>32</td>\n",
       "    </tr>\n",
       "  </tbody>\n",
       "</table>\n",
       "</div>"
      ],
      "text/plain": [
       "  Gender  Weight  Height  Waist  Hips  Chest  ArmLength\n",
       "0      M     135      70     34    38     36         34\n",
       "1      M     235      66     36    45     48         32\n",
       "2      M     205      72     38    44     44         36\n",
       "3      M     190      70     36    41     40         32\n",
       "4      F     200      64     39    47     45         32"
      ]
     },
     "execution_count": 84,
     "metadata": {},
     "output_type": "execute_result"
    }
   ],
   "source": [
    "df.head()"
   ]
  },
  {
   "attachments": {},
   "cell_type": "markdown",
   "metadata": {},
   "source": [
    "***d. Check for missing data. Any action (deletion, imputation) needed?***"
   ]
  },
  {
   "attachments": {},
   "cell_type": "markdown",
   "metadata": {},
   "source": [
    "After using isna().sum() to identify and count any missing data, the data set seems to be complete. No imputation required. "
   ]
  },
  {
   "cell_type": "code",
   "execution_count": 85,
   "metadata": {},
   "outputs": [
    {
     "name": "stdout",
     "output_type": "stream",
     "text": [
      "Gender       0\n",
      "Weight       0\n",
      "Height       0\n",
      "Waist        0\n",
      "Hips         0\n",
      "Chest        0\n",
      "ArmLength    0\n",
      "dtype: int64\n",
      "Total missing:  0\n"
     ]
    }
   ],
   "source": [
    "print(df.isna().sum())\n",
    "print('Total missing: ', df.isna().sum().sum())"
   ]
  },
  {
   "attachments": {},
   "cell_type": "markdown",
   "metadata": {},
   "source": [
    "***e. Generate a frequency distribution table of Gender.***"
   ]
  },
  {
   "attachments": {},
   "cell_type": "markdown",
   "metadata": {},
   "source": [
    "Use value_counts() to create a frequency distribution table of Gender:"
   ]
  },
  {
   "cell_type": "code",
   "execution_count": 86,
   "metadata": {},
   "outputs": [
    {
     "data": {
      "text/plain": [
       "M    1908\n",
       "F     592\n",
       "Name: Gender, dtype: int64"
      ]
     },
     "execution_count": 86,
     "metadata": {},
     "output_type": "execute_result"
    }
   ],
   "source": [
    "df.Gender.value_counts()"
   ]
  },
  {
   "attachments": {},
   "cell_type": "markdown",
   "metadata": {},
   "source": [
    "***f. Generate a bar chart of Gender.***"
   ]
  },
  {
   "attachments": {},
   "cell_type": "markdown",
   "metadata": {},
   "source": [
    "Use countplot() to visualize distribution of Gender: "
   ]
  },
  {
   "cell_type": "code",
   "execution_count": 87,
   "metadata": {},
   "outputs": [
    {
     "data": {
      "text/plain": [
       "<Axes: xlabel='Gender', ylabel='count'>"
      ]
     },
     "execution_count": 87,
     "metadata": {},
     "output_type": "execute_result"
    },
    {
     "data": {
      "image/png": "[encoded data removed]",
      "text/plain": [
       "<Figure size 640x480 with 1 Axes>"
      ]
     },
     "metadata": {},
     "output_type": "display_data"
    }
   ],
   "source": [
    "sns.countplot(df, x = 'Gender', palette='pastel')"
   ]
  },
  {
   "attachments": {},
   "cell_type": "markdown",
   "metadata": {},
   "source": [
    "***g. Convert the two levels of Gender to two dummy variables and use one of them in the following regression analysis.***"
   ]
  },
  {
   "attachments": {},
   "cell_type": "markdown",
   "metadata": {},
   "source": [
    "Use get_dummies() to transform Gender into two dummy variables, Gender_F and Gender_M:"
   ]
  },
  {
   "cell_type": "code",
   "execution_count": 88,
   "metadata": {},
   "outputs": [
    {
     "data": {
      "text/html": [
       "<div>\n",
       "<style scoped>\n",
       "    .dataframe tbody tr th:only-of-type {\n",
       "        vertical-align: middle;\n",
       "    }\n",
       "\n",
       "    .dataframe tbody tr th {\n",
       "        vertical-align: top;\n",
       "    }\n",
       "\n",
       "    .dataframe thead th {\n",
       "        text-align: right;\n",
       "    }\n",
       "</style>\n",
       "<table border=\"1\" class=\"dataframe\">\n",
       "  <thead>\n",
       "    <tr style=\"text-align: right;\">\n",
       "      <th></th>\n",
       "      <th>Weight</th>\n",
       "      <th>Height</th>\n",
       "      <th>Waist</th>\n",
       "      <th>Hips</th>\n",
       "      <th>Chest</th>\n",
       "      <th>ArmLength</th>\n",
       "      <th>Gender_F</th>\n",
       "      <th>Gender_M</th>\n",
       "    </tr>\n",
       "  </thead>\n",
       "  <tbody>\n",
       "    <tr>\n",
       "      <th>0</th>\n",
       "      <td>135</td>\n",
       "      <td>70</td>\n",
       "      <td>34</td>\n",
       "      <td>38</td>\n",
       "      <td>36</td>\n",
       "      <td>34</td>\n",
       "      <td>0</td>\n",
       "      <td>1</td>\n",
       "    </tr>\n",
       "    <tr>\n",
       "      <th>1</th>\n",
       "      <td>235</td>\n",
       "      <td>66</td>\n",
       "      <td>36</td>\n",
       "      <td>45</td>\n",
       "      <td>48</td>\n",
       "      <td>32</td>\n",
       "      <td>0</td>\n",
       "      <td>1</td>\n",
       "    </tr>\n",
       "    <tr>\n",
       "      <th>2</th>\n",
       "      <td>205</td>\n",
       "      <td>72</td>\n",
       "      <td>38</td>\n",
       "      <td>44</td>\n",
       "      <td>44</td>\n",
       "      <td>36</td>\n",
       "      <td>0</td>\n",
       "      <td>1</td>\n",
       "    </tr>\n",
       "    <tr>\n",
       "      <th>3</th>\n",
       "      <td>190</td>\n",
       "      <td>70</td>\n",
       "      <td>36</td>\n",
       "      <td>41</td>\n",
       "      <td>40</td>\n",
       "      <td>32</td>\n",
       "      <td>0</td>\n",
       "      <td>1</td>\n",
       "    </tr>\n",
       "    <tr>\n",
       "      <th>4</th>\n",
       "      <td>200</td>\n",
       "      <td>64</td>\n",
       "      <td>39</td>\n",
       "      <td>47</td>\n",
       "      <td>45</td>\n",
       "      <td>32</td>\n",
       "      <td>1</td>\n",
       "      <td>0</td>\n",
       "    </tr>\n",
       "  </tbody>\n",
       "</table>\n",
       "</div>"
      ],
      "text/plain": [
       "   Weight  Height  Waist  Hips  Chest  ArmLength  Gender_F  Gender_M\n",
       "0     135      70     34    38     36         34         0         1\n",
       "1     235      66     36    45     48         32         0         1\n",
       "2     205      72     38    44     44         36         0         1\n",
       "3     190      70     36    41     40         32         0         1\n",
       "4     200      64     39    47     45         32         1         0"
      ]
     },
     "execution_count": 88,
     "metadata": {},
     "output_type": "execute_result"
    }
   ],
   "source": [
    "df = pd.get_dummies(df, columns=['Gender'])\n",
    "df.head()"
   ]
  },
  {
   "cell_type": "markdown",
   "metadata": {
    "id": "VcNVdsiuGlFW"
   },
   "source": [
    "## 2. Regression Analysis "
   ]
  },
  {
   "attachments": {},
   "cell_type": "markdown",
   "metadata": {},
   "source": [
    "***a. Store the features, the predictor variables, in data structure X. Store the target variable in data structure y.***"
   ]
  },
  {
   "attachments": {},
   "cell_type": "markdown",
   "metadata": {},
   "source": [
    "Isolate predictor variables and insert into data structure X. Store target variable Weight into data structure y:"
   ]
  },
  {
   "cell_type": "code",
   "execution_count": 89,
   "metadata": {},
   "outputs": [],
   "source": [
    "pred_vars = ['Height', 'Waist', 'Hips', 'Chest', 'ArmLength', 'Gender_M']\n",
    "X = df[pred_vars]\n",
    "y = df['Weight']"
   ]
  },
  {
   "attachments": {},
   "cell_type": "markdown",
   "metadata": {
    "id": "IlpfpBHsGlFX"
   },
   "source": [
    "***b. Use code to display the number of features.***"
   ]
  },
  {
   "attachments": {},
   "cell_type": "markdown",
   "metadata": {},
   "source": [
    "Use len() to count the number of feature variables:"
   ]
  },
  {
   "cell_type": "code",
   "execution_count": 90,
   "metadata": {},
   "outputs": [
    {
     "name": "stdout",
     "output_type": "stream",
     "text": [
      "Number of predictor variables:  6\n"
     ]
    }
   ],
   "source": [
    "n_pred = len(pred_vars)\n",
    "print(\"Number of predictor variables: \", n_pred)"
   ]
  },
  {
   "attachments": {},
   "cell_type": "markdown",
   "metadata": {
    "id": "bp_dNSgdGlFX"
   },
   "source": [
    "***c.\tSplit the data into 75% training data and 25% testing data.***"
   ]
  },
  {
   "cell_type": "code",
   "execution_count": 91,
   "metadata": {},
   "outputs": [],
   "source": [
    "from sklearn.model_selection import train_test_split\n",
    "X_train, X_test, y_train, y_test = train_test_split(X, y, \n",
    "                                                    test_size=.25, \n",
    "                                                    random_state=1)"
   ]
  },
  {
   "attachments": {},
   "cell_type": "markdown",
   "metadata": {},
   "source": [
    "Confirm it worked properly by viewing the shape of the test & train data structures."
   ]
  },
  {
   "cell_type": "code",
   "execution_count": 92,
   "metadata": {},
   "outputs": [
    {
     "name": "stdout",
     "output_type": "stream",
     "text": [
      "Shape of X data structures:  (1875, 6) (625, 6)\n",
      "Shape of y data structures:  (1875,) (625,)\n"
     ]
    }
   ],
   "source": [
    "print(\"Shape of X data structures: \", X_train.shape, X_test.shape)\n",
    "print(\"Shape of y data structures: \", y_train.shape, y_test.shape)"
   ]
  },
  {
   "attachments": {},
   "cell_type": "markdown",
   "metadata": {
    "id": "ypYmiRcJGlFX"
   },
   "source": [
    "***d.\tDo the multiple regression with all possible features. Display the estimated model coefficients.***"
   ]
  },
  {
   "attachments": {},
   "cell_type": "markdown",
   "metadata": {},
   "source": [
    "Apply the fit() function for linear regression:"
   ]
  },
  {
   "cell_type": "code",
   "execution_count": 93,
   "metadata": {},
   "outputs": [
    {
     "data": {
      "text/html": [
       "<style>#sk-container-id-4 {color: black;background-color: white;}#sk-container-id-4 pre{padding: 0;}#sk-container-id-4 div.sk-toggleable {background-color: white;}#sk-container-id-4 label.sk-toggleable__label {cursor: pointer;display: block;width: 100%;margin-bottom: 0;padding: 0.3em;box-sizing: border-box;text-align: center;}#sk-container-id-4 label.sk-toggleable__label-arrow:before {content: \"▸\";float: left;margin-right: 0.25em;color: #696969;}#sk-container-id-4 label.sk-toggleable__label-arrow:hover:before {color: black;}#sk-container-id-4 div.sk-estimator:hover label.sk-toggleable__label-arrow:before {color: black;}#sk-container-id-4 div.sk-toggleable__content {max-height: 0;max-width: 0;overflow: hidden;text-align: left;background-color: #f0f8ff;}#sk-container-id-4 div.sk-toggleable__content pre {margin: 0.2em;color: black;border-radius: 0.25em;background-color: #f0f8ff;}#sk-container-id-4 input.sk-toggleable__control:checked~div.sk-toggleable__content {max-height: 200px;max-width: 100%;overflow: auto;}#sk-container-id-4 input.sk-toggleable__control:checked~label.sk-toggleable__label-arrow:before {content: \"▾\";}#sk-container-id-4 div.sk-estimator input.sk-toggleable__control:checked~label.sk-toggleable__label {background-color: #d4ebff;}#sk-container-id-4 div.sk-label input.sk-toggleable__control:checked~label.sk-toggleable__label {background-color: #d4ebff;}#sk-container-id-4 input.sk-hidden--visually {border: 0;clip: rect(1px 1px 1px 1px);clip: rect(1px, 1px, 1px, 1px);height: 1px;margin: -1px;overflow: hidden;padding: 0;position: absolute;width: 1px;}#sk-container-id-4 div.sk-estimator {font-family: monospace;background-color: #f0f8ff;border: 1px dotted black;border-radius: 0.25em;box-sizing: border-box;margin-bottom: 0.5em;}#sk-container-id-4 div.sk-estimator:hover {background-color: #d4ebff;}#sk-container-id-4 div.sk-parallel-item::after {content: \"\";width: 100%;border-bottom: 1px solid gray;flex-grow: 1;}#sk-container-id-4 div.sk-label:hover label.sk-toggleable__label {background-color: #d4ebff;}#sk-container-id-4 div.sk-serial::before {content: \"\";position: absolute;border-left: 1px solid gray;box-sizing: border-box;top: 0;bottom: 0;left: 50%;z-index: 0;}#sk-container-id-4 div.sk-serial {display: flex;flex-direction: column;align-items: center;background-color: white;padding-right: 0.2em;padding-left: 0.2em;position: relative;}#sk-container-id-4 div.sk-item {position: relative;z-index: 1;}#sk-container-id-4 div.sk-parallel {display: flex;align-items: stretch;justify-content: center;background-color: white;position: relative;}#sk-container-id-4 div.sk-item::before, #sk-container-id-4 div.sk-parallel-item::before {content: \"\";position: absolute;border-left: 1px solid gray;box-sizing: border-box;top: 0;bottom: 0;left: 50%;z-index: -1;}#sk-container-id-4 div.sk-parallel-item {display: flex;flex-direction: column;z-index: 1;position: relative;background-color: white;}#sk-container-id-4 div.sk-parallel-item:first-child::after {align-self: flex-end;width: 50%;}#sk-container-id-4 div.sk-parallel-item:last-child::after {align-self: flex-start;width: 50%;}#sk-container-id-4 div.sk-parallel-item:only-child::after {width: 0;}#sk-container-id-4 div.sk-dashed-wrapped {border: 1px dashed gray;margin: 0 0.4em 0.5em 0.4em;box-sizing: border-box;padding-bottom: 0.4em;background-color: white;}#sk-container-id-4 div.sk-label label {font-family: monospace;font-weight: bold;display: inline-block;line-height: 1.2em;}#sk-container-id-4 div.sk-label-container {text-align: center;}#sk-container-id-4 div.sk-container {/* jupyter's `normalize.less` sets `[hidden] { display: none; }` but bootstrap.min.css set `[hidden] { display: none !important; }` so we also need the `!important` here to be able to override the default hidden behavior on the sphinx rendered scikit-learn.org. See: https://github.com/scikit-learn/scikit-learn/issues/21755 */display: inline-block !important;position: relative;}#sk-container-id-4 div.sk-text-repr-fallback {display: none;}</style><div id=\"sk-container-id-4\" class=\"sk-top-container\"><div class=\"sk-text-repr-fallback\"><pre>LinearRegression()</pre><b>In a Jupyter environment, please rerun this cell to show the HTML representation or trust the notebook. <br />On GitHub, the HTML representation is unable to render, please try loading this page with nbviewer.org.</b></div><div class=\"sk-container\" hidden><div class=\"sk-item\"><div class=\"sk-estimator sk-toggleable\"><input class=\"sk-toggleable__control sk-hidden--visually\" id=\"sk-estimator-id-4\" type=\"checkbox\" checked><label for=\"sk-estimator-id-4\" class=\"sk-toggleable__label sk-toggleable__label-arrow\">LinearRegression</label><div class=\"sk-toggleable__content\"><pre>LinearRegression()</pre></div></div></div></div></div>"
      ],
      "text/plain": [
       "LinearRegression()"
      ]
     },
     "execution_count": 93,
     "metadata": {},
     "output_type": "execute_result"
    }
   ],
   "source": [
    "reg_model.fit(X_train, y_train)"
   ]
  },
  {
   "attachments": {},
   "cell_type": "markdown",
   "metadata": {},
   "source": [
    "Calculate the y-intercept and coefficients for training data:"
   ]
  },
  {
   "cell_type": "code",
   "execution_count": 94,
   "metadata": {},
   "outputs": [
    {
     "name": "stdout",
     "output_type": "stream",
     "text": [
      "intercept: -331.629500 \n",
      "\n",
      "           Coefficients\n",
      "Height         2.802635\n",
      "Waist          1.923748\n",
      "Hips           2.137972\n",
      "Chest          3.353648\n",
      "ArmLength      0.359313\n",
      "Gender_M       6.508491\n"
     ]
    }
   ],
   "source": [
    "print('intercept: %3f' % (reg_model.intercept_), '\\n')\n",
    "\n",
    "cdf = pd.DataFrame(reg_model.coef_, X.columns, columns=['Coefficients'])\n",
    "print(cdf)"
   ]
  },
  {
   "attachments": {},
   "cell_type": "markdown",
   "metadata": {
    "id": "y2wPzHgpGlFY"
   },
   "source": [
    "***e. For the person who provided the first row of data, manually calculate his fitted weight from the model explicitly from the model coefficients. (For pedagogy, to show understanding of the model, not normally done here.)***"
   ]
  },
  {
   "attachments": {},
   "cell_type": "markdown",
   "metadata": {},
   "source": [
    "View the first few rows of predictor variables for reference:"
   ]
  },
  {
   "cell_type": "code",
   "execution_count": 95,
   "metadata": {},
   "outputs": [
    {
     "data": {
      "text/html": [
       "<div>\n",
       "<style scoped>\n",
       "    .dataframe tbody tr th:only-of-type {\n",
       "        vertical-align: middle;\n",
       "    }\n",
       "\n",
       "    .dataframe tbody tr th {\n",
       "        vertical-align: top;\n",
       "    }\n",
       "\n",
       "    .dataframe thead th {\n",
       "        text-align: right;\n",
       "    }\n",
       "</style>\n",
       "<table border=\"1\" class=\"dataframe\">\n",
       "  <thead>\n",
       "    <tr style=\"text-align: right;\">\n",
       "      <th></th>\n",
       "      <th>Height</th>\n",
       "      <th>Waist</th>\n",
       "      <th>Hips</th>\n",
       "      <th>Chest</th>\n",
       "      <th>ArmLength</th>\n",
       "      <th>Gender_M</th>\n",
       "    </tr>\n",
       "  </thead>\n",
       "  <tbody>\n",
       "    <tr>\n",
       "      <th>0</th>\n",
       "      <td>70</td>\n",
       "      <td>34</td>\n",
       "      <td>38</td>\n",
       "      <td>36</td>\n",
       "      <td>34</td>\n",
       "      <td>1</td>\n",
       "    </tr>\n",
       "    <tr>\n",
       "      <th>1</th>\n",
       "      <td>66</td>\n",
       "      <td>36</td>\n",
       "      <td>45</td>\n",
       "      <td>48</td>\n",
       "      <td>32</td>\n",
       "      <td>1</td>\n",
       "    </tr>\n",
       "    <tr>\n",
       "      <th>2</th>\n",
       "      <td>72</td>\n",
       "      <td>38</td>\n",
       "      <td>44</td>\n",
       "      <td>44</td>\n",
       "      <td>36</td>\n",
       "      <td>1</td>\n",
       "    </tr>\n",
       "    <tr>\n",
       "      <th>3</th>\n",
       "      <td>70</td>\n",
       "      <td>36</td>\n",
       "      <td>41</td>\n",
       "      <td>40</td>\n",
       "      <td>32</td>\n",
       "      <td>1</td>\n",
       "    </tr>\n",
       "    <tr>\n",
       "      <th>4</th>\n",
       "      <td>64</td>\n",
       "      <td>39</td>\n",
       "      <td>47</td>\n",
       "      <td>45</td>\n",
       "      <td>32</td>\n",
       "      <td>0</td>\n",
       "    </tr>\n",
       "  </tbody>\n",
       "</table>\n",
       "</div>"
      ],
      "text/plain": [
       "   Height  Waist  Hips  Chest  ArmLength  Gender_M\n",
       "0      70     34    38     36         34         1\n",
       "1      66     36    45     48         32         1\n",
       "2      72     38    44     44         36         1\n",
       "3      70     36    41     40         32         1\n",
       "4      64     39    47     45         32         0"
      ]
     },
     "execution_count": 95,
     "metadata": {},
     "output_type": "execute_result"
    }
   ],
   "source": [
    "X.head()"
   ]
  },
  {
   "attachments": {},
   "cell_type": "markdown",
   "metadata": {},
   "source": [
    "Store feature values and coefficients in variables to use in multiple regression equation:"
   ]
  },
  {
   "cell_type": "code",
   "execution_count": 96,
   "metadata": {},
   "outputs": [],
   "source": [
    "intercept = reg_model.intercept_\n",
    "\n",
    "b_height = X.loc[0, 'Height']\n",
    "x_height = cdf.loc['Height', 'Coefficients']\n",
    "b_waist = X.loc[0, 'Waist']\n",
    "x_waist = cdf.loc['Waist', 'Coefficients']\n",
    "b_hips = X.loc[0, 'Hips']\n",
    "x_hips = cdf.loc['Hips', 'Coefficients']\n",
    "b_chest = X.loc[0, 'Chest']\n",
    "x_chest = cdf.loc['Chest', 'Coefficients']\n",
    "b_arm = X.loc[0, 'ArmLength']\n",
    "x_arm = cdf.loc['ArmLength', 'Coefficients']\n",
    "b_gender = X.loc[0, 'Gender_M']\n",
    "x_gender = cdf.loc['Gender_M', 'Coefficients']\n"
   ]
  },
  {
   "attachments": {},
   "cell_type": "markdown",
   "metadata": {},
   "source": [
    "Apply to multiple regression formula:"
   ]
  },
  {
   "cell_type": "code",
   "execution_count": 97,
   "metadata": {},
   "outputs": [
    {
     "name": "stdout",
     "output_type": "stream",
     "text": [
      "Predicted weight for first row:  150.66179903202556\n"
     ]
    }
   ],
   "source": [
    "fitted_weight = intercept + (b_height * x_height) + (b_waist * x_waist) + (b_hips * x_hips) + (b_chest * x_chest) + (b_arm * x_arm) + (b_gender * x_gender)\n",
    "print(\"Predicted weight for first row: \", fitted_weight)"
   ]
  },
  {
   "attachments": {},
   "cell_type": "markdown",
   "metadata": {},
   "source": [
    "OR insert values manually:"
   ]
  },
  {
   "cell_type": "code",
   "execution_count": 98,
   "metadata": {},
   "outputs": [
    {
     "name": "stdout",
     "output_type": "stream",
     "text": [
      "The fitted weight of the person in the first row is:  150.661779 lbs\n"
     ]
    }
   ],
   "source": [
    "fitted_weight2 = -331.629500 + (2.802635 * 70) + (1.923748 * 34) + (2.137972 * 38) + (3.353648 * 36) + (0.359313 * 34) + (6.508491 * 1)\n",
    "print(\"The fitted weight of the person in the first row is: \", fitted_weight2, \"lbs\")"
   ]
  },
  {
   "attachments": {},
   "cell_type": "markdown",
   "metadata": {
    "id": "VOPSW0LTGlFY"
   },
   "source": [
    "***f. What is the residual for the first person? Comment.***"
   ]
  },
  {
   "attachments": {},
   "cell_type": "markdown",
   "metadata": {},
   "source": [
    "Formula to calculate residual: e = $y_i - \\hat\n",
    "y_i$"
   ]
  },
  {
   "cell_type": "code",
   "execution_count": 99,
   "metadata": {},
   "outputs": [
    {
     "data": {
      "text/plain": [
       "-15.661778999999996"
      ]
     },
     "execution_count": 99,
     "metadata": {},
     "output_type": "execute_result"
    }
   ],
   "source": [
    "# df.loc[0, 'weight'] identifies the first row of the Weight column of the original data frame.\n",
    "# fitted_weight2 represents the predicted weight from the previous calculation.\n",
    "e = df.loc[0, 'Weight'] - fitted_weight2\n",
    "e"
   ]
  },
  {
   "attachments": {},
   "cell_type": "markdown",
   "metadata": {},
   "source": [
    "The residual for the person in the first row is -15.661778999999996. This means that the predicted value was approximately -15.66 pounds different than the actual weight of the person in the first row."
   ]
  },
  {
   "attachments": {},
   "cell_type": "markdown",
   "metadata": {
    "id": "NvKYRCzSGlFY"
   },
   "source": [
    "***g.\tCompute the forecasted values of y, $\\hat y$, from the testing data for X.***"
   ]
  },
  {
   "attachments": {},
   "cell_type": "markdown",
   "metadata": {},
   "source": [
    "y_fit calculates $\\hat{y}$ when the model is applied (fitted) to the training data, and y_pred calculates $\\hat{y}$ when the model is applied to the test data."
   ]
  },
  {
   "cell_type": "code",
   "execution_count": 100,
   "metadata": {},
   "outputs": [
    {
     "name": "stdout",
     "output_type": "stream",
     "text": [
      "               0\n",
      "0     154.798121\n",
      "1     176.475776\n",
      "2     180.721586\n",
      "3     108.955845\n",
      "4     112.281111\n",
      "...          ...\n",
      "1870  140.137094\n",
      "1871  177.299138\n",
      "1872  214.034495\n",
      "1873  172.652367\n",
      "1874  206.913923\n",
      "\n",
      "[1875 rows x 1 columns]\n",
      "              0\n",
      "0    138.684670\n",
      "1    183.317607\n",
      "2    249.451167\n",
      "3    224.727100\n",
      "4    157.158072\n",
      "..          ...\n",
      "620  207.691352\n",
      "621  138.067944\n",
      "622  123.468895\n",
      "623  157.728408\n",
      "624  311.558153\n",
      "\n",
      "[625 rows x 1 columns]\n"
     ]
    }
   ],
   "source": [
    "y_fit = reg_model.predict(X_train)\n",
    "y_pred = reg_model.predict(X_test)\n",
    "\n",
    "print(pd.DataFrame(reg_model.predict(X_train)))\n",
    "print(pd.DataFrame(reg_model.predict(X_test)))"
   ]
  },
  {
   "attachments": {},
   "cell_type": "markdown",
   "metadata": {
    "id": "NUk9WGKNGlFY"
   },
   "source": [
    "***h. Visually compare the forecasted values of y from the model applied to the testing data to the obtained values of y in the testing data. Comment***"
   ]
  },
  {
   "attachments": {},
   "cell_type": "markdown",
   "metadata": {},
   "source": [
    "Use regplot() to create a scatterplot with regression line for visual assessment of residuals."
   ]
  },
  {
   "cell_type": "code",
   "execution_count": 101,
   "metadata": {},
   "outputs": [
    {
     "data": {
      "text/plain": [
       "[Text(0.5, 0, 'y from testing data'), Text(0, 0.5, 'predicted value of y')]"
      ]
     },
     "execution_count": 101,
     "metadata": {},
     "output_type": "execute_result"
    },
    {
     "data": {
      "image/png": "[encoded data removed]",
      "text/plain": [
       "<Figure size 640x480 with 1 Axes>"
      ]
     },
     "metadata": {},
     "output_type": "display_data"
    }
   ],
   "source": [
    "ax = sns.regplot(x=y_test, y=y_pred, color='dodgerblue')\n",
    "ax.set(xlabel='y from testing data', ylabel='predicted value of y')"
   ]
  },
  {
   "attachments": {},
   "cell_type": "markdown",
   "metadata": {
    "id": "GrqyZsCKGlFZ"
   },
   "source": [
    "***i.\tEvaluate model fit to the training data with the standard deviation of residuals and R-squared. Comment***"
   ]
  },
  {
   "attachments": {},
   "cell_type": "markdown",
   "metadata": {},
   "source": [
    "The R-squared value for the test data is very high, at 0.887, which means that the model is a good fit for the test data with the applied variables, however, we will need to see the performance against the test data to determine whether the model is a good fit for the overall data set or not."
   ]
  },
  {
   "cell_type": "code",
   "execution_count": 102,
   "metadata": {},
   "outputs": [
    {
     "name": "stdout",
     "output_type": "stream",
     "text": [
      "MSE: 224.515\n",
      "Stdev of residuals: 14.984 \n",
      "R-squared: 0.887\n"
     ]
    }
   ],
   "source": [
    "from sklearn.metrics import mean_squared_error, r2_score\n",
    "mse = mean_squared_error(y_train, y_fit)\n",
    "rsq = r2_score(y_train, y_fit)\n",
    "print(\"MSE: %.3f\" % mse)\n",
    "se = np.sqrt(mse)\n",
    "range95 = 4 * se\n",
    "print(\"Stdev of residuals: %.3f \" % se)\n",
    "print(\"R-squared: %.3f\" % rsq)\n"
   ]
  },
  {
   "attachments": {},
   "cell_type": "markdown",
   "metadata": {
    "id": "w_4ijfEvGlFZ"
   },
   "source": [
    "***j.\tEvaluate model fit to the testing data with the standard deviation of residuals and R-squared. Comment***"
   ]
  },
  {
   "attachments": {},
   "cell_type": "markdown",
   "metadata": {},
   "source": [
    "The standard deviation of the residuals drops from 14.984 to 13.326, and R-squared improved from 0.887 to 0.909 when the model applied to the test data. This validates that the model is still a good fit."
   ]
  },
  {
   "cell_type": "code",
   "execution_count": 103,
   "metadata": {},
   "outputs": [
    {
     "name": "stdout",
     "output_type": "stream",
     "text": [
      "Forecasting Mean squared error: 177.588\n",
      "Forecasting Standard deviation of residuals: 13.326\n",
      "Forecasting R-squared: 0.909\n"
     ]
    }
   ],
   "source": [
    "mse_f = mean_squared_error(y_test, y_pred)\n",
    "rsq_f = r2_score(y_test, y_pred)\n",
    "print('Forecasting Mean squared error: %.3f' % mse_f)\n",
    "print('Forecasting Standard deviation of residuals: %.3f' % np.sqrt(mse_f))\n",
    "print('Forecasting R-squared: %.3f' % rsq_f)"
   ]
  },
  {
   "attachments": {},
   "cell_type": "markdown",
   "metadata": {
    "id": "PiIPNtz9GlFa"
   },
   "source": [
    "***k.\tIs the model overfit?***"
   ]
  },
  {
   "attachments": {},
   "cell_type": "markdown",
   "metadata": {},
   "source": [
    "The model is not overfit because it performed just as good or better when applied to the testing data. "
   ]
  },
  {
   "attachments": {},
   "cell_type": "markdown",
   "metadata": {
    "id": "4Sz4RPSdGlFb"
   },
   "source": [
    "***l.\tCross-validate the data with five randomly selected folds, and evaluate with the average value of the standard deviation of residuals and R-squared across the folds.***"
   ]
  },
  {
   "attachments": {},
   "cell_type": "markdown",
   "metadata": {},
   "source": [
    "Import KFold from sklearn.model_selection and split the data into 5 folds"
   ]
  },
  {
   "cell_type": "code",
   "execution_count": 104,
   "metadata": {},
   "outputs": [],
   "source": [
    "from sklearn.model_selection import KFold, cross_validate\n",
    "# instantiate the KFold model with 5 splits, shuffle the data prior to split, and set the seed to recover same set in future.\n",
    "kf = KFold(n_splits=5, shuffle=True, random_state=1) "
   ]
  },
  {
   "attachments": {},
   "cell_type": "markdown",
   "metadata": {},
   "source": [
    "Calculate scores for each fold"
   ]
  },
  {
   "cell_type": "code",
   "execution_count": 105,
   "metadata": {},
   "outputs": [],
   "source": [
    "scores = cross_validate(reg_model, X, y, cv=kf,\n",
    "                        scoring=('r2', 'neg_mean_squared_error'),\n",
    "                        return_train_score=True)"
   ]
  },
  {
   "attachments": {},
   "cell_type": "markdown",
   "metadata": {},
   "source": [
    "Convert scores to data frame"
   ]
  },
  {
   "cell_type": "code",
   "execution_count": 106,
   "metadata": {},
   "outputs": [
    {
     "data": {
      "text/html": [
       "<div>\n",
       "<style scoped>\n",
       "    .dataframe tbody tr th:only-of-type {\n",
       "        vertical-align: middle;\n",
       "    }\n",
       "\n",
       "    .dataframe tbody tr th {\n",
       "        vertical-align: top;\n",
       "    }\n",
       "\n",
       "    .dataframe thead th {\n",
       "        text-align: right;\n",
       "    }\n",
       "</style>\n",
       "<table border=\"1\" class=\"dataframe\">\n",
       "  <thead>\n",
       "    <tr style=\"text-align: right;\">\n",
       "      <th></th>\n",
       "      <th>fit_time</th>\n",
       "      <th>score_time</th>\n",
       "      <th>test_r2</th>\n",
       "      <th>train_r2</th>\n",
       "      <th>test_neg_mean_squared_error</th>\n",
       "      <th>train_neg_mean_squared_error</th>\n",
       "    </tr>\n",
       "  </thead>\n",
       "  <tbody>\n",
       "    <tr>\n",
       "      <th>0</th>\n",
       "      <td>0.001917</td>\n",
       "      <td>0.000554</td>\n",
       "      <td>0.899467</td>\n",
       "      <td>0.890679</td>\n",
       "      <td>-183.506873</td>\n",
       "      <td>-220.196742</td>\n",
       "    </tr>\n",
       "    <tr>\n",
       "      <th>1</th>\n",
       "      <td>0.000967</td>\n",
       "      <td>0.000469</td>\n",
       "      <td>0.904874</td>\n",
       "      <td>0.889601</td>\n",
       "      <td>-174.515332</td>\n",
       "      <td>-222.249204</td>\n",
       "    </tr>\n",
       "    <tr>\n",
       "      <th>2</th>\n",
       "      <td>0.000826</td>\n",
       "      <td>0.000451</td>\n",
       "      <td>0.830941</td>\n",
       "      <td>0.909158</td>\n",
       "      <td>-359.182597</td>\n",
       "      <td>-176.276181</td>\n",
       "    </tr>\n",
       "    <tr>\n",
       "      <th>3</th>\n",
       "      <td>0.000816</td>\n",
       "      <td>0.000455</td>\n",
       "      <td>0.905171</td>\n",
       "      <td>0.889231</td>\n",
       "      <td>-184.512008</td>\n",
       "      <td>-219.900832</td>\n",
       "    </tr>\n",
       "    <tr>\n",
       "      <th>4</th>\n",
       "      <td>0.003115</td>\n",
       "      <td>0.001220</td>\n",
       "      <td>0.920204</td>\n",
       "      <td>0.884657</td>\n",
       "      <td>-171.481808</td>\n",
       "      <td>-223.071235</td>\n",
       "    </tr>\n",
       "  </tbody>\n",
       "</table>\n",
       "</div>"
      ],
      "text/plain": [
       "   fit_time  score_time   test_r2  train_r2  test_neg_mean_squared_error  \\\n",
       "0  0.001917    0.000554  0.899467  0.890679                  -183.506873   \n",
       "1  0.000967    0.000469  0.904874  0.889601                  -174.515332   \n",
       "2  0.000826    0.000451  0.830941  0.909158                  -359.182597   \n",
       "3  0.000816    0.000455  0.905171  0.889231                  -184.512008   \n",
       "4  0.003115    0.001220  0.920204  0.884657                  -171.481808   \n",
       "\n",
       "   train_neg_mean_squared_error  \n",
       "0                   -220.196742  \n",
       "1                   -222.249204  \n",
       "2                   -176.276181  \n",
       "3                   -219.900832  \n",
       "4                   -223.071235  "
      ]
     },
     "execution_count": 106,
     "metadata": {},
     "output_type": "execute_result"
    }
   ],
   "source": [
    "ds = pd.DataFrame(scores)\n",
    "ds.head()"
   ]
  },
  {
   "attachments": {},
   "cell_type": "markdown",
   "metadata": {},
   "source": [
    "Rename MSE columns and convert to positive values: "
   ]
  },
  {
   "cell_type": "code",
   "execution_count": 107,
   "metadata": {},
   "outputs": [
    {
     "name": "stdout",
     "output_type": "stream",
     "text": [
      "   fit_time  score_time  test_r2  train_r2  test_MSE  train_MSE\n",
      "0    0.0019      0.0006   0.8995    0.8907  183.5069   220.1967\n",
      "1    0.0010      0.0005   0.9049    0.8896  174.5153   222.2492\n",
      "2    0.0008      0.0005   0.8309    0.9092  359.1826   176.2762\n",
      "3    0.0008      0.0005   0.9052    0.8892  184.5120   219.9008\n",
      "4    0.0031      0.0012   0.9202    0.8847  171.4818   223.0712\n"
     ]
    }
   ],
   "source": [
    "ds.rename(columns = {'test_neg_mean_squared_error': 'test_MSE', \n",
    "                     'train_neg_mean_squared_error': 'train_MSE'},\n",
    "                     inplace=True)\n",
    "\n",
    "ds['test_MSE'] = -ds['test_MSE']\n",
    "ds['train_MSE'] = -ds['train_MSE']\n",
    "\n",
    "print(ds.round(4))"
   ]
  },
  {
   "attachments": {},
   "cell_type": "markdown",
   "metadata": {},
   "source": [
    "Calculate average R-squared value and standard deviation across all 5 folds"
   ]
  },
  {
   "cell_type": "code",
   "execution_count": 108,
   "metadata": {},
   "outputs": [
    {
     "name": "stdout",
     "output_type": "stream",
     "text": [
      "Mean of test R-squared scores: 0.892\n",
      "Mean of test MSE scores: 214.640\n",
      "Standard deviation of mean test MSE scores: 14.651\n"
     ]
    }
   ],
   "source": [
    "print('Mean of test R-squared scores: %.3f' % ds['test_r2'].mean())\n",
    "print('Mean of test MSE scores: %.3f' % ds['test_MSE'].mean())\n",
    "se = np.sqrt(ds['test_MSE'].mean())\n",
    "print('Standard deviation of mean test MSE scores: %.3f' % se)"
   ]
  },
  {
   "attachments": {},
   "cell_type": "markdown",
   "metadata": {},
   "source": [
    "The average R-squared value remains consistent at 0.892, slightly lower than when applied to the single test set, but not a significant change."
   ]
  },
  {
   "cell_type": "markdown",
   "metadata": {
    "id": "hGQgZL9LGlFd"
   },
   "source": [
    "## 3. Feature Selection"
   ]
  },
  {
   "cell_type": "markdown",
   "metadata": {
    "id": "E0V7E7X7GlFe"
   },
   "source": [
    "Can we obtain the same level of forecasting accuracy with a smaller set of features?"
   ]
  },
  {
   "attachments": {},
   "cell_type": "markdown",
   "metadata": {
    "id": "s_2izBzmGlFh"
   },
   "source": [
    "***a.\tShow uniqueness and relevance of each feature in a single table that consists of VIFs and target correlations. Comment.***"
   ]
  },
  {
   "attachments": {},
   "cell_type": "markdown",
   "metadata": {},
   "source": [
    "Create a new data frame and add columns for Predictor names, VIF, and Relevance. "
   ]
  },
  {
   "cell_type": "code",
   "execution_count": 109,
   "metadata": {},
   "outputs": [
    {
     "data": {
      "text/html": [
       "<div>\n",
       "<style scoped>\n",
       "    .dataframe tbody tr th:only-of-type {\n",
       "        vertical-align: middle;\n",
       "    }\n",
       "\n",
       "    .dataframe tbody tr th {\n",
       "        vertical-align: top;\n",
       "    }\n",
       "\n",
       "    .dataframe thead th {\n",
       "        text-align: right;\n",
       "    }\n",
       "</style>\n",
       "<table border=\"1\" class=\"dataframe\">\n",
       "  <thead>\n",
       "    <tr style=\"text-align: right;\">\n",
       "      <th></th>\n",
       "      <th>Predictor</th>\n",
       "      <th>VIF</th>\n",
       "      <th>Relevance</th>\n",
       "    </tr>\n",
       "  </thead>\n",
       "  <tbody>\n",
       "    <tr>\n",
       "      <th>0</th>\n",
       "      <td>Height</td>\n",
       "      <td>419.131300</td>\n",
       "      <td>1.000</td>\n",
       "    </tr>\n",
       "    <tr>\n",
       "      <th>1</th>\n",
       "      <td>Waist</td>\n",
       "      <td>216.931126</td>\n",
       "      <td>0.622</td>\n",
       "    </tr>\n",
       "    <tr>\n",
       "      <th>2</th>\n",
       "      <td>Hips</td>\n",
       "      <td>331.700435</td>\n",
       "      <td>0.861</td>\n",
       "    </tr>\n",
       "    <tr>\n",
       "      <th>3</th>\n",
       "      <td>Chest</td>\n",
       "      <td>295.719089</td>\n",
       "      <td>0.782</td>\n",
       "    </tr>\n",
       "    <tr>\n",
       "      <th>4</th>\n",
       "      <td>ArmLength</td>\n",
       "      <td>394.445013</td>\n",
       "      <td>0.876</td>\n",
       "    </tr>\n",
       "    <tr>\n",
       "      <th>5</th>\n",
       "      <td>Gender_M</td>\n",
       "      <td>6.261650</td>\n",
       "      <td>0.593</td>\n",
       "    </tr>\n",
       "  </tbody>\n",
       "</table>\n",
       "</div>"
      ],
      "text/plain": [
       "   Predictor         VIF  Relevance\n",
       "0     Height  419.131300      1.000\n",
       "1      Waist  216.931126      0.622\n",
       "2       Hips  331.700435      0.861\n",
       "3      Chest  295.719089      0.782\n",
       "4  ArmLength  394.445013      0.876\n",
       "5   Gender_M    6.261650      0.593"
      ]
     },
     "execution_count": 109,
     "metadata": {},
     "output_type": "execute_result"
    }
   ],
   "source": [
    "from statsmodels.stats.outliers_influence import variance_inflation_factor\n",
    "vif = pd.DataFrame()\n",
    "vif['Predictor'] = X.columns\n",
    "# Uses loop to calculate VIF for each variable in the X data structure\n",
    "vif['VIF'] = [variance_inflation_factor(X.values, i)\n",
    "for i in range(X.shape[1])] \n",
    "# Calculate the correlation between predictor variables and target variable 'Weight'\n",
    "cr = df.corr()['Weight'].round(3)\n",
    "# Uses loop to assign correlation values to the Relevance column for each variable.\n",
    "vif['Relevance'] = [cr[i]\n",
    "for i in range(X.shape[1])]\n",
    "\n",
    "vif"
   ]
  },
  {
   "attachments": {},
   "cell_type": "markdown",
   "metadata": {},
   "source": [
    "VIF factors are high for all variables except for gender, indicating there is a strong correlation between predictor variables in the data set."
   ]
  },
  {
   "attachments": {},
   "cell_type": "markdown",
   "metadata": {
    "id": "_qVs_WTPGlFi"
   },
   "source": [
    "***b. Run the multivariate feature selection algorithm to retain the top three features.***"
   ]
  },
  {
   "cell_type": "code",
   "execution_count": 110,
   "metadata": {},
   "outputs": [],
   "source": [
    "from sklearn.linear_model import LinearRegression\n",
    "estimator = LinearRegression()\n",
    "from sklearn.feature_selection import RFE\n",
    "selector = RFE(estimator, n_features_to_select=3, step=1).fit(X,y)"
   ]
  },
  {
   "attachments": {},
   "cell_type": "markdown",
   "metadata": {},
   "source": [
    "View which variables were selected as best:"
   ]
  },
  {
   "cell_type": "code",
   "execution_count": 111,
   "metadata": {},
   "outputs": [
    {
     "name": "stdout",
     "output_type": "stream",
     "text": [
      "[False False  True  True False  True]\n",
      "[2 3 1 1 4 1]\n"
     ]
    }
   ],
   "source": [
    "print(selector.support_)\n",
    "print(selector.ranking_)"
   ]
  },
  {
   "attachments": {},
   "cell_type": "markdown",
   "metadata": {
    "id": "kpBF-OaaGlFj"
   },
   "source": [
    "***c. Subset a new data frame of the feature variables that contains just these three predictors. Call it X2. Show the first several rows of data.***"
   ]
  },
  {
   "attachments": {},
   "cell_type": "markdown",
   "metadata": {},
   "source": [
    "Use the support_ output structure from RFE(). Subset the data with iloc() to\n",
    "redefine the feature data frame."
   ]
  },
  {
   "cell_type": "code",
   "execution_count": 112,
   "metadata": {},
   "outputs": [
    {
     "data": {
      "text/html": [
       "<div>\n",
       "<style scoped>\n",
       "    .dataframe tbody tr th:only-of-type {\n",
       "        vertical-align: middle;\n",
       "    }\n",
       "\n",
       "    .dataframe tbody tr th {\n",
       "        vertical-align: top;\n",
       "    }\n",
       "\n",
       "    .dataframe thead th {\n",
       "        text-align: right;\n",
       "    }\n",
       "</style>\n",
       "<table border=\"1\" class=\"dataframe\">\n",
       "  <thead>\n",
       "    <tr style=\"text-align: right;\">\n",
       "      <th></th>\n",
       "      <th>Hips</th>\n",
       "      <th>Chest</th>\n",
       "      <th>Gender_M</th>\n",
       "    </tr>\n",
       "  </thead>\n",
       "  <tbody>\n",
       "    <tr>\n",
       "      <th>0</th>\n",
       "      <td>38</td>\n",
       "      <td>36</td>\n",
       "      <td>1</td>\n",
       "    </tr>\n",
       "    <tr>\n",
       "      <th>1</th>\n",
       "      <td>45</td>\n",
       "      <td>48</td>\n",
       "      <td>1</td>\n",
       "    </tr>\n",
       "    <tr>\n",
       "      <th>2</th>\n",
       "      <td>44</td>\n",
       "      <td>44</td>\n",
       "      <td>1</td>\n",
       "    </tr>\n",
       "    <tr>\n",
       "      <th>3</th>\n",
       "      <td>41</td>\n",
       "      <td>40</td>\n",
       "      <td>1</td>\n",
       "    </tr>\n",
       "    <tr>\n",
       "      <th>4</th>\n",
       "      <td>47</td>\n",
       "      <td>45</td>\n",
       "      <td>0</td>\n",
       "    </tr>\n",
       "  </tbody>\n",
       "</table>\n",
       "</div>"
      ],
      "text/plain": [
       "   Hips  Chest  Gender_M\n",
       "0    38     36         1\n",
       "1    45     48         1\n",
       "2    44     44         1\n",
       "3    41     40         1\n",
       "4    47     45         0"
      ]
     },
     "execution_count": 112,
     "metadata": {},
     "output_type": "execute_result"
    }
   ],
   "source": [
    "X2 = X.iloc[:, selector.support_]\n",
    "X2.head()"
   ]
  },
  {
   "attachments": {},
   "cell_type": "markdown",
   "metadata": {
    "id": "xSjnZofsGlFj"
   },
   "source": [
    "***d. Now fit this reduced model to all the data, X2 and $y$. Then generate the predicted scores into a data structure named y_fit2.***"
   ]
  },
  {
   "attachments": {},
   "cell_type": "markdown",
   "metadata": {},
   "source": [
    "Reestablish 'Weight' column as our target variable, y and assign the three predictor variables to X2."
   ]
  },
  {
   "cell_type": "code",
   "execution_count": 113,
   "metadata": {},
   "outputs": [],
   "source": [
    "y = df['Weight']\n",
    "pred_vars2 = ['Hips', 'Chest', 'Gender_M']\n",
    "X2 = df[pred_vars2]"
   ]
  },
  {
   "cell_type": "code",
   "execution_count": 114,
   "metadata": {},
   "outputs": [
    {
     "data": {
      "text/html": [
       "<style>#sk-container-id-5 {color: black;background-color: white;}#sk-container-id-5 pre{padding: 0;}#sk-container-id-5 div.sk-toggleable {background-color: white;}#sk-container-id-5 label.sk-toggleable__label {cursor: pointer;display: block;width: 100%;margin-bottom: 0;padding: 0.3em;box-sizing: border-box;text-align: center;}#sk-container-id-5 label.sk-toggleable__label-arrow:before {content: \"▸\";float: left;margin-right: 0.25em;color: #696969;}#sk-container-id-5 label.sk-toggleable__label-arrow:hover:before {color: black;}#sk-container-id-5 div.sk-estimator:hover label.sk-toggleable__label-arrow:before {color: black;}#sk-container-id-5 div.sk-toggleable__content {max-height: 0;max-width: 0;overflow: hidden;text-align: left;background-color: #f0f8ff;}#sk-container-id-5 div.sk-toggleable__content pre {margin: 0.2em;color: black;border-radius: 0.25em;background-color: #f0f8ff;}#sk-container-id-5 input.sk-toggleable__control:checked~div.sk-toggleable__content {max-height: 200px;max-width: 100%;overflow: auto;}#sk-container-id-5 input.sk-toggleable__control:checked~label.sk-toggleable__label-arrow:before {content: \"▾\";}#sk-container-id-5 div.sk-estimator input.sk-toggleable__control:checked~label.sk-toggleable__label {background-color: #d4ebff;}#sk-container-id-5 div.sk-label input.sk-toggleable__control:checked~label.sk-toggleable__label {background-color: #d4ebff;}#sk-container-id-5 input.sk-hidden--visually {border: 0;clip: rect(1px 1px 1px 1px);clip: rect(1px, 1px, 1px, 1px);height: 1px;margin: -1px;overflow: hidden;padding: 0;position: absolute;width: 1px;}#sk-container-id-5 div.sk-estimator {font-family: monospace;background-color: #f0f8ff;border: 1px dotted black;border-radius: 0.25em;box-sizing: border-box;margin-bottom: 0.5em;}#sk-container-id-5 div.sk-estimator:hover {background-color: #d4ebff;}#sk-container-id-5 div.sk-parallel-item::after {content: \"\";width: 100%;border-bottom: 1px solid gray;flex-grow: 1;}#sk-container-id-5 div.sk-label:hover label.sk-toggleable__label {background-color: #d4ebff;}#sk-container-id-5 div.sk-serial::before {content: \"\";position: absolute;border-left: 1px solid gray;box-sizing: border-box;top: 0;bottom: 0;left: 50%;z-index: 0;}#sk-container-id-5 div.sk-serial {display: flex;flex-direction: column;align-items: center;background-color: white;padding-right: 0.2em;padding-left: 0.2em;position: relative;}#sk-container-id-5 div.sk-item {position: relative;z-index: 1;}#sk-container-id-5 div.sk-parallel {display: flex;align-items: stretch;justify-content: center;background-color: white;position: relative;}#sk-container-id-5 div.sk-item::before, #sk-container-id-5 div.sk-parallel-item::before {content: \"\";position: absolute;border-left: 1px solid gray;box-sizing: border-box;top: 0;bottom: 0;left: 50%;z-index: -1;}#sk-container-id-5 div.sk-parallel-item {display: flex;flex-direction: column;z-index: 1;position: relative;background-color: white;}#sk-container-id-5 div.sk-parallel-item:first-child::after {align-self: flex-end;width: 50%;}#sk-container-id-5 div.sk-parallel-item:last-child::after {align-self: flex-start;width: 50%;}#sk-container-id-5 div.sk-parallel-item:only-child::after {width: 0;}#sk-container-id-5 div.sk-dashed-wrapped {border: 1px dashed gray;margin: 0 0.4em 0.5em 0.4em;box-sizing: border-box;padding-bottom: 0.4em;background-color: white;}#sk-container-id-5 div.sk-label label {font-family: monospace;font-weight: bold;display: inline-block;line-height: 1.2em;}#sk-container-id-5 div.sk-label-container {text-align: center;}#sk-container-id-5 div.sk-container {/* jupyter's `normalize.less` sets `[hidden] { display: none; }` but bootstrap.min.css set `[hidden] { display: none !important; }` so we also need the `!important` here to be able to override the default hidden behavior on the sphinx rendered scikit-learn.org. See: https://github.com/scikit-learn/scikit-learn/issues/21755 */display: inline-block !important;position: relative;}#sk-container-id-5 div.sk-text-repr-fallback {display: none;}</style><div id=\"sk-container-id-5\" class=\"sk-top-container\"><div class=\"sk-text-repr-fallback\"><pre>LinearRegression()</pre><b>In a Jupyter environment, please rerun this cell to show the HTML representation or trust the notebook. <br />On GitHub, the HTML representation is unable to render, please try loading this page with nbviewer.org.</b></div><div class=\"sk-container\" hidden><div class=\"sk-item\"><div class=\"sk-estimator sk-toggleable\"><input class=\"sk-toggleable__control sk-hidden--visually\" id=\"sk-estimator-id-5\" type=\"checkbox\" checked><label for=\"sk-estimator-id-5\" class=\"sk-toggleable__label sk-toggleable__label-arrow\">LinearRegression</label><div class=\"sk-toggleable__content\"><pre>LinearRegression()</pre></div></div></div></div></div>"
      ],
      "text/plain": [
       "LinearRegression()"
      ]
     },
     "execution_count": 114,
     "metadata": {},
     "output_type": "execute_result"
    }
   ],
   "source": [
    "reg_model.fit(X2, y)"
   ]
  },
  {
   "attachments": {},
   "cell_type": "markdown",
   "metadata": {},
   "source": [
    "Check the coefficients with the new predictor variables:"
   ]
  },
  {
   "cell_type": "code",
   "execution_count": 115,
   "metadata": {},
   "outputs": [
    {
     "name": "stdout",
     "output_type": "stream",
     "text": [
      "intercept: -182.426 \n",
      "\n",
      "          Coefficients\n",
      "Hips          3.474910\n",
      "Chest         4.786842\n",
      "Gender_M     23.485107\n"
     ]
    }
   ],
   "source": [
    "print(\"intercept: %.3f\" % (reg_model.intercept_), \"\\n\")\n",
    "cdf = pd.DataFrame(reg_model.coef_, X2.columns, columns=['Coefficients'])\n",
    "print(cdf)"
   ]
  },
  {
   "attachments": {},
   "cell_type": "markdown",
   "metadata": {},
   "source": [
    "##### Generate forecasts"
   ]
  },
  {
   "cell_type": "code",
   "execution_count": 116,
   "metadata": {},
   "outputs": [],
   "source": [
    "y_fit2 = reg_model.predict(X2)"
   ]
  },
  {
   "attachments": {},
   "cell_type": "markdown",
   "metadata": {},
   "source": [
    "Put coefficients from 'before' and 'after' feature selection into its own data frame for comparison:"
   ]
  },
  {
   "cell_type": "code",
   "execution_count": 117,
   "metadata": {},
   "outputs": [
    {
     "data": {
      "text/html": [
       "<div>\n",
       "<style scoped>\n",
       "    .dataframe tbody tr th:only-of-type {\n",
       "        vertical-align: middle;\n",
       "    }\n",
       "\n",
       "    .dataframe tbody tr th {\n",
       "        vertical-align: top;\n",
       "    }\n",
       "\n",
       "    .dataframe thead th {\n",
       "        text-align: right;\n",
       "    }\n",
       "</style>\n",
       "<table border=\"1\" class=\"dataframe\">\n",
       "  <thead>\n",
       "    <tr style=\"text-align: right;\">\n",
       "      <th></th>\n",
       "      <th>Feature</th>\n",
       "      <th>Before</th>\n",
       "      <th>After</th>\n",
       "    </tr>\n",
       "  </thead>\n",
       "  <tbody>\n",
       "    <tr>\n",
       "      <th>0</th>\n",
       "      <td>Hips</td>\n",
       "      <td>2.137972</td>\n",
       "      <td>3.474910</td>\n",
       "    </tr>\n",
       "    <tr>\n",
       "      <th>1</th>\n",
       "      <td>Chest</td>\n",
       "      <td>3.353648</td>\n",
       "      <td>4.786842</td>\n",
       "    </tr>\n",
       "    <tr>\n",
       "      <th>2</th>\n",
       "      <td>Gender_M</td>\n",
       "      <td>6.508491</td>\n",
       "      <td>23.485107</td>\n",
       "    </tr>\n",
       "  </tbody>\n",
       "</table>\n",
       "</div>"
      ],
      "text/plain": [
       "    Feature    Before      After\n",
       "0      Hips  2.137972   3.474910\n",
       "1     Chest  3.353648   4.786842\n",
       "2  Gender_M  6.508491  23.485107"
      ]
     },
     "execution_count": 117,
     "metadata": {},
     "output_type": "execute_result"
    }
   ],
   "source": [
    "pd.DataFrame({'Feature': ['Hips', 'Chest', 'Gender_M'], 'Before': [2.137972, 3.353648, 6.508491], 'After': [3.474910, 4.786842, 23.485107]})"
   ]
  },
  {
   "attachments": {},
   "cell_type": "markdown",
   "metadata": {},
   "source": [
    "Coefficients increased for each variable, particularly Gender_M which increased from 6.5 to 23.485. "
   ]
  },
  {
   "attachments": {},
   "cell_type": "markdown",
   "metadata": {
    "id": "6a80gXYnGlFj"
   },
   "source": [
    "***e. Did fit suffer from reducing the number of features from 5 to 3? Comment.***"
   ]
  },
  {
   "attachments": {},
   "cell_type": "markdown",
   "metadata": {},
   "source": [
    "Run the fit metrics using y_fit2 to determine how fit was impacted by removing predictor variables:"
   ]
  },
  {
   "cell_type": "code",
   "execution_count": 118,
   "metadata": {},
   "outputs": [
    {
     "name": "stdout",
     "output_type": "stream",
     "text": [
      "MSE: 316.030\n",
      "Stdev of residuals: 17.777 \n",
      "R-squared: 0.840\n"
     ]
    }
   ],
   "source": [
    "from sklearn.metrics import mean_squared_error, r2_score\n",
    "mse = mean_squared_error(y, y_fit2)\n",
    "rsq = r2_score(y, y_fit2)\n",
    "print(\"MSE: %.3f\" % mse)\n",
    "se = np.sqrt(mse)\n",
    "print(\"Stdev of residuals: %.3f \" % se)\n",
    "print(\"R-squared: %.3f\" % rsq)"
   ]
  },
  {
   "attachments": {},
   "cell_type": "markdown",
   "metadata": {},
   "source": [
    "Stdev of residuals increased from 14.984 to 17.777, and R-squared reduced from 0.887 to 0.840, suggesting slightly poorer fit with the new features."
   ]
  },
  {
   "attachments": {},
   "cell_type": "markdown",
   "metadata": {},
   "source": [
    "Recalculate the variance inflation factors and relevance for the predictor variables:"
   ]
  },
  {
   "cell_type": "code",
   "execution_count": 119,
   "metadata": {},
   "outputs": [
    {
     "data": {
      "text/html": [
       "<div>\n",
       "<style scoped>\n",
       "    .dataframe tbody tr th:only-of-type {\n",
       "        vertical-align: middle;\n",
       "    }\n",
       "\n",
       "    .dataframe tbody tr th {\n",
       "        vertical-align: top;\n",
       "    }\n",
       "\n",
       "    .dataframe thead th {\n",
       "        text-align: right;\n",
       "    }\n",
       "</style>\n",
       "<table border=\"1\" class=\"dataframe\">\n",
       "  <thead>\n",
       "    <tr style=\"text-align: right;\">\n",
       "      <th></th>\n",
       "      <th>Predictor</th>\n",
       "      <th>VIF</th>\n",
       "      <th>Relevance</th>\n",
       "    </tr>\n",
       "  </thead>\n",
       "  <tbody>\n",
       "    <tr>\n",
       "      <th>0</th>\n",
       "      <td>Hips</td>\n",
       "      <td>192.682979</td>\n",
       "      <td>1.000</td>\n",
       "    </tr>\n",
       "    <tr>\n",
       "      <th>1</th>\n",
       "      <td>Chest</td>\n",
       "      <td>213.759829</td>\n",
       "      <td>0.622</td>\n",
       "    </tr>\n",
       "    <tr>\n",
       "      <th>2</th>\n",
       "      <td>Gender_M</td>\n",
       "      <td>5.277822</td>\n",
       "      <td>0.861</td>\n",
       "    </tr>\n",
       "  </tbody>\n",
       "</table>\n",
       "</div>"
      ],
      "text/plain": [
       "  Predictor         VIF  Relevance\n",
       "0      Hips  192.682979      1.000\n",
       "1     Chest  213.759829      0.622\n",
       "2  Gender_M    5.277822      0.861"
      ]
     },
     "execution_count": 119,
     "metadata": {},
     "output_type": "execute_result"
    }
   ],
   "source": [
    "vif = pd.DataFrame()\n",
    "vif['Predictor'] = X2.columns\n",
    "vif['VIF'] = [variance_inflation_factor(X2.values, i)\n",
    "for i in range(X2.shape[1])]\n",
    "cr = df.corr()['Weight'].round(3)\n",
    "vif['Relevance'] = [cr[i]\n",
    "for i in range(X2.shape[1])]\n",
    "vif"
   ]
  },
  {
   "attachments": {},
   "cell_type": "markdown",
   "metadata": {},
   "source": [
    "Variance inflation vactors dropped for each variable compared to the original model. We successfully reduced collinearity in the data, but the overall results from the model did not improve."
   ]
  }
 ],
 "metadata": {
  "colab": {
   "collapsed_sections": [],
   "name": "HW04WP_510.ipynb",
   "provenance": []
  },
  "kernelspec": {
   "display_name": "GSCM575-env",
   "language": "python",
   "name": "python3"
  },
  "language_info": {
   "codemirror_mode": {
    "name": "ipython",
    "version": 3
   },
   "file_extension": ".py",
   "mimetype": "text/x-python",
   "name": "python",
   "nbconvert_exporter": "python",
   "pygments_lexer": "ipython3",
   "version": "3.10.11"
  },
  "toc": {
   "base_numbering": 1,
   "nav_menu": {},
   "number_sections": true,
   "sideBar": false,
   "skip_h1_title": true,
   "title_cell": "",
   "title_sidebar": "Contents",
   "toc_cell": true,
   "toc_position": {},
   "toc_section_display": true,
   "toc_window_display": false
  },
  "vscode": {
   "interpreter": {
    "hash": "a87dc369cd14b942dbff8373bbfed58fbbccf4ffa1171535e30b698977cb5b70"
   }
  }
 },
 "nbformat": 4,
 "nbformat_minor": 4
}
